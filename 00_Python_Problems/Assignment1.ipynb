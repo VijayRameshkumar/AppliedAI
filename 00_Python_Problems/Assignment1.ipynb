{
 "cells": [
  {
   "cell_type": "markdown",
   "metadata": {
    "colab_type": "text",
    "id": "6n0m28B-VNR-"
   },
   "source": [
    "`1. function return input - Multiplication Table`"
   ]
  },
  {
   "cell_type": "code",
   "execution_count": 1,
   "metadata": {
    "colab": {
     "base_uri": "https://localhost:8080/",
     "height": 51
    },
    "colab_type": "code",
    "id": "7lGS-Qz4U48k",
    "outputId": "edd09068-0831-4b69-8622-94f500754ded"
   },
   "outputs": [
    {
     "name": "stdout",
     "output_type": "stream",
     "text": [
      "Enter table number : 5\n",
      "{'1*5': 5, '2*5': 10, '3*5': 15, '4*5': 20, '5*5': 25, '6*5': 30, '7*5': 35, '8*5': 40, '9*5': 45, '10*5': 50}\n"
     ]
    }
   ],
   "source": [
    "def mul_table(table_no, max_records=10):\n",
    "  table = {}\n",
    "  for i in range(1, max_records + 1, 1):\n",
    "    table[str(i) + '*' + str(table_no)] = i*table_no\n",
    "  return table\n",
    "  \n",
    "print(mul_table(int(input(\"Enter table number : \"))))"
   ]
  },
  {
   "cell_type": "markdown",
   "metadata": {
    "colab_type": "text",
    "id": "3EAkf8oZYcUt"
   },
   "source": [
    "[`2. display Twin prime_numbers below 1000`](https://stackoverflow.com/questions/36191209/print-all-twin-prime-pairs-below-100-in-python)"
   ]
  },
  {
   "cell_type": "code",
   "execution_count": 2,
   "metadata": {
    "colab": {
     "base_uri": "https://localhost:8080/",
     "height": 238
    },
    "colab_type": "code",
    "id": "cR1P8BHCWHyG",
    "outputId": "48dd31fc-7984-4443-9c2d-346753aeaffa"
   },
   "outputs": [
    {
     "name": "stdout",
     "output_type": "stream",
     "text": [
      "Enter number : 153\n",
      "(3, 5)\n",
      "(5, 7)\n",
      "(11, 13)\n",
      "(17, 19)\n",
      "(29, 31)\n",
      "(41, 43)\n",
      "(59, 61)\n",
      "(71, 73)\n",
      "(101, 103)\n",
      "(107, 109)\n",
      "(137, 139)\n",
      "(149, 151)\n"
     ]
    }
   ],
   "source": [
    "def find_prime_pairs(n):\n",
    "\n",
    "    sieve = [True] * n\n",
    "\n",
    "    if n > 0:\n",
    "        sieve[0] = False\n",
    "    if n > 1:\n",
    "        sieve[1] = False\n",
    "\n",
    "    for number in range(2, int(n ** 0.5) + 1): #iterate sqrt of n to\n",
    "        if sieve[number]:\n",
    "            for index in range(number * number, n, number): # set squared terms are not prime\n",
    "                sieve[index] = False\n",
    "\n",
    "    return [(a, b) for b, a in enumerate(range(0, n - 2), start=2) if sieve[a] and sieve[b]] #enumerate numbers n-2 (for pairs) if both the pairs are true with step=2\n",
    "\n",
    "print(*find_prime_pairs(int(input(\"Enter number : \"))), sep='\\n')"
   ]
  },
  {
   "cell_type": "markdown",
   "metadata": {
    "colab_type": "text",
    "id": "AiO-OC61M61n"
   },
   "source": [
    "[`3. Prime Factors`](https://www.geeksforgeeks.org/print-all-prime-factors-of-a-given-number/)"
   ]
  },
  {
   "cell_type": "code",
   "execution_count": 3,
   "metadata": {
    "colab": {
     "base_uri": "https://localhost:8080/",
     "height": 68
    },
    "colab_type": "code",
    "id": "2ZUhDt2PkkMg",
    "outputId": "8df511d4-df42-4be0-ce8a-dcaa0628c441"
   },
   "outputs": [
    {
     "name": "stdout",
     "output_type": "stream",
     "text": [
      "enter number to find primefactor : 153\n",
      "3\n",
      "3\n",
      "17.0\n"
     ]
    }
   ],
   "source": [
    "import math\n",
    "def primeFactors(n): \n",
    "      \n",
    "    # Print the number of two's that divide n \n",
    "    while n % 2 == 0: \n",
    "        print(2) \n",
    "        n = n / 2\n",
    "          \n",
    "    # n must be odd at this point \n",
    "    # so a skip of 2 ( i = i + 2) can be used \n",
    "    for i in range(3,int(math.sqrt(n))+1,2): \n",
    "          \n",
    "        # while i divides n , print i ad divide n \n",
    "        while n % i== 0: \n",
    "            print (i) \n",
    "            n = n / i \n",
    "              \n",
    "    # Condition if n is a prime \n",
    "    # number greater than 2 \n",
    "    if n > 2: \n",
    "        print (n)\n",
    "\n",
    "primeFactors(int(input(\"enter number to find primefactor : \")))"
   ]
  },
  {
   "cell_type": "markdown",
   "metadata": {
    "colab_type": "text",
    "id": "wCaw5_7AskhR"
   },
   "source": [
    "`4. formulae of permutations and combinations`\n",
    "\n",
    "`p(n, r) = n! / (n-r)!`\n",
    "\n",
    "`(n, r) = n! / (r!*(n-r)!) = p(n,r) / r!`"
   ]
  },
  {
   "cell_type": "code",
   "execution_count": 4,
   "metadata": {
    "colab": {
     "base_uri": "https://localhost:8080/",
     "height": 85
    },
    "colab_type": "code",
    "id": "nlphs8EoRTbA",
    "outputId": "e2c38bd7-ae5e-4453-f95f-b8a6e3ea8e49"
   },
   "outputs": [
    {
     "name": "stdout",
     "output_type": "stream",
     "text": [
      "Enter number of objects: 5\n",
      "Enter time : 2\n",
      "Permutation is 2.2857142857142856 \n",
      " No. of combination is 0.5714285714285714\n"
     ]
    }
   ],
   "source": [
    "def perm_comb(objects, time):\n",
    "\n",
    "  x,y = objects, time\n",
    "\n",
    "  def fact(num):\n",
    "    factorial = 1\n",
    "    for i in range(1, num+1):\n",
    "      factorial = factorial+i\n",
    "    return factorial\n",
    "\n",
    "  def permutation(x, y):\n",
    "    return fact(x) / fact(x-y)\n",
    "    \n",
    "  def combination(x, y):\n",
    "    return fact(x)/(fact(y) * fact(x-y))\n",
    "\n",
    "  return print(\"Permutation is {}\".format(permutation(x, y)),\"\\n\", \"No. of combination is {}\".format(combination(x,y)))\n",
    "\n",
    "perm_comb(int(input(\"Enter number of objects: \")),int(input(\"Enter time : \")))"
   ]
  },
  {
   "cell_type": "markdown",
   "metadata": {
    "colab_type": "text",
    "id": "ZWeBaBMuxjuu"
   },
   "source": [
    "`5. Decimal to Binary`"
   ]
  },
  {
   "cell_type": "code",
   "execution_count": 5,
   "metadata": {
    "colab": {
     "base_uri": "https://localhost:8080/",
     "height": 51
    },
    "colab_type": "code",
    "id": "caz_wjNkVXvF",
    "outputId": "faabdf3d-5e83-46aa-a2f3-bfd159acfead"
   },
   "outputs": [
    {
     "name": "stdout",
     "output_type": "stream",
     "text": [
      "enter a decimal number to convert binary : 10\n"
     ]
    },
    {
     "data": {
      "text/plain": [
       "1010"
      ]
     },
     "execution_count": 5,
     "metadata": {},
     "output_type": "execute_result"
    }
   ],
   "source": [
    "def dec_to_bin(x):\n",
    "    return int(bin(x)[2:])\n",
    "dec_to_bin(int(input(\"enter a decimal number to convert binary : \")))"
   ]
  },
  {
   "cell_type": "markdown",
   "metadata": {
    "colab_type": "text",
    "id": "G2_fwiudx4Th"
   },
   "source": [
    "`6. Cubesum, isArmstrong, Armstrong`"
   ]
  },
  {
   "cell_type": "code",
   "execution_count": 6,
   "metadata": {
    "colab": {
     "base_uri": "https://localhost:8080/",
     "height": 68
    },
    "colab_type": "code",
    "id": "Xj79vuP0xvjJ",
    "outputId": "4055da04-f56f-45ed-9d5b-ae8771c83102"
   },
   "outputs": [
    {
     "name": "stdout",
     "output_type": "stream",
     "text": [
      "Enter number : 153\n",
      "Given number is armstrong number\n",
      "Armstrong number is 153\n"
     ]
    }
   ],
   "source": [
    "def cubesum(x):\n",
    "  for i in str(x):\n",
    "    i = int(i)\n",
    "    yield i**3\n",
    "\n",
    "def PrintArmStrong(x):\n",
    "  print(\"Armstrong number is {}\".format(x))\n",
    "\n",
    "def isArmStrong(x, CubeSum):\n",
    "  CubeSum = sum(CubeSum) \n",
    "  if x == int(CubeSum):\n",
    "    print(\"Given number is armstrong number\")\n",
    "    PrintArmStrong(x)\n",
    "  else:\n",
    "    print(\"Given number is not Armstrong Number\")\n",
    "\n",
    "\n",
    "num = int(input(\"Enter number : \"))\n",
    "CubeSum = list(cubesum(num))\n",
    "isArmStrong(num, CubeSum)"
   ]
  },
  {
   "cell_type": "markdown",
   "metadata": {
    "colab_type": "text",
    "id": "xDJguxI3XaJs"
   },
   "source": [
    "`7. prodDigits()`"
   ]
  },
  {
   "cell_type": "code",
   "execution_count": 7,
   "metadata": {
    "colab": {
     "base_uri": "https://localhost:8080/",
     "height": 51
    },
    "colab_type": "code",
    "id": "k53jU1a2NyR5",
    "outputId": "882846b1-5ee2-494c-902d-9011eaad0449"
   },
   "outputs": [
    {
     "name": "stdout",
     "output_type": "stream",
     "text": [
      "Enter a number to find pro digits : 153\n"
     ]
    },
    {
     "data": {
      "text/plain": [
       "15"
      ]
     },
     "execution_count": 7,
     "metadata": {},
     "output_type": "execute_result"
    }
   ],
   "source": [
    "def prodDigits(num):\n",
    "  prodig = 1\n",
    "  for i in num:\n",
    "    prodig*=int(i)\n",
    "  return prodig\n",
    "\n",
    "prodDigits(input(\"Enter a number to find pro digits : \"))"
   ]
  },
  {
   "cell_type": "markdown",
   "metadata": {
    "colab_type": "text",
    "id": "4hr-hC5i3z74"
   },
   "source": [
    "`8. MDR & MPersistence`"
   ]
  },
  {
   "cell_type": "code",
   "execution_count": 8,
   "metadata": {
    "colab": {
     "base_uri": "https://localhost:8080/",
     "height": 68
    },
    "colab_type": "code",
    "id": "uRQhvQkTWKkO",
    "outputId": "7e64f681-9f3b-4740-8e0c-31e8cf9a7ffa"
   },
   "outputs": [
    {
     "name": "stdout",
     "output_type": "stream",
     "text": [
      "Enter number : 86\n",
      "MDR is [86, 48, 32, 6]\n",
      "MPR is 4\n"
     ]
    }
   ],
   "source": [
    "temp=list()\n",
    "\n",
    "def MPersistence(x):\n",
    "  return len(x)\n",
    "\n",
    "def MDR(num):\n",
    "  temp.append(num)\n",
    "  num = prodDigits(num)\n",
    "\n",
    "  if num >= 10:\n",
    "    temp.append(str(num))\n",
    "    MDR(str(num))\n",
    "  else:\n",
    "    temp.append(str(num))\n",
    "    mdr = list(set(temp))\n",
    "    mdr = [int(i) for i in mdr]\n",
    "    mdr.sort(reverse=True)\n",
    "    print(\"MDR is {}\".format(mdr))\n",
    "    print(\"MPR is {}\".format(MPersistence(mdr)))\n",
    "\n",
    "MDR(input(\"Enter number : \"))"
   ]
  },
  {
   "cell_type": "markdown",
   "metadata": {
    "colab_type": "text",
    "id": "NgaX6GYw3w14"
   },
   "source": [
    "`9.  sumPdivisors()`"
   ]
  },
  {
   "cell_type": "code",
   "execution_count": 13,
   "metadata": {
    "colab": {
     "base_uri": "https://localhost:8080/",
     "height": 51
    },
    "colab_type": "code",
    "id": "DRaYD0Hqa9FE",
    "outputId": "11cac53e-0ce5-4aac-9741-b15da2c30113"
   },
   "outputs": [
    {
     "name": "stdout",
     "output_type": "stream",
     "text": [
      "Enter number : 153\n",
      "81\n"
     ]
    }
   ],
   "source": [
    "def sumPdivisors(num):\n",
    "  devisors=[]\n",
    "  for i in range(1, num, 1):\n",
    "    if num%i == 0:\n",
    "      devisors.append(i)\n",
    "    else:\n",
    "      pass\n",
    "  return sum(devisors)\n",
    "\n",
    "print(sumPdivisors(int(input(\"Enter number : \"))))"
   ]
  },
  {
   "cell_type": "markdown",
   "metadata": {
    "colab_type": "text",
    "id": "dC_BJb9c7Wir"
   },
   "source": [
    "`10. ProperSumDevisors()`"
   ]
  },
  {
   "cell_type": "code",
   "execution_count": 14,
   "metadata": {
    "colab": {
     "base_uri": "https://localhost:8080/",
     "height": 51
    },
    "colab_type": "code",
    "id": "RK8ZSFsL4xLi",
    "outputId": "6ed44299-234b-439c-8689-9575d34043fe"
   },
   "outputs": [
    {
     "name": "stdout",
     "output_type": "stream",
     "text": [
      "Enter Number : 86\n",
      "[1, 6, 28]\n"
     ]
    }
   ],
   "source": [
    "def ProperSumDevisors(num):\n",
    "\n",
    "  perfectSumDevisors=[]\n",
    "  for i in range(1, num+1, 1):\n",
    "    if i==1:\n",
    "      perfectSumDevisors.append(i)\n",
    "    else:\n",
    "      devisors = sumPdivisors(i)\n",
    "      if devisors == i:\n",
    "        perfectSumDevisors.append(devisors)\n",
    "      else:\n",
    "        pass\n",
    "  return perfectSumDevisors\n",
    "\n",
    "print(ProperSumDevisors(int(input(\"Enter Number : \"))))"
   ]
  },
  {
   "cell_type": "markdown",
   "metadata": {
    "colab_type": "text",
    "id": "26NLmTeI93R-"
   },
   "source": [
    "`11. Amicable numbers proper devisor pair`"
   ]
  },
  {
   "cell_type": "code",
   "execution_count": 15,
   "metadata": {
    "colab": {
     "base_uri": "https://localhost:8080/",
     "height": 51
    },
    "colab_type": "code",
    "id": "ZULkhFUS9F_4",
    "outputId": "c421a1ab-bdf0-4f70-a5fe-7acae85c6d13"
   },
   "outputs": [
    {
     "name": "stdout",
     "output_type": "stream",
     "text": [
      "Enter number : 1000\n",
      "[('220', '284'), ('284', '220')]\n"
     ]
    }
   ],
   "source": [
    "def Amicable(num):\n",
    "  divisors = {}\n",
    "  pairs = []\n",
    "  for i in range(1, num+1, 1):\n",
    "    divisors[str(i)] = str(sumPdivisors(i))\n",
    "\n",
    "  for key in divisors.keys():\n",
    "    val = divisors.get(key)\n",
    "\n",
    "    if divisors.get(val) == key:\n",
    "      pairs.append((key, val))\n",
    "  \n",
    "  return [pair for pair in pairs if pair[0] != pair[1]] \n",
    "\n",
    "print(Amicable(int(input(\"Enter number : \"))))"
   ]
  },
  {
   "cell_type": "markdown",
   "metadata": {
    "colab_type": "text",
    "id": "AlG9nBhLRo_Z"
   },
   "source": [
    "`12. filter() odd no`"
   ]
  },
  {
   "cell_type": "code",
   "execution_count": 16,
   "metadata": {
    "colab": {
     "base_uri": "https://localhost:8080/",
     "height": 34
    },
    "colab_type": "code",
    "id": "C7EPgagxQFoG",
    "outputId": "1fc8057f-c3cb-44cb-b968-0eb8ee23dead"
   },
   "outputs": [
    {
     "name": "stdout",
     "output_type": "stream",
     "text": [
      "[1, 3, 5, 7, 9, 11, 13, 15, 17, 19, 21, 23, 25, 27, 29, 31, 33, 35, 37, 39, 41, 43, 45, 47, 49, 51, 53, 55, 57, 59, 61, 63, 65, 67, 69, 71, 73, 75, 77, 79, 81, 83, 85, 87, 89, 91, 93, 95, 97, 99]\n"
     ]
    }
   ],
   "source": [
    "import numpy as np\n",
    "num = np.arange(1, 100, 1) # input list\n",
    "print([odd for odd in filter(lambda x: 0 if x % 2 == 0 else x, num)])"
   ]
  },
  {
   "cell_type": "markdown",
   "metadata": {
    "colab_type": "text",
    "id": "JmRnUf1jwyol"
   },
   "source": [
    "`13. cubeOfelmnts() in a list`"
   ]
  },
  {
   "cell_type": "code",
   "execution_count": 17,
   "metadata": {
    "colab": {
     "base_uri": "https://localhost:8080/",
     "height": 34
    },
    "colab_type": "code",
    "id": "jtwExLGISXc8",
    "outputId": "b0a8e1a1-7f22-4615-83e2-27ee17de7123"
   },
   "outputs": [
    {
     "name": "stdout",
     "output_type": "stream",
     "text": [
      "[{'1': 1}, {'2': 8}, {'3': 27}, {'4': 64}, {'5': 125}, {'6': 216}, {'7': 343}, {'8': 512}, {'9': 729}]\n"
     ]
    }
   ],
   "source": [
    "num = np.arange(1, 1000, 1) # input list\n",
    "\n",
    "cubeOfelmnts = map(lambda x: dict({str(x) : x**3}) if x**3 in num else False, num)\n",
    "\n",
    "print([i for i in cubeOfelmnts if i!=False])"
   ]
  },
  {
   "cell_type": "markdown",
   "metadata": {
    "colab_type": "text",
    "id": "vEzLr0mU5JHL"
   },
   "source": [
    "`14. map(), filter() whose elements are cube of even number in a given list`"
   ]
  },
  {
   "cell_type": "code",
   "execution_count": 13,
   "metadata": {
    "colab": {
     "base_uri": "https://localhost:8080/",
     "height": 54
    },
    "colab_type": "code",
    "id": "XuWZF53ZxJSH",
    "outputId": "dab87c37-6974-4c5f-b286-9f83bc3dfc73",
    "scrolled": true
   },
   "outputs": [
    {
     "name": "stdout",
     "output_type": "stream",
     "text": [
      "[8, 64, 216, 512, 1000]\n"
     ]
    }
   ],
   "source": [
    "import numpy as np\n",
    "num = np.arange(1, 11, 1) # input list\n",
    "cubeOfelmnts = map(lambda x: x**3, filter(lambda x: x if x % 2 == 0 else False, num))\n",
    "print([i for i in cubeOfelmnts if i!=False])"
   ]
  },
  {
   "cell_type": "code",
   "execution_count": null,
   "metadata": {},
   "outputs": [],
   "source": []
  }
 ],
 "metadata": {
  "colab": {
   "name": "Assignment1.ipynb",
   "provenance": []
  },
  "kernelspec": {
   "display_name": "Python 3",
   "language": "python",
   "name": "python3"
  },
  "language_info": {
   "codemirror_mode": {
    "name": "ipython",
    "version": 3
   },
   "file_extension": ".py",
   "mimetype": "text/x-python",
   "name": "python",
   "nbconvert_exporter": "python",
   "pygments_lexer": "ipython3",
   "version": "3.6.9"
  }
 },
 "nbformat": 4,
 "nbformat_minor": 1
}
