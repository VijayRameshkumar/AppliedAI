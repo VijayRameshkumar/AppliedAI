{
 "cells": [
  {
   "cell_type": "markdown",
   "metadata": {
    "colab_type": "text",
    "id": "l0ZzOlyxB-kf"
   },
   "source": [
    "<h1>Python: without numpy or sklearn </h1>"
   ]
  },
  {
   "cell_type": "markdown",
   "metadata": {
    "colab_type": "text",
    "id": "C0xO8JV9B-ki"
   },
   "source": [
    "<h3> Q1: Given two matrices please print the product of those two matrices </h3>\n",
    "<pre>\n",
    "\n",
    "Ex 1: A   = [[1 3 4]\n",
    "             [2 5 7]\n",
    "             [5 9 6]]\n",
    "      B   = [[1 0 0]\n",
    "             [0 1 0]\n",
    "             [0 0 1]]\n",
    "      A*B = [[1 3 4]\n",
    "             [2 5 7]\n",
    "             [5 9 6]]\n",
    "\n",
    "     \n",
    "Ex 2: A   = [[1 2]\n",
    "             [3 4]]\n",
    "      B   = [[1 2 3 4 5]\n",
    "             [5 6 7 8 9]]\n",
    "      A*B = [[11 14 17 20 23]\n",
    "             [18 24 30 36 42]]\n",
    "             \n",
    "Ex 3: A   = [[1 2]\n",
    "             [3 4]]\n",
    "      B   = [[1 4]\n",
    "             [5 6]\n",
    "             [7 8]\n",
    "             [9 6]]\n",
    "      A*B =Not possible\n",
    "</pre>"
   ]
  },
  {
   "cell_type": "code",
   "execution_count": 1,
   "metadata": {
    "colab": {},
    "colab_type": "code",
    "id": "rnssAfpgB-kj"
   },
   "outputs": [
    {
     "name": "stdout",
     "output_type": "stream",
     "text": [
      "Given A matrix is 2 * 2 matrix\n",
      "Given B matrix is 2 * 5 matrix\n",
      "Resultant matrix is 2 * 5 matrix\n"
     ]
    },
    {
     "data": {
      "text/plain": [
       "[[11, 14, 17, 20, 23], [23, 30, 37, 44, 51]]"
      ]
     },
     "execution_count": 1,
     "metadata": {},
     "output_type": "execute_result"
    }
   ],
   "source": [
    "def matrix_mul(A, B):\n",
    "    print(\"Given A matrix is {} * {} matrix\".format(len(A), len(A[0])))\n",
    "    print(\"Given B matrix is {} * {} matrix\".format(len(B), len(B[0])))\n",
    "    \n",
    "    records_A = len(A)\n",
    "    columns_B = len(B[0])\n",
    "    rows_B = len(B)\n",
    "    \n",
    "    if len(A[0]) != len(B):\n",
    "        print(\"Not possible\")\n",
    "        \n",
    "    else:\n",
    "        print(\"Resultant matrix is {} * {} matrix\".format(records_A , columns_B))\n",
    "\n",
    "        matrix = []\n",
    "\n",
    "        for i in range(records_A):\n",
    "            matrix.append([int(i) for i in ['0']*columns_B])\n",
    "\n",
    "        for i in range(records_A): \n",
    "            # iterating by coloum by B  \n",
    "            for j in range(columns_B): \n",
    "                # iterating by rows of B \n",
    "                for k in range(rows_B): \n",
    "                    matrix[i][j] += A[i][k] * B[k][j]\n",
    "        return matrix\n",
    "    \n",
    "#Note: Above example answer is wrong for below first one, I've cross checked with online calculator\n",
    "\n",
    "A   = [[1, 2],\n",
    "       [3, 4]]\n",
    "B   = [[1, 2, 3, 4, 5],\n",
    "       [5, 6, 7, 8, 9]]\n",
    "\n",
    "# A   = [[1, 2],[3, 4]]\n",
    "# B   = [[1, 4], [5, 6], [7, 8], [9, 6]]\n",
    "\n",
    "# A   = [[1, 3, 4], [2, 5, 7], [5, 9, 6]]\n",
    "# B   = [[1, 0, 0], [0, 1, 0], [0, 0, 1]]\n",
    "\n",
    "matrix_mul(A, B)\n",
    "\n"
   ]
  },
  {
   "cell_type": "markdown",
   "metadata": {
    "colab_type": "text",
    "id": "at4VwLggB-kn"
   },
   "source": [
    "<h3> Q2: Select a number randomly with probability proportional to its magnitude from the given array of n elements</h3>\n",
    "\n",
    "consider an experiment, selecting an element from the list A randomly with probability proportional to its magnitude.\n",
    "assume we are doing the same experiment for 100 times with replacement, in each experiment you will print a number that is selected randomly from A.\n",
    "\n",
    "<pre>\n",
    "Ex 1: A = [0 5 27 6 13 28 100 45 10 79]\n",
    "let f(x) denote the number of times x getting selected in 100 experiments.\n",
    "f(100) > f(79) > f(45) > f(28) > f(27) > f(13) > f(10) > f(6) > f(5) > f(0)\n",
    "</pre>"
   ]
  },
  {
   "cell_type": "code",
   "execution_count": 2,
   "metadata": {
    "colab": {},
    "colab_type": "code",
    "id": "B6S2dpBhB-kn"
   },
   "outputs": [
    {
     "name": "stdout",
     "output_type": "stream",
     "text": [
      "[79, 79, 79, 100, 79, 79, 100, 79, 45, 27, 79, 100, 28, 13, 45, 100, 45, 79, 79, 79, 100, 79, 79, 79, 28, 45, 45, 100, 100, 10, 79, 28, 100, 79, 79, 79, 45, 100, 100, 100, 100, 79, 100, 10, 27, 79, 27, 27, 100, 100, 100, 28, 100, 27, 100, 100, 79, 45, 100, 13, 79, 10, 79, 100, 28, 79, 45, 10, 45, 79, 28, 100, 79, 28, 13, 100, 28, 100, 100, 100, 79, 100, 28, 45, 45, 100, 100, 45, 100, 100, 45, 79, 79, 100, 100, 45, 79, 100, 28, 79]\n"
     ]
    }
   ],
   "source": [
    "import random\n",
    "from random import uniform\n",
    "\n",
    "A = [0, 5, 27, 6, 13, 28, 100, 45, 10, 79]\n",
    "\n",
    "def random_sampling_based_on_magnitued(x):\n",
    "    x.sort()\n",
    "    weights = [i/sum(x) for i in x]\n",
    "    return random.choices(x,weights,k=100)\n",
    "\n",
    "print(random_sampling_based_on_magnitued(A))"
   ]
  },
  {
   "cell_type": "markdown",
   "metadata": {
    "colab_type": "text",
    "id": "D1xQy2WWB-kq"
   },
   "source": [
    "<h3> Q3: Replace the digits in the string with #</h3>\n",
    "\n",
    "consider a string that will have digits in that, we need to remove all the not digits and replace the digits with #\n",
    "<pre>\n",
    "Ex 1: A = 234                Output: ###\n",
    "Ex 2: A = a2b3c4             Output: ###\n",
    "Ex 3: A = abc                Output:   (empty string)\n",
    "Ex 5: A = #2a$#b%c%561#      Output: ####\n",
    "</pre>"
   ]
  },
  {
   "cell_type": "code",
   "execution_count": 3,
   "metadata": {
    "colab": {},
    "colab_type": "code",
    "id": "fxczi2jzB-kr"
   },
   "outputs": [
    {
     "data": {
      "text/plain": [
       "'####'"
      ]
     },
     "execution_count": 3,
     "metadata": {},
     "output_type": "execute_result"
    }
   ],
   "source": [
    "import re\n",
    "\n",
    "def replace_digits(A):\n",
    "    A = re.sub('[A-Za-z]+',\"\", A)\n",
    "\n",
    "    if len(A) > 0:\n",
    "        A = re.sub(\"\\W\", \"\", A, flags=re.I)\n",
    "        A = re.sub(\"\\d\",'#', A)\n",
    "        return A\n",
    "\n",
    "    else:\n",
    "        return print('empty string')\n",
    "\n",
    "String = \"#2a$#b%c%561#\"      #Output: ####\n",
    "\n",
    "replace_digits(String)"
   ]
  },
  {
   "cell_type": "markdown",
   "metadata": {
    "colab_type": "text",
    "id": "j7h0Ywg7B-kw"
   },
   "source": [
    "<h3> Q4: Students marks dashboard</h3>\n",
    "\n",
    "consider the marks list of class students given two lists <br>\n",
    "Students = ['student1','student2','student3','student4','student5','student6','student7','student8','student9','student10'] <br>\n",
    "Marks = [45, 78, 12, 14, 48, 43, 45, 98, 35, 80] <br>\n",
    "from the above two lists the Student[0] got Marks[0],  Student[1] got Marks[1] and so on <br><br>\n",
    "your task is to print the name of students\n",
    "<strong>a. Who got top 5 ranks, in the descending order of marks</strong> <br>\n",
    "<strong>b. Who got least 5 ranks, in the increasing order of marks</strong><br>\n",
    "<strong>d. Who got marks between  &gt;25th percentile &lt;75th percentile, in the increasing order of marks</strong>\n",
    "\n",
    "<pre>\n",
    "Ex 1: \n",
    "Students=['student1','student2','student3','student4','student5','student6','student7','student8','student9','student10'] \n",
    "Marks = [45, 78, 12, 14, 48, 43, 47, 98, 35, 80]\n",
    "a. \n",
    "student8  98\n",
    "student10 80\n",
    "student2  78\n",
    "student5  48\n",
    "student7  47\n",
    "b.\n",
    "student3 12\n",
    "student4 14\n",
    "student9 35\n",
    "student6 43\n",
    "student1 45\n",
    "c.\n",
    "student9 35\n",
    "student6 43\n",
    "student1 45\n",
    "student7 47\n",
    "student5 48\n",
    "</pre>"
   ]
  },
  {
   "cell_type": "code",
   "execution_count": 4,
   "metadata": {
    "colab": {},
    "colab_type": "code",
    "id": "cxPJgItsB-kx"
   },
   "outputs": [
    {
     "name": "stdout",
     "output_type": "stream",
     "text": [
      "[('student8', 98), ('student10', 80), ('student2', 78), ('student5', 48), ('student7', 47)] \n",
      " [('student3', 12), ('student4', 14), ('student9', 35), ('student6', 43), ('student1', 45)] \n",
      " {'student9': 35, 'student6': 43, 'student1': 45, 'student7': 47, 'student5': 48} \n",
      "\n"
     ]
    }
   ],
   "source": [
    "import math\n",
    "\n",
    "Students=['student1','student2','student3','student4','student5','student6','student7','student8','student9','student10'] \n",
    "Marks = [45, 78, 12, 14, 48, 43, 47, 98, 35, 80]\n",
    "\n",
    "\n",
    "def percentile(marks, length):\n",
    "    percentiles=list()\n",
    "    size = len(marks)\n",
    "    for j in range(length[0], length[1]): \n",
    "        percentiles.append(sorted(marks)[int(math.ceil((size * j) / 100)) - 1])\n",
    "    return sorted(list(set(percentiles)))[:5]\n",
    "\n",
    "def display_dash_board(students, marks): \n",
    "    d=dict(zip(students, marks))\n",
    "\n",
    "    # write code for computing top top 5 students\n",
    "    top_5_students = sorted(d.items(), key=lambda x: x[1], reverse=True)[:5]\n",
    "    \n",
    "    # write code for computing top least 5 students\n",
    "    least_5_students = sorted(d.items(), key=lambda x: x[1], reverse=False)[:5]\n",
    "    \n",
    "    # write code for computing top least 5 students\n",
    "    index = [marks.index(i) for i in percentile(marks, (25,76))]\n",
    "    d = dict(zip(marks, students))\n",
    "    marks_percntle = sorted([marks[i] for i in index])\n",
    "    stdns_percntle = [d.get(i) for i in marks_percntle]\n",
    "    students_within_25_and_75 = dict(zip(stdns_percntle, marks_percntle))\n",
    "    \n",
    "    return top_5_students, least_5_students, students_within_25_and_75\n",
    "\n",
    "\n",
    "\n",
    "top_5_students, least_5_students, students_within_25_and_75 = display_dash_board(Students, Marks)\n",
    "\n",
    "print(top_5_students, \"\\n\", least_5_students, \"\\n\", students_within_25_and_75, \"\\n\")"
   ]
  },
  {
   "cell_type": "markdown",
   "metadata": {
    "colab_type": "text",
    "id": "qha0OhQHB-k1"
   },
   "source": [
    "<h3> Q5: Find the closest points</h3>\n",
    "\n",
    "consider you have given n data points in the form of list of tuples like S=[(x1,y1),(x2,y2),(x3,y3),(x4,y4),(x5,y5),..,(xn,yn)] and a point P=(p,q) <br> your task is to find 5 closest points(based on cosine distance) in S from P\n",
    "<br>cosine distance between two points (x,y) and (p,q) is defind as $cos^{-1}(\\frac{(x\\cdot p+y\\cdot q)}{\\sqrt(x^2+y^2)\\cdot\\sqrt(p^2+q^2)})$\n",
    "<pre>\n",
    "Ex:\n",
    "\n",
    "S= [(1,2),(3,4),(-1,1),(6,-7),(0, 6),(-5,-8),(-1,-1)(6,0),(1,-1)]\n",
    "P= (3,-4)\n",
    "<img src='https://i.imgur.com/vIFPOcG.jpg', width=300>\n",
    "Output:\n",
    "(6,-7)\n",
    "(1,-1)\n",
    "(6,0)\n",
    "(-5,-8)\n",
    "(-1,-1)\n",
    "</pre>"
   ]
  },
  {
   "cell_type": "code",
   "execution_count": 5,
   "metadata": {
    "colab": {},
    "colab_type": "code",
    "id": "wA5I1g-2B-k2"
   },
   "outputs": [
    {
     "name": "stdout",
     "output_type": "stream",
     "text": [
      "[(6, -7), (1, -1), (6, 0), (-5, -8), (-1, -1)]\n"
     ]
    }
   ],
   "source": [
    "import math\n",
    "\n",
    "def closest_points_to_p(X, Y):\n",
    "    nearest_points=[]\n",
    "    p, q = Y\n",
    "    for i in X:\n",
    "        x, y = i[0], i[1]\n",
    "        temp1 = (𝑥*𝑝+𝑦*𝑞)\n",
    "        temp2 = (math.sqrt(𝑥**2+𝑦**2))*(math.sqrt(𝑝**2+q**2))\n",
    "        coords = math.acos(temp1 /temp2)\n",
    "        nearest_points.append([i, coords])\n",
    "    nearest_points.sort(key=lambda x: x[1])\n",
    "    return [i[0] for i in nearest_points][:5]\n",
    "\n",
    "S = [(1,2), (3,4), (-1,1), (6,-7), (0, 6), (-5,-8), (-1,-1), (6,0), (1,-1)]\n",
    "P = (3,-4)\n",
    "points = closest_points_to_p(S, P)\n",
    "print(points)"
   ]
  },
  {
   "cell_type": "markdown",
   "metadata": {
    "colab_type": "text",
    "id": "-g11jeAiB-k5"
   },
   "source": [
    "<h3> Q6: Find Which line separates oranges and apples</h3>\n",
    "consider you have given two set of data points in the form of list of tuples like \n",
    "<pre>\n",
    "Red =[(R11,R12),(R21,R22),(R31,R32),(R41,R42),(R51,R52),..,(Rn1,Rn2)]\n",
    "Blue=[(B11,B12),(B21,B22),(B31,B32),(B41,B42),(B51,B52),..,(Bm1,Bm2)]\n",
    "</pre>\n",
    "and set of line equations(in the string formate, i.e list of strings)\n",
    "<pre>\n",
    "Lines = [a1x+b1y+c1,a2x+b2y+c2,a3x+b3y+c3,a4x+b4y+c4,..,K lines]\n",
    "Note: you need to string parsing here and get the coefficients of x,y and intercept\n",
    "</pre>\n",
    "your task is to for each line that is given print \"YES\"/\"NO\", you will print yes, if all the red points are one side of the line and blue points are other side of the line, otherwise no\n",
    "<pre>\n",
    "Ex:\n",
    "Red= [(1,1),(2,1),(4,2),(2,4), (-1,4)]\n",
    "Blue= [(-2,-1),(-1,-2),(-3,-2),(-3,-1),(1,-3)]\n",
    "Lines=[\"1x+1y+0\",\"1x-1y+0\",\"1x+0y-3\",\"0x+1y-0.5\"]\n",
    "<img src='https://i.imgur.com/DoQf7mE.jpg' width=400>\n",
    "Output:\n",
    "YES\n",
    "NO\n",
    "NO\n",
    "YES\n",
    "</pre>"
   ]
  },
  {
   "cell_type": "code",
   "execution_count": 6,
   "metadata": {
    "colab": {},
    "colab_type": "code",
    "id": "eRxExaTRB-k6"
   },
   "outputs": [
    {
     "name": "stdout",
     "output_type": "stream",
     "text": [
      "YES\n",
      "NO\n",
      "NO\n",
      "YES\n"
     ]
    }
   ],
   "source": [
    "import math\n",
    "import re\n",
    "\n",
    "def i_am_the_one(red,blue,line):\n",
    "    a,b,c = line[0], line[1], line[2]\n",
    "    r, bl = [],[]\n",
    "    \n",
    "    sign = lambda x: True if x>0 else False if x<0 else 0\n",
    "    \n",
    "    for i in red:\n",
    "        x,y = float(i[0]),float(i[1]) \n",
    "        temp = a*x+b*y+c\n",
    "        r.append(sign(temp))    \n",
    "    for i in blue:\n",
    "        x,y = float(i[0]),float(i[1]) \n",
    "        temp = a*x+b*y+c\n",
    "        bl.append(sign(temp))\n",
    "    \n",
    "    if all(r) == True and all(bl) == False or all(r) == False and all(bl) == True:\n",
    "        return \"YES\"\n",
    "    else:\n",
    "        return \"NO\"\n",
    "\n",
    "Red= [(1,1),(2,1),(4,2),(2,4), (-1,4)]\n",
    "Blue= [(-2,-1),(-1,-2),(-3,-2),(-3,-1),(1,-3)]\n",
    "Lines=[\"1x+1y+0\",\"1x-1y+0\",\"1x+0y-3\",\"0x+1y-0.5\"]\n",
    "\n",
    "for i in Lines:\n",
    "    x,y,c = [float(i) for i in re.split(\"x|y\", i)]\n",
    "    \n",
    "    yes_or_no = i_am_the_one(Red, Blue, [x,y,c])\n",
    "   \n",
    "    print(yes_or_no)"
   ]
  },
  {
   "cell_type": "markdown",
   "metadata": {
    "colab_type": "text",
    "id": "9OBpURbNB-k9"
   },
   "source": [
    "<h3> Q7: Filling the missing values in the specified formate</h3>\n",
    "You will be given a string with digits and '\\_'(missing value) symbols you have to replace the '\\_' symbols as explained \n",
    "<pre>\n",
    "Ex 1: _, _, _, 24 ==> 24/4, 24/4, 24/4, 24/4 i.e we. have distributed the 24 equally to all 4 places <br>\n",
    "Ex 2: 40, _, _, _, 60 ==> (60+40)/5,(60+40)/5,(60+40)/5,(60+40)/5,(60+40)/5 ==> 20, 20, 20, 20, 20 i.e. the sum of (60+40) is distributed qually to all 5 places<br>\n",
    "Ex 3: 80, _, _, _, _  ==> 80/5,80/5,80/5,80/5,80/5 ==> 16, 16, 16, 16, 16 i.e. the 80 is distributed qually to all 5 missing values that are right to it<br>\n",
    "Ex 4: _, _, 30, _, _, _, 50, _, _  \n",
    "==> we will fill the missing values from left to right \n",
    "    a. first we will distribute the 30 to left two missing values (10, 10, 10, _, _, _, 50, _, _)\n",
    "    b. now distribute the sum (10+50) missing values in between (10, 10, 12, 12, 12, 12, 12, _, _) \n",
    "    c. now we will distribute 12 to right side missing values (10, 10, 12, 12, 12, 12, 4, 4, 4)\n",
    "</pre>\n",
    "for a given string with comma seprate values, which will have both missing values numbers like ex: \"_, _, x, _, _, _\"\n",
    "you need fill the missing values\n",
    "\n",
    "Q: your program reads a string like ex: \"_, _, x, _, _, _\" and returns the filled sequence\n",
    "\n",
    "Ex: \n",
    "<pre>\n",
    "Input1: \"_,_,_,24\"\n",
    "Output1: 6,6,6,6\n",
    "\n",
    "Input2: \"40,_,_,_,60\"\n",
    "Output2: 20,20,20,20,20\n",
    "\n",
    "Input3: \"80,_,_,_,_\"\n",
    "Output3: 16,16,16,16,16\n",
    "\n",
    "Input4: \"_,_,30,_,_,_,50,_,_\"\n",
    "Output4: 10,10,12,12,12,12,4,4,4\n",
    "</pre>\n",
    "\n"
   ]
  },
  {
   "cell_type": "markdown",
   "metadata": {},
   "source": [
    "` https://stackoverflow.com/questions/57179618/filling-the-missing-values-in-the-specified-format-python/57180534`"
   ]
  },
  {
   "cell_type": "code",
   "execution_count": 7,
   "metadata": {
    "scrolled": true
   },
   "outputs": [
    {
     "name": "stdout",
     "output_type": "stream",
     "text": [
      "{0: 3, 3: 7, 7: -1}\n",
      "[12.5, 12.5, 12.5, 12.5, 12.5, 12.5, 12.5, 4.166666666666667, 4.166666666666667, 4.166666666666667]\n"
     ]
    }
   ],
   "source": [
    "# takes an array x and two indices a,b. \n",
    "# Replaces all the _'s with (x[a]+x[b])/(b-a+1)\n",
    "def fun(x, a, b):\n",
    "    if a == -1:\n",
    "        v = float(x[b])/(b+1)\n",
    "        for i in range(a+1,b+1):\n",
    "            x[i] = v\n",
    "    elif b == -1:\n",
    "        v = float(x[a])/(len(x)-a)\n",
    "        for i in range(a, len(x)):\n",
    "            x[i] = v\n",
    "    else:\n",
    "        v = (float(x[a])+float(x[b]))/(b-a+1)\n",
    "        for i in range(a,b+1):\n",
    "            x[i] = v\n",
    "    return x\n",
    "\n",
    "def replace(text):\n",
    "    # Create array from the string\n",
    "    x = text.replace(\" \",\"\").split(\",\")\n",
    "    # Get all the pairs of indices having number\n",
    "    y = [i for i, v in enumerate(x) if v != '_']\n",
    "    # Starting with _ ?\n",
    "    if y[0] != 0:\n",
    "        y = [-1] + y\n",
    "    # Ending with _ ?\n",
    "    if y[-1] != len(x)-1:\n",
    "        y = y + [-1]    \n",
    "    # run over all the pairs\n",
    "    print(dict(zip(y[:-1], y[1:])))\n",
    "    for (a, b) in zip(y[:-1], y[1:]): \n",
    "        fun(x,a,b)\n",
    "    return x\n",
    "\n",
    "# Test cases\n",
    "string = [\"20,_,_,30,_,_,_,50,_,_\"]\n",
    "\n",
    "for i in string:\n",
    "    print (replace(i))\n",
    "    break\n",
    "\n"
   ]
  },
  {
   "cell_type": "markdown",
   "metadata": {
    "colab_type": "text",
    "id": "RBz4pzlfB-lB"
   },
   "source": [
    "<h3> Q8: Filling the missing values in the specified formate</h3>\n",
    "You will be given a list of lists, each sublist will be of length 2 i.e. [[x,y],[p,q],[l,m]..[r,s]]\n",
    "consider its like a martrix of n rows and two columns\n",
    "1. the first column F will contain only 5 uniques values (F1, F2, F3, F4, F5)\n",
    "2. the second column S will contain only 3 uniques values (S1, S2, S3)\n",
    "<pre>\n",
    "your task is to find\n",
    "a. Probability of P(F=F1|S==S1), P(F=F1|S==S2), P(F=F1|S==S3)\n",
    "b. Probability of P(F=F2|S==S1), P(F=F2|S==S2), P(F=F2|S==S3)\n",
    "c. Probability of P(F=F3|S==S1), P(F=F3|S==S2), P(F=F3|S==S3)\n",
    "d. Probability of P(F=F4|S==S1), P(F=F4|S==S2), P(F=F4|S==S3)\n",
    "e. Probability of P(F=F5|S==S1), P(F=F5|S==S2), P(F=F5|S==S3)\n",
    "</pre>\n",
    "Ex:\n",
    "\n",
    "<pre>\n",
    "[[F1,S1],[F2,S2],[F3,S3],[F1,S2],[F2,S3],[F3,S2],[F2,S1],[F4,S1],[F4,S3],[F5,S1]]\n",
    "\n",
    "a. P(F=F1|S==S1)=1/4, P(F=F1|S==S2)=1/3, P(F=F1|S==S3)=0/3\n",
    "b. P(F=F2|S==S1)=1/4, P(F=F2|S==S2)=1/3, P(F=F2|S==S3)=1/3\n",
    "c. P(F=F3|S==S1)=0/4, P(F=F3|S==S2)=1/3, P(F=F3|S==S3)=1/3\n",
    "d. P(F=F4|S==S1)=1/4, P(F=F4|S==S2)=0/3, P(F=F4|S==S3)=1/3\n",
    "e. P(F=F5|S==S1)=1/4, P(F=F5|S==S2)=0/3, P(F=F5|S==S3)=0/3\n",
    "</pre>\n",
    "\n",
    "\n"
   ]
  },
  {
   "cell_type": "code",
   "execution_count": 8,
   "metadata": {
    "colab": {},
    "colab_type": "code",
    "id": "e-1giz1MB-lC",
    "scrolled": true
   },
   "outputs": [
    {
     "name": "stdout",
     "output_type": "stream",
     "text": [
      "['F1S1', 'F2S2', 'F3S3', 'F1S2', 'F2S3', 'F3S2', 'F2S1', 'F4S1', 'F4S3', 'F5S1']\n",
      "['S1', 'S2', 'S3', 'S2', 'S3', 'S2', 'S1', 'S1', 'S3', 'S1']\n",
      "conditional probability F1|S1,1/4 ie., 0.25\n",
      "conditional probability F1|S2,1/3 ie., 0.3333333333333333\n",
      "conditional probability F1|S3,0/3 ie., 0.0\n",
      "conditional probability F2|S1,1/4 ie., 0.25\n",
      "conditional probability F2|S2,1/3 ie., 0.3333333333333333\n",
      "conditional probability F2|S3,1/3 ie., 0.3333333333333333\n",
      "conditional probability F3|S1,0/4 ie., 0.0\n",
      "conditional probability F3|S2,1/3 ie., 0.3333333333333333\n",
      "conditional probability F3|S3,1/3 ie., 0.3333333333333333\n",
      "conditional probability F4|S1,1/4 ie., 0.25\n",
      "conditional probability F4|S2,0/3 ie., 0.0\n",
      "conditional probability F4|S3,1/3 ie., 0.3333333333333333\n",
      "conditional probability F5|S1,1/4 ie., 0.25\n",
      "conditional probability F5|S2,0/3 ie., 0.0\n",
      "conditional probability F5|S3,0/3 ie., 0.0\n"
     ]
    }
   ],
   "source": [
    "import re\n",
    "\n",
    "pairs = []\n",
    "condition = []\n",
    "\n",
    "def compute_conditional_probabilites(A):\n",
    "    for i in range(len(A)):\n",
    "        k = A[i][0]+A[i][1]\n",
    "        condition.append(A[i][1])\n",
    "        pairs.append(k)\n",
    "    print(pairs)\n",
    "    print(condition)\n",
    "\n",
    "A = [['F1','S1'],['F2','S2'],['F3','S3'],['F1','S2'],['F2','S3'],['F3','S2'],['F2','S1'],['F4','S1'],['F4','S3'],['F5','S1']]\n",
    "\n",
    "compute_conditional_probabilites(A)\n",
    "\n",
    "conditions = [\"P(F=F1|S==S1)=1/4, P(F=F1|S==S2)=1/3, P(F=F1|S==S3)=0/3,P(F=F2|S==S1)=1/4, P(F=F2|S==S2)=1/3, P(F=F2|S==S3)=1/3,P(F=F3|S==S1)=0/4, P(F=F3|S==S2)=1/3, P(F=F3|S==S3)=1/3,P(F=F4|S==S1)=1/4, P(F=F4|S==S2)=0/3, P(F=F4|S==S3)=1/3,P(F=F5|S==S1)=1/4, P(F=F5|S==S2)=0/3, P(F=F5|S==S3)=0/3\"]\n",
    "\n",
    "conditions = [i.split(\",\") for i in conditions][0]\n",
    "conditions = [i.strip() for i in conditions]\n",
    "\n",
    "for i in conditions:\n",
    "    i = i.strip(\"P(F\")\n",
    "    i = i.replace('S==', \"\")\n",
    "    i = i.strip(\"=\")\n",
    "    i = i.replace(\")=\", \",\")\n",
    "    prop = i.split(\",\")[1]\n",
    "    pair = i.split(\",\")[0].replace(\"|\", \"\")\n",
    "    cond = i.split(\",\")[0].split(\"|\")[1]\n",
    "\n",
    "    print(\"conditional probability {} ie.,\".format(i),(pairs.count(pair)/condition.count(cond)))\n"
   ]
  },
  {
   "cell_type": "markdown",
   "metadata": {
    "colab_type": "text",
    "id": "n4HS87QmB-lF"
   },
   "source": [
    "<h3> Q9: Given two sentances S1, S2</h3>\n",
    "You will be given two sentances S1, S2 your task is to find \n",
    "<pre>\n",
    "a. Number of common words between S1, S2\n",
    "b. Words in S1 but not in S2\n",
    "c. Words in S2 but not in S1\n",
    "</pre>\n",
    "\n",
    "Ex: \n",
    "<pre>\n",
    "S1= \"the first column F will contain only 5 uniques values\"\n",
    "S2= \"the second column S will contain only 3 uniques values\"\n",
    "Output:\n",
    "a. 7\n",
    "b. ['first','F','5']\n",
    "c. ['second','S','3']\n",
    "</pre>"
   ]
  },
  {
   "cell_type": "code",
   "execution_count": 9,
   "metadata": {
    "colab": {},
    "colab_type": "code",
    "id": "Ez7hlHK0B-lG"
   },
   "outputs": [
    {
     "name": "stdout",
     "output_type": "stream",
     "text": [
      "a. Number of common words between S1, S2 :  7\n",
      "b. Words in S1 but not in S2 :  ['first', 'F', '5']\n",
      "c. Words in S2 but not in S1 :  ['second', 'S', '3']\n"
     ]
    }
   ],
   "source": [
    "def string_features(S1, S2):\n",
    "    \n",
    "    S1 = S1.split(\" \")\n",
    "    S2 = S2.split(\" \")\n",
    "\n",
    "    corpus = []\n",
    "    tot_len = len(S1) + len(S2)\n",
    "    corpus = corpus + S1 + S2\n",
    "    length = tot_len - len(list(set(corpus)))\n",
    "    \n",
    "    S1_unique = []\n",
    "    for i in [i if i not in S2 else None for i in S1]:\n",
    "        if i != None:\n",
    "            S1_unique.append(i)\n",
    "            \n",
    "    S2_unique = []\n",
    "    for i in [i if i not in S1 else None for i in S2]:\n",
    "        if i != None:\n",
    "            S2_unique.append(i)\n",
    "            \n",
    "    return length, S1_unique, S2_unique\n",
    "\n",
    "\n",
    "S1= \"the first column F will contain only 5 uniques values\"\n",
    "S2= \"the second column S will contain only 3 uniques values\"\n",
    "\n",
    "a,b,c = string_features(S1, S2)\n",
    "\n",
    "print('a. Number of common words between S1, S2 : ', a)\n",
    "print(\"b. Words in S1 but not in S2 : \", b)\n",
    "print(\"c. Words in S2 but not in S1 : \", c)"
   ]
  },
  {
   "cell_type": "markdown",
   "metadata": {
    "colab_type": "text",
    "id": "XefXVEjCB-lI"
   },
   "source": [
    "<h3> Q10: Given two sentances S1, S2</h3>\n",
    "You will be given a list of lists, each sublist will be of length 2 i.e. [[x,y],[p,q],[l,m]..[r,s]]\n",
    "consider its like a martrix of n rows and two columns\n",
    "\n",
    "a. the first column Y will contain interger values <br>\n",
    "b. the second column $Y_{score}$ will be having float values <br>\n",
    "Your task is to find the value of $f(Y,Y_{score}) = -1*\\frac{1}{n}\\Sigma_{for each Y,Y_{score} pair}(Ylog10(Y_{score})+(1-Y)log10(1-Y_{score}))$ here n is the number of rows in the matrix\n",
    "<pre>\n",
    "Ex:\n",
    "[[1, 0.4], [0, 0.5], [0, 0.9], [0, 0.3], [0, 0.6], [1, 0.1], [1, 0.9], [1, 0.8]]\n",
    "output:\n",
    "0.4243099\n",
    "</pre>\n",
    "$\\frac{-1}{8}\\cdot((1\\cdot log_{10}(0.4)+0\\cdot log_{10}(0.6))+(0\\cdot log_{10}(0.5)+1\\cdot log_{10}(0.5)) + ... + (1\\cdot log_{10}(0.8)+0\\cdot log_{10}(0.2)) )$"
   ]
  },
  {
   "cell_type": "code",
   "execution_count": 10,
   "metadata": {
    "colab": {},
    "colab_type": "code",
    "id": "N9zkagyNB-lJ"
   },
   "outputs": [
    {
     "name": "stdout",
     "output_type": "stream",
     "text": [
      "0.42430993457031635\n"
     ]
    }
   ],
   "source": [
    "import math\n",
    "\n",
    "def compute_log_loss(A):\n",
    "    n = len(A)\n",
    "    y, y_score = [i for i in zip(*A)]\n",
    "    sum = 0\n",
    "    for i in range(len(y)):\n",
    "        sum += y[i] * math.log10(y_score[i]) + (1-y[i]) * math.log10((1-y_score[i]))\n",
    "\n",
    "    return (-1/n)*(sum)\n",
    "\n",
    "A = [[1, 0.4], [0, 0.5], [0, 0.9], [0, 0.3], [0, 0.6], [1, 0.1], [1, 0.9], [1, 0.8]]\n",
    "loss = compute_log_loss(A)\n",
    "print(loss)"
   ]
  }
 ],
 "metadata": {
  "colab": {
   "collapsed_sections": [],
   "name": "1.Python Assignment.ipynb",
   "provenance": []
  },
  "kernelspec": {
   "display_name": "Python 3",
   "language": "python",
   "name": "python3"
  },
  "language_info": {
   "codemirror_mode": {
    "name": "ipython",
    "version": 3
   },
   "file_extension": ".py",
   "mimetype": "text/x-python",
   "name": "python",
   "nbconvert_exporter": "python",
   "pygments_lexer": "ipython3",
   "version": "3.6.9"
  }
 },
 "nbformat": 4,
 "nbformat_minor": 1
}
