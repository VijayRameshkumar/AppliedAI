{
 "cells": [
  {
   "cell_type": "code",
   "execution_count": 1,
   "metadata": {},
   "outputs": [],
   "source": [
    "from sklearn.feature_extraction.text import TfidfVectorizer\n",
    "from collections import Counter\n",
    "from scipy.sparse import csr_matrix\n",
    "from sklearn.preprocessing import normalize\n",
    "from tqdm import tqdm\n",
    "\n",
    "import numpy as np\n",
    "import math\n",
    "import operator\n",
    "import warnings\n",
    "\n",
    "warnings.filterwarnings(\"ignore\")"
   ]
  },
  {
   "cell_type": "code",
   "execution_count": 2,
   "metadata": {},
   "outputs": [
    {
     "name": "stdout",
     "output_type": "stream",
     "text": [
      "Number of documents in corpus =  746\n"
     ]
    }
   ],
   "source": [
    "import pickle\n",
    "\n",
    "with open('cleaned_strings', 'rb') as f:\n",
    "    corpus = pickle.load(f)\n",
    "\n",
    "print(\"Number of documents in corpus = \", len(corpus))"
   ]
  },
  {
   "cell_type": "code",
   "execution_count": 3,
   "metadata": {},
   "outputs": [],
   "source": [
    "from collections import OrderedDict\n",
    "\n",
    "def fit(dataset, max=None):\n",
    "    def Convert(tup, di): \n",
    "        di = dict(tup) \n",
    "        return di \n",
    "    dictionary = {}\n",
    "    vocabulary = Counter()\n",
    "    if isinstance(dataset, list):\n",
    "        for rows in dataset:\n",
    "            vocabulary.update([i.lower() for i in rows.split(\" \") if len(i)>=2])\n",
    "        vocabulary = dict(vocabulary)\n",
    "        if max is None:\n",
    "            vocabulary = dict(OrderedDict(sorted(vocabulary.items(), key=lambda t: t[0])))\n",
    "        else:\n",
    "            vocabulary = dict(OrderedDict(sorted(vocabulary.items(), key=lambda t: t[1])))\n",
    "            vocabulary = [(i,j) for i, j in vocabulary.items()][0:max]\n",
    "            vocabulary = dict(OrderedDict(sorted(Convert(vocabulary, dictionary).items(), key=lambda t: t[0]))) \n",
    "        return vocabulary   \n",
    "\n",
    "    else:\n",
    "        print(\"you need to pass list of sentance\")"
   ]
  },
  {
   "cell_type": "markdown",
   "metadata": {},
   "source": [
    "### FORMULA\n",
    "\n",
    "$TF(t) = \\frac{\\text{Number of times term t appears in a document}}{\\text{Total number of terms in the document}}.$\n",
    "\n",
    "$IDF(t) = 1+\\log_{e}\\frac{1\\text{ }+\\text{ Total  number of documents in collection}} {1+\\text{Number of documents with term t in it}}.$\n"
   ]
  },
  {
   "cell_type": "code",
   "execution_count": 4,
   "metadata": {},
   "outputs": [],
   "source": [
    "import math\n",
    "\n",
    "def transform(dataset, vocab):\n",
    "    sorted_vocab = list(vocab.keys())\n",
    "    no_doc_WithTerms = dict.fromkeys(sorted_vocab, 0)\n",
    "    words_idf = dict.fromkeys(sorted_vocab, 0)\n",
    "    def column_index(term):\n",
    "        try:\n",
    "            var = sorted_vocab.index(term)\n",
    "        except:\n",
    "            var = -1\n",
    "        return var\n",
    "    rows, columns, values = [], [], []\n",
    "    if isinstance(dataset, list):\n",
    "        for idx, row in enumerate(dataset):\n",
    "            word_freq = dict(Counter(row.split(\" \")))\n",
    "            for word, _ in word_freq.items():\n",
    "                if len(word) <=1:\n",
    "                    continue\n",
    "                try:\n",
    "                    no_doc_WithTerms[str(word)] += 1\n",
    "                except:\n",
    "                    pass\n",
    "        for idx, row in enumerate(dataset):\n",
    "            word_freq = dict(Counter(row.split(\" \")))\n",
    "            for word, freq in word_freq.items(): \n",
    "                if column_index(word) != -1:\n",
    "                    rows.append(idx)\n",
    "                    columns.append(column_index(word))\n",
    "                    tf = freq / sum(list(word_freq.values()))\n",
    "                    no_of_doc = 1 + len(dataset)\n",
    "                    no_doc_WithTerm = 1 + no_doc_WithTerms[word]\n",
    "                    idf = 1 + math.log(no_of_doc / float(no_doc_WithTerm))\n",
    "                    words_idf[word] = idf\n",
    "                    values.append(tf*idf)\n",
    "        words_idf = dict(OrderedDict(sorted(words_idf.items(), key=lambda t: t[0])))        \n",
    "        return normalize(csr_matrix( ((values),(rows,columns)), shape=(len(dataset),len(vocab)))), words_idf"
   ]
  },
  {
   "cell_type": "markdown",
   "metadata": {},
   "source": [
    "# ``` Test 1 ```"
   ]
  },
  {
   "cell_type": "code",
   "execution_count": 5,
   "metadata": {},
   "outputs": [
    {
     "name": "stdout",
     "output_type": "stream",
     "text": [
      "['and', 'document', 'first', 'is', 'one', 'second', 'the', 'third', 'this'] \n",
      "\n",
      "\n",
      "[1.91629073 1.22314355 1.51082562 1.         1.91629073 1.91629073\n",
      " 1.         1.91629073 1.        ] \n",
      "\n",
      "\n",
      "[[0.         0.46979139 0.58028582 0.38408524 0.         0.\n",
      "  0.38408524 0.         0.38408524]]\n"
     ]
    }
   ],
   "source": [
    "corpus1 = [\n",
    "     'this is the first document',\n",
    "     'this document is the second document',\n",
    "     'and this is the third one',\n",
    "     'is this the first document',\n",
    "]\n",
    "\n",
    "from sklearn.feature_extraction.text import TfidfVectorizer\n",
    "vectorizer = TfidfVectorizer()\n",
    "vectorizer.fit(corpus1)\n",
    "skl_output = vectorizer.transform(corpus1)\n",
    "\n",
    "print(vectorizer.get_feature_names(), \"\\n\\n\")\n",
    "\n",
    "print(vectorizer.idf_, \"\\n\\n\")\n",
    "\n",
    "print(skl_output.todense()[0])"
   ]
  },
  {
   "cell_type": "code",
   "execution_count": 6,
   "metadata": {
    "scrolled": false
   },
   "outputs": [
    {
     "name": "stdout",
     "output_type": "stream",
     "text": [
      "['and', 'document', 'first', 'is', 'one', 'second', 'the', 'third', 'this'] \n",
      "\n",
      "\n",
      "[1.916290731874155, 1.2231435513142097, 1.5108256237659907, 1.0, 1.916290731874155, 1.916290731874155, 1.0, 1.916290731874155, 1.0] \n",
      "\n",
      " [[0.         0.46979139 0.58028582 0.38408524 0.         0.\n",
      "  0.38408524 0.         0.38408524]]\n"
     ]
    }
   ],
   "source": [
    "vocab = fit(corpus1)\n",
    "print(list(vocab.keys()), \"\\n\\n\")\n",
    "sparse, idf = transform(corpus1, vocab)\n",
    "print(list(idf.values()), \"\\n\\n\", sparse.todense()[0])"
   ]
  },
  {
   "cell_type": "markdown",
   "metadata": {},
   "source": [
    "# ``` TASK 1 ```"
   ]
  },
  {
   "cell_type": "code",
   "execution_count": 7,
   "metadata": {},
   "outputs": [
    {
     "name": "stdout",
     "output_type": "stream",
     "text": [
      "['aailiyah', 'abandoned', 'ability', 'abroad', 'absolutely'] \n",
      "\n",
      "\n",
      "[6.922918   6.922918   6.22977082 6.922918   5.31348009 6.922918\n",
      " 6.5174529  6.922918   6.922918   6.922918  ] \n",
      "\n",
      "\n",
      "[[0. 0. 0. ... 0. 0. 0.]] \n",
      "\n",
      "\n",
      "(746, 2886) \n",
      "\n",
      "\n",
      "['aailiyah', 'abandoned', 'ability', 'abroad', 'absolutely'] \n",
      "\n",
      "\n",
      "[6.922918004572872, 6.922918004572872, 6.229770824012927, 6.922918004572872, 5.3134800921387715, 6.922918004572872, 6.517452896464707, 6.922918004572872, 6.922918004572872, 6.922918004572872] \n",
      "\n",
      " [[0. 0. 0. ... 0. 0. 0.]] \n",
      "\n",
      " (746, 2886)\n"
     ]
    }
   ],
   "source": [
    "vectorizer = TfidfVectorizer()\n",
    "vectorizer.fit(corpus)\n",
    "skl_output = vectorizer.transform(corpus)\n",
    "\n",
    "print(vectorizer.get_feature_names()[0:5], \"\\n\\n\")\n",
    "\n",
    "print(vectorizer.idf_[0:10], \"\\n\\n\")\n",
    "\n",
    "print(skl_output.todense()[0], \"\\n\\n\")\n",
    "print(skl_output.todense().shape, \"\\n\\n\")\n",
    "\n",
    "vocab = fit(corpus)\n",
    "print(list(vocab.keys())[0:5], \"\\n\\n\")\n",
    "sparse, idf = transform(corpus, vocab)\n",
    "print(list(idf.values())[0:10], \"\\n\\n\", sparse.todense()[0], \"\\n\\n\", sparse.todense().shape)"
   ]
  },
  {
   "cell_type": "markdown",
   "metadata": {},
   "source": [
    "# ``` TASK 2```"
   ]
  },
  {
   "cell_type": "code",
   "execution_count": 8,
   "metadata": {},
   "outputs": [
    {
     "name": "stdout",
     "output_type": "stream",
     "text": [
      "[6.922918   6.922918   6.22977082 6.922918   5.31348009 6.922918\n",
      " 6.5174529  6.922918   6.922918   6.922918   6.922918   6.922918\n",
      " 6.922918   6.922918   6.5174529  6.5174529  6.922918   6.922918\n",
      " 6.5174529  6.22977082 3.97847903 5.53662364 6.922918   5.31348009\n",
      " 4.67162621 6.22977082 6.22977082 5.21816991 6.922918   6.5174529\n",
      " 6.922918   6.922918   6.22977082 6.922918   6.922918   6.922918\n",
      " 6.00662727 6.922918   6.922918   6.5174529  6.22977082 6.922918\n",
      " 6.922918   6.922918   6.5174529  6.5174529  6.922918   6.00662727\n",
      " 6.922918   6.922918  ] \n",
      "\n",
      "\n",
      "{'aimless': 1, 'artiness': 1, 'attempting': 1, 'aye': 1, 'baby': 1, 'buffet': 1, 'changing': 1, 'conception': 1, 'constructed': 1, 'content': 1, 'distressed': 1, 'doomed': 1, 'dozen': 1, 'drifting': 1, 'effort': 1, 'emptiness': 1, 'existent': 1, 'fill': 1, 'florida': 1, 'gerardo': 1, 'highest': 1, 'insane': 1, 'messages': 1, 'minor': 1, 'muppets': 1, 'nearly': 1, 'number': 1, 'occurs': 1, 'overdue': 1, 'owls': 1, 'person': 1, 'post': 1, 'practically': 1, 'properly': 1, 'pulls': 1, 'punches': 1, 'puzzle': 1, 'require': 1, 'rocks': 1, 'science': 1, 'screenplay': 1, 'solving': 1, 'structure': 1, 'superlative': 1, 'teacher': 1, 'th': 1, 'tightly': 1, 'tone': 1, 'unlockable': 1, 'vitally': 1} \n",
      "\n",
      "\n",
      "[6.922918004572872, 6.922918004572872, 6.922918004572872, 6.922918004572872, 6.922918004572872, 6.922918004572872, 6.922918004572872, 6.922918004572872, 6.922918004572872, 6.922918004572872, 6.922918004572872, 6.922918004572872, 6.922918004572872, 6.922918004572872, 6.922918004572872, 6.922918004572872, 6.922918004572872, 6.922918004572872, 6.922918004572872, 6.922918004572872, 6.922918004572872, 6.922918004572872, 6.922918004572872, 6.922918004572872, 6.922918004572872, 6.922918004572872, 6.922918004572872, 6.922918004572872, 6.922918004572872, 6.922918004572872, 6.922918004572872, 6.922918004572872, 6.922918004572872, 6.922918004572872, 6.922918004572872, 6.922918004572872, 6.922918004572872, 6.922918004572872, 6.922918004572872, 6.922918004572872, 6.922918004572872, 6.922918004572872, 6.922918004572872, 6.922918004572872, 6.922918004572872, 6.922918004572872, 6.922918004572872, 6.922918004572872, 6.922918004572872, 6.922918004572872] \n",
      "\n",
      " (746, 50) \n",
      "\n",
      " [[0.57735027 0.         0.         0.         0.         0.\n",
      "  0.         0.         0.         0.         0.57735027 0.\n",
      "  0.         0.57735027 0.         0.         0.         0.\n",
      "  0.         0.         0.         0.         0.         0.\n",
      "  0.         0.         0.         0.         0.         0.\n",
      "  0.         0.         0.         0.         0.         0.\n",
      "  0.         0.         0.         0.         0.         0.\n",
      "  0.         0.         0.         0.         0.         0.\n",
      "  0.         0.        ]]\n"
     ]
    }
   ],
   "source": [
    "vectorizer = TfidfVectorizer()\n",
    "\n",
    "vectorizer.fit(corpus)\n",
    "\n",
    "skl_output = vectorizer.transform(corpus)\n",
    "\n",
    "print(vectorizer.idf_[:50], \"\\n\\n\")\n",
    "\n",
    "vocab = fit(corpus, max=50)\n",
    "\n",
    "print(vocab, \"\\n\\n\")\n",
    "\n",
    "sparse, idf = transform(corpus, vocab)\n",
    "\n",
    "print(list(idf.values())[0:50], \"\\n\\n\", sparse.todense().shape, \"\\n\\n\", sparse.todense()[0])"
   ]
  },
  {
   "cell_type": "code",
   "execution_count": null,
   "metadata": {},
   "outputs": [],
   "source": []
  }
 ],
 "metadata": {
  "kernelspec": {
   "display_name": "Python 3",
   "language": "python",
   "name": "python3"
  },
  "language_info": {
   "codemirror_mode": {
    "name": "ipython",
    "version": 3
   },
   "file_extension": ".py",
   "mimetype": "text/x-python",
   "name": "python",
   "nbconvert_exporter": "python",
   "pygments_lexer": "ipython3",
   "version": "3.7.0"
  }
 },
 "nbformat": 4,
 "nbformat_minor": 4
}
