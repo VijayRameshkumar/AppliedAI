{
 "cells": [
  {
   "cell_type": "markdown",
   "metadata": {
    "colab_type": "text",
    "id": "s0Ej_bXyQvnV"
   },
   "source": [
    "# Compute performance metrics for the given Y and Y_score without sklearn"
   ]
  },
  {
   "cell_type": "code",
   "execution_count": 1,
   "metadata": {
    "colab": {},
    "colab_type": "code",
    "id": "4CHb6NE7Qvnc"
   },
   "outputs": [],
   "source": [
    "import numpy as np\n",
    "import pandas as pd\n",
    "import matplotlib.pyplot as plt\n",
    "\n",
    "# other than these two you should not import any other packages"
   ]
  },
  {
   "cell_type": "markdown",
   "metadata": {
    "colab_type": "text",
    "id": "KbsWXuDaQvnq"
   },
   "source": [
    "<pre>\n",
    "<font color='red'><b>A.</b></font> Compute performance metrics for the given data <strong>5_a.csv</strong>\n",
    "   <b>Note 1:</b> in this data you can see number of positive points >> number of negatives points\n",
    "   <b>Note 2:</b> use pandas or numpy to read the data from <b>5_a.csv</b>\n",
    "   <b>Note 3:</b> you need to derive the class labels from given score</pre> $y^{pred}= \\text{[0 if y_score < 0.5 else 1]}$\n",
    "\n",
    "<pre>\n",
    "<ol>\n",
    "<li> Compute Confusion Matrix </li>\n",
    "<li> Compute F1 Score </li>\n",
    "<li> Compute AUC Score, you need to compute different thresholds and for each threshold compute tpr,fpr and then use               numpy.trapz(tpr_array, fpr_array) <a href='https://stackoverflow.com/q/53603376/4084039'>https://stackoverflow.com/q/53603376/4084039</a>, <a href='https://stackoverflow.com/a/39678975/4084039'>https://stackoverflow.com/a/39678975/4084039</a> Note: it should be numpy.trapz(tpr_array, fpr_array) not numpy.trapz(fpr_array, tpr_array)</li>\n",
    "<li> Compute Accuracy Score </li>\n",
    "</ol>\n",
    "</pre>"
   ]
  },
  {
   "cell_type": "code",
   "execution_count": 2,
   "metadata": {},
   "outputs": [
    {
     "name": "stdout",
     "output_type": "stream",
     "text": [
      "Actual :  1.0    10000\n",
      "0.0      100\n",
      "Name: y, dtype: int64 \n",
      "\n",
      "Predicted :  1    10100\n",
      "Name: pred, dtype: int64 \n",
      "\n"
     ]
    }
   ],
   "source": [
    "df_Positive = pd.read_csv('5_a.csv')\n",
    "print(\"Actual : \", df_Positive.y.value_counts(), '\\n')\n",
    "\n",
    "df_Positive['pred'] = df_Positive.proba.apply(lambda x: 0 if x<0.5 else 1).astype('int')\n",
    "print(\"Predicted : \", df_Positive['pred'].value_counts(), '\\n')"
   ]
  },
  {
   "cell_type": "code",
   "execution_count": 3,
   "metadata": {
    "colab": {},
    "colab_type": "code",
    "id": "WaFLW7oBQvnt"
   },
   "outputs": [
    {
     "name": "stdout",
     "output_type": "stream",
     "text": [
      "tp, tn, fp, fn :  10000 0 100 0\n",
      "Accuracy is :  99.00990099009901\n",
      "Precision is : 99.00990099009901\n",
      "Recall is : 100.0\n",
      "F1 Score is :  0.9950248756218906\n"
     ]
    }
   ],
   "source": [
    "def compute_tp_tn_fn_fp(y_act, y_pred):\n",
    "    \n",
    "    '''\n",
    "    True positive - actual = 1, predicted = 1\n",
    "    False positive - actual = 1, predicted = 0\n",
    "    False negative - actual = 0, predicted = 1\n",
    "    True negative - actual = 0, predicted = 0\n",
    "    '''\n",
    "    tp = sum((y_act == 1) & (y_pred == 1))\n",
    "    tn = sum((y_act == 0) & (y_pred == 0))\n",
    "    fn = sum((y_act == 1) & (y_pred == 0))\n",
    "    fp = sum((y_act == 0) & (y_pred == 1))\n",
    "    \n",
    "    return tp, tn, fp, fn\n",
    "\n",
    "def compute_accuracy(tp, tn, fn, fp):\n",
    "    '''\n",
    "    Accuracy = TP + TN / FP + FN + TP + TN\n",
    "    '''\n",
    "    return ((tp + tn) * 100)/ float( tp + tn + fn + fp)\n",
    "\n",
    "def compute_precision(tp, fp):\n",
    "    '''\n",
    "    Precision = TP  / FP + TP \n",
    "    '''\n",
    "    if tp != 0:\n",
    "        return (tp  * 100)/ float( tp + fp)\n",
    "    else : \n",
    "        return 0\n",
    "        \n",
    "\n",
    "def compute_recall(tp, fn):\n",
    "    '''\n",
    "    Recall = TP /FN + TP \n",
    "    \n",
    "    '''\n",
    "    if tp != 0:\n",
    "        return (tp  * 100)/ float( tp + fn)\n",
    "    else : \n",
    "        return 0\n",
    "    \n",
    "\n",
    "def false_pos_rate(fp, tn):\n",
    "    '''\n",
    "    FP = FP / FP + 1\n",
    "    \n",
    "    '''\n",
    "    if fp != 0:\n",
    "        return (fp  * 100)/ float( fp + tn)\n",
    "    else : \n",
    "        return 0\n",
    "    \n",
    "\n",
    "def compute_f1_score(y_true, y_pred):\n",
    "    \n",
    "    ''' calculates the F1 score '''\n",
    "    \n",
    "    tp, tn, fp, fn = compute_tp_tn_fn_fp(y_true, y_pred)\n",
    "    precision = compute_precision(tp, fp)/100\n",
    "    recall = compute_recall(tp, fn)/100\n",
    "\n",
    "    f1_score = (2*precision*recall)/ (precision + recall)\n",
    "    return f1_score\n",
    "\n",
    "def AUC(tpr, fpr):\n",
    "    \n",
    "    ''' \n",
    "    Calculates AUC for various Thresholds\n",
    "    \n",
    "    '''\n",
    "\n",
    "    return np.trapz(tpr, fpr)\n",
    "\n",
    "\n",
    "tp, tn, fp, fn = compute_tp_tn_fn_fp(df_Positive.y, df_Positive.pred)\n",
    "\n",
    "print('tp, tn, fp, fn : ', tp, tn, fp, fn)\n",
    "\n",
    "print(\"Accuracy is : \", compute_accuracy(tp, tn, fp, fn))\n",
    "\n",
    "print('Precision is :', compute_precision(tp, fp))\n",
    "\n",
    "print('Recall is :', compute_recall(tp, fn))\n",
    "\n",
    "print('F1 Score is : ', compute_f1_score(df_Positive.y, df_Positive.pred))\n"
   ]
  },
  {
   "cell_type": "code",
   "execution_count": 4,
   "metadata": {},
   "outputs": [
    {
     "name": "stdout",
     "output_type": "stream",
     "text": [
      "AUC IS :  4863.5 \n",
      "\n"
     ]
    }
   ],
   "source": [
    "import matplotlib.pyplot as plt\n",
    "from sklearn import metrics\n",
    "\n",
    "TPR = []\n",
    "FPR = []\n",
    "threshold = []\n",
    "\n",
    "for i in np.arange(0.1, 1.1, 0.05):\n",
    "\n",
    "    df_Positive['thresh_' + str(i)] = df_Positive.proba.apply(lambda x: 0 if x<i else 1).astype('int')\n",
    "    \n",
    "    tp, tn, fp, fn = compute_tp_tn_fn_fp(df_Positive.y, df_Positive['thresh_' + str(i)])\n",
    "    \n",
    "    tpr = int(compute_recall(tp, fn))\n",
    "    fpr = int(false_pos_rate(fp, tn))\n",
    "    \n",
    "    TPR.append(tpr)\n",
    "    FPR.append(fpr)\n",
    "    threshold.append(i)\n",
    "    \n",
    "auc = AUC(np.array(sorted(TPR), ndmin=1), np.array(sorted(FPR), ndmin=1))\n",
    "\n",
    "print(\"AUC IS : \" , auc, '\\n')"
   ]
  },
  {
   "cell_type": "code",
   "execution_count": 5,
   "metadata": {},
   "outputs": [
    {
     "data": {
      "image/png": "[encoded data removed]",
      "text/plain": [
       "<Figure size 432x288 with 1 Axes>"
      ]
     },
     "metadata": {
      "needs_background": "light"
     },
     "output_type": "display_data"
    }
   ],
   "source": [
    "auc = AUC(np.array(sorted(TPR), ndmin=1), np.array(sorted(FPR), ndmin=1))\n",
    "\n",
    "plt.plot(FPR, TPR, label='ROC curve (area = %.2f)'%auc, lw=2, color='b')\n",
    "plt.plot([0, 1], [0, 1], linestyle='--', lw=2, color='r', label='Random guess')\n",
    "plt.title('ROC curve')\n",
    "plt.xlabel('False Positive Rate')\n",
    "plt.ylabel('True Positive Rate')\n",
    "plt.grid()\n",
    "plt.legend()\n",
    "plt.show()"
   ]
  },
  {
   "cell_type": "markdown",
   "metadata": {
    "colab_type": "text",
    "id": "V5KZem1BQvn2"
   },
   "source": [
    "<pre>\n",
    "<font color='red'><b>B.</b></font> Compute performance metrics for the given data <strong>5_b.csv</strong>\n",
    "   <b>Note 1:</b> in this data you can see number of positive points << number of negatives points\n",
    "   <b>Note 2:</b> use pandas or numpy to read the data from <b>5_b.csv</b>\n",
    "   <b>Note 3:</b> you need to derive the class labels from given score</pre> $y^{pred}= \\text{[0 if y_score < 0.5 else 1]}$\n",
    "\n",
    "<pre>\n",
    "<ol>\n",
    "<li> Compute Confusion Matrix </li>\n",
    "<li> Compute F1 Score </li>\n",
    "<li> Compute AUC Score, you need to compute different thresholds and for each threshold compute tpr,fpr and then use               numpy.trapz(tpr_array, fpr_array) <a href='https://stackoverflow.com/q/53603376/4084039'>https://stackoverflow.com/q/53603376/4084039</a>, <a href='https://stackoverflow.com/a/39678975/4084039'>https://stackoverflow.com/a/39678975/4084039</a></li>\n",
    "<li> Compute Accuracy Score </li>\n",
    "</ol>\n",
    "</pre>"
   ]
  },
  {
   "cell_type": "code",
   "execution_count": 6,
   "metadata": {
    "colab": {},
    "colab_type": "code",
    "id": "U2sKlq0YQvn5"
   },
   "outputs": [
    {
     "name": "stdout",
     "output_type": "stream",
     "text": [
      "Actual :  0.0    10000\n",
      "1.0      100\n",
      "Name: y, dtype: int64 \n",
      "\n",
      "Predicted :  0    9806\n",
      "1     294\n",
      "Name: pred, dtype: int64 \n",
      "\n",
      "tp, tn, fp, fn :  55 9761 239 45\n",
      "Accuracy is :  97.18811881188118\n",
      "Precision is : 18.707482993197278\n",
      "Recall is : 55.0\n",
      "F1 Score is :  0.27918781725888325\n"
     ]
    }
   ],
   "source": [
    "df_Negative = pd.read_csv('5_b.csv')\n",
    "print(\"Actual : \", df_Negative.y.value_counts(), '\\n')\n",
    "\n",
    "df_Negative['pred'] = df_Negative.proba.apply(lambda x: 0 if x<0.5 else 1)\n",
    "print(\"Predicted : \", df_Negative['pred'].value_counts(), '\\n')\n",
    "\n",
    "tp, tn, fp, fn = compute_tp_tn_fn_fp(df_Negative.y, df_Negative.pred)\n",
    "\n",
    "print('tp, tn, fp, fn : ', tp, tn, fp, fn)\n",
    "\n",
    "print(\"Accuracy is : \", compute_accuracy(tp, tn, fp, fn))\n",
    "\n",
    "print('Precision is :', compute_precision(tp, fp))\n",
    "\n",
    "print('Recall is :', compute_recall(tp, fn))\n",
    "\n",
    "print('F1 Score is : ', compute_f1_score(df_Negative.y, df_Negative.pred))"
   ]
  },
  {
   "cell_type": "code",
   "execution_count": 7,
   "metadata": {},
   "outputs": [
    {
     "name": "stdout",
     "output_type": "stream",
     "text": [
      "AUC IS :  9360.0 \n",
      "\n"
     ]
    }
   ],
   "source": [
    "import matplotlib.pyplot as plt\n",
    "from sklearn import metrics\n",
    "\n",
    "TPR = []\n",
    "FPR = []\n",
    "threshold = []\n",
    "\n",
    "for i in np.arange(0.1, 1.1, 0.05):\n",
    "\n",
    "    df_Negative['thresh_' + str(i)] = df_Negative.proba.apply(lambda x: 0 if x<i else 1).astype('int')\n",
    "    \n",
    "    tp, tn, fp, fn = compute_tp_tn_fn_fp(df_Negative.y, df_Negative['thresh_' + str(i)])\n",
    "    \n",
    "    tpr = int(compute_recall(tp, fn))\n",
    "    fpr = int(false_pos_rate(fp, tn))\n",
    "    \n",
    "    TPR.append(tpr)\n",
    "    FPR.append(fpr)\n",
    "    threshold.append(i)\n",
    "    \n",
    "auc = AUC(np.array(sorted(TPR), ndmin=1), np.array(sorted(FPR), ndmin=1))\n",
    "\n",
    "print(\"AUC IS : \" , auc, '\\n')"
   ]
  },
  {
   "cell_type": "markdown",
   "metadata": {
    "colab_type": "text",
    "id": "GiPGonTzQvoB"
   },
   "source": [
    "<font color='red'><b>C.</b></font> Compute the best threshold (similarly to ROC curve computation) of probability which gives lowest values of metric <b>A</b> for the given data <strong>5_c.csv</strong>\n",
    "<br>\n",
    "\n",
    "you will be predicting label of a data points like this: $y^{pred}= \\text{[0 if y_score < threshold  else 1]}$\n",
    "\n",
    "$ A = 500 \\times \\text{number of false negative} + 100 \\times \\text{numebr of false positive}$\n",
    "\n",
    "<pre>\n",
    "   <b>Note 1:</b> in this data you can see number of negative points > number of positive points\n",
    "   <b>Note 2:</b> use pandas or numpy to read the data from <b>5_c.csv</b>\n",
    "</pre>"
   ]
  },
  {
   "cell_type": "code",
   "execution_count": 8,
   "metadata": {
    "colab": {},
    "colab_type": "code",
    "id": "x5HIJzq1QvoE"
   },
   "outputs": [
    {
     "data": {
      "text/html": [
       "<div>\n",
       "<style scoped>\n",
       "    .dataframe tbody tr th:only-of-type {\n",
       "        vertical-align: middle;\n",
       "    }\n",
       "\n",
       "    .dataframe tbody tr th {\n",
       "        vertical-align: top;\n",
       "    }\n",
       "\n",
       "    .dataframe thead th {\n",
       "        text-align: right;\n",
       "    }\n",
       "</style>\n",
       "<table border=\"1\" class=\"dataframe\">\n",
       "  <thead>\n",
       "    <tr style=\"text-align: right;\">\n",
       "      <th></th>\n",
       "      <th>y</th>\n",
       "      <th>prob</th>\n",
       "    </tr>\n",
       "  </thead>\n",
       "  <tbody>\n",
       "    <tr>\n",
       "      <th>0</th>\n",
       "      <td>0</td>\n",
       "      <td>0.458521</td>\n",
       "    </tr>\n",
       "    <tr>\n",
       "      <th>1</th>\n",
       "      <td>0</td>\n",
       "      <td>0.505037</td>\n",
       "    </tr>\n",
       "    <tr>\n",
       "      <th>2</th>\n",
       "      <td>0</td>\n",
       "      <td>0.418652</td>\n",
       "    </tr>\n",
       "    <tr>\n",
       "      <th>3</th>\n",
       "      <td>0</td>\n",
       "      <td>0.412057</td>\n",
       "    </tr>\n",
       "    <tr>\n",
       "      <th>4</th>\n",
       "      <td>0</td>\n",
       "      <td>0.375579</td>\n",
       "    </tr>\n",
       "  </tbody>\n",
       "</table>\n",
       "</div>"
      ],
      "text/plain": [
       "   y      prob\n",
       "0  0  0.458521\n",
       "1  0  0.505037\n",
       "2  0  0.418652\n",
       "3  0  0.412057\n",
       "4  0  0.375579"
      ]
     },
     "execution_count": 8,
     "metadata": {},
     "output_type": "execute_result"
    }
   ],
   "source": [
    "df = pd.read_csv('5_c.csv')\n",
    "\n",
    "df.head()"
   ]
  },
  {
   "cell_type": "code",
   "execution_count": 9,
   "metadata": {},
   "outputs": [
    {
     "name": "stdout",
     "output_type": "stream",
     "text": [
      "Actual label is :  0    1805\n",
      "1    1047\n",
      "Name: y, dtype: int64\n",
      "optimal threshold is :  0.25000000000000006\n"
     ]
    },
    {
     "data": {
      "image/png": "[encoded data removed]",
      "text/plain": [
       "<Figure size 432x288 with 1 Axes>"
      ]
     },
     "metadata": {
      "needs_background": "light"
     },
     "output_type": "display_data"
    }
   ],
   "source": [
    "import matplotlib.pyplot as plt\n",
    "from sklearn import metrics\n",
    "\n",
    "print('Actual label is : ', df.y.value_counts())\n",
    "\n",
    "scores=[]\n",
    "threshold = []\n",
    "\n",
    "for i in np.arange(0.1, 1.1, 0.05):\n",
    "\n",
    "    df['thresh_' + str(i)] = df.prob.apply(lambda x: 0 if x<i else 1).astype('int')\n",
    "    tp, tn, fp, fn = compute_tp_tn_fn_fp(df.y, df['thresh_' + str(i)])\n",
    "    A = (500 * fn) + (100 * fp)\n",
    "    \n",
    "    threshold.append(i)\n",
    "    scores.append(A)\n",
    "\n",
    "min_score = min(scores)\n",
    "optimal_threshold = threshold[scores.index(min_score)]\n",
    "print(\"optimal threshold is : \", optimal_threshold)\n",
    "\n",
    "plt.plot(threshold, scores, marker='<', color='y');\n",
    "\n",
    "plt.plot(optimal_threshold, min_score, marker='^', color='k');    \n",
    "plt.xlabel(\"Thresholds\")\n",
    "plt.ylabel(\"Metric Scores\")\n",
    "plt.title(\"optimal threshold Curve\")\n",
    "plt.grid()"
   ]
  },
  {
   "cell_type": "markdown",
   "metadata": {
    "colab_type": "text",
    "id": "sD4CcgjXQvoL"
   },
   "source": [
    "<pre>\n",
    "<font color='red'><b>D.</b></font> Compute performance metrics(for regression) for the given data <strong>5_d.csv</strong>\n",
    "    <b>Note 2:</b> use pandas or numpy to read the data from <b>5_d.csv</b>\n",
    "    <b>Note 1:</b> <b>5_d.csv</b> will having two columns Y and predicted_Y both are real valued features\n",
    "<ol>\n",
    "<li> Compute Mean Square Error </li>\n",
    "<li> Compute MAPE: https://www.youtube.com/watch?v=ly6ztgIkUxk</li>\n",
    "<li> Compute R^2 error: https://en.wikipedia.org/wiki/Coefficient_of_determination#Definitions </li>\n",
    "</ol>\n",
    "</pre>"
   ]
  },
  {
   "cell_type": "code",
   "execution_count": 10,
   "metadata": {},
   "outputs": [
    {
     "name": "stdout",
     "output_type": "stream",
     "text": [
      "MSE :  177.16569974554707 \n",
      "\n",
      "R2 :  0.9563582786990937 \n",
      "\n",
      "MAPE :  0.11774195398124539 \n",
      "\n"
     ]
    }
   ],
   "source": [
    "def MSE(Ytrue, Ypred):\n",
    "    return np.square(np.subtract(Ypred,Ytrue)).mean()\n",
    "\n",
    "def MAPE(ytrue, ypred):\n",
    "    ytrue, ypred = np.array(ytrue), np.array(ypred)\n",
    "    error = np.subtract(ytrue, ypred)\n",
    "    return sum(error) / sum(ytrue) * 100\n",
    "\n",
    "def R2(ytrue, ypred):\n",
    "    act_mean = np.mean(ytrue)\n",
    "    ss_tot = np.sum(np.subtract(ypred, ytrue)**2)\n",
    "    ss_res = np.sum(np.subtract(ytrue, act_mean)**2)\n",
    "    return 1-(ss_tot / ss_res)\n",
    "\n",
    "df = pd.read_csv('5_d.csv')\n",
    "\n",
    "print(\"MSE : \", MSE(df.pred, df.y), '\\n')\n",
    "\n",
    "print(\"R2 : \", R2(df.y, df.pred), '\\n')\n",
    "\n",
    "print(\"MAPE : \", MAPE(df.y, df.pred), '\\n')\n"
   ]
  }
 ],
 "metadata": {
  "colab": {
   "collapsed_sections": [],
   "name": "5_Performance_metrics_Instructions.ipynb",
   "provenance": []
  },
  "kernelspec": {
   "display_name": "Python 3",
   "language": "python",
   "name": "python3"
  },
  "language_info": {
   "codemirror_mode": {
    "name": "ipython",
    "version": 3
   },
   "file_extension": ".py",
   "mimetype": "text/x-python",
   "name": "python",
   "nbconvert_exporter": "python",
   "pygments_lexer": "ipython3",
   "version": "3.7.0"
  }
 },
 "nbformat": 4,
 "nbformat_minor": 1
}
