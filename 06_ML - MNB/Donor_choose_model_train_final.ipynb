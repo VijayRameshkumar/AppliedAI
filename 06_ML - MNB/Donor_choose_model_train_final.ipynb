{
 "cells": [
  {
   "cell_type": "code",
   "execution_count": 5,
   "metadata": {
    "colab": {
     "base_uri": "https://localhost:8080/",
     "height": 35
    },
    "id": "qTipUi0X0eDK",
    "outputId": "c748e93d-4e84-4c64-e9c1-4cc415d35610"
   },
   "outputs": [
    {
     "name": "stdout",
     "output_type": "stream",
     "text": [
      "Mounted at /content/drive\n"
     ]
    }
   ],
   "source": [
    "from google.colab import drive\n",
    "drive.mount('/content/drive')"
   ]
  },
  {
   "cell_type": "code",
   "execution_count": 1,
   "metadata": {
    "colab": {
     "base_uri": "https://localhost:8080/",
     "height": 108
    },
    "id": "d8mIA-c-90Yl",
    "outputId": "817e78d4-d93e-438b-c41c-5922300bf741"
   },
   "outputs": [
    {
     "name": "stdout",
     "output_type": "stream",
     "text": [
      "1_Reference_EDA.ipynb             6_Assignment_NB_Instructions.ipynb\n",
      "2_Reference_Preprocessing.ipynb   glove_vectors\n",
      "3_Reference_Vectorization.ipynb   preprocessed_data.csv\n",
      "4_Reference_Vectorization.ipynb   resources.csv\n",
      "5_Reference_SampleSolution.ipynb  train_data.csv\n"
     ]
    }
   ],
   "source": [
    "import pandas as pd\n",
    "import numpy as np\n",
    "from sklearn.metrics import roc_auc_score\n",
    "from sklearn.naive_bayes import MultinomialNB\n",
    "\n",
    "from sklearn.feature_extraction.text import TfidfTransformer\n",
    "from sklearn.feature_extraction.text import TfidfVectorizer\n",
    "\n",
    "from sklearn.feature_extraction.text import CountVectorizer\n",
    "from sklearn.metrics import confusion_matrix\n",
    "from sklearn import metrics\n",
    "from sklearn.metrics import roc_curve, auc\n",
    "\n",
    "import warnings\n",
    "warnings.filterwarnings(\"ignore\")\n",
    "\n",
    "%ls '/content/drive/My Drive/6_Donors_choose_NB/'"
   ]
  },
  {
   "cell_type": "code",
   "execution_count": 2,
   "metadata": {
    "id": "aEHzUaAh-BlD"
   },
   "outputs": [],
   "source": [
    "path = '/content/drive/My Drive/6_Donors_choose_NB/'\n",
    "\n",
    "w2v = path + 'glove_vectors'\n",
    "project = path + 'train_data.csv'\n",
    "resources = path + 'resources.csv'\n",
    "pre_processed = path + 'preprocessed_data.csv'"
   ]
  },
  {
   "cell_type": "code",
   "execution_count": 3,
   "metadata": {
    "colab": {
     "base_uri": "https://localhost:8080/",
     "height": 35
    },
    "id": "zv6OvnV78skp",
    "outputId": "91c2d37d-8704-46cc-85a2-11ba7fc78bbe"
   },
   "outputs": [
    {
     "name": "stdout",
     "output_type": "stream",
     "text": [
      "(50000, 8) (50000,)\n"
     ]
    }
   ],
   "source": [
    "import pandas as pd\n",
    "\n",
    "X = pd.read_csv(path + 'preprocessed_data.csv', nrows=50000)\n",
    "y = X['project_is_approved']\n",
    "X = X.drop(['project_is_approved'], axis=1)\n",
    "\n",
    "print(X.shape, y.shape)"
   ]
  },
  {
   "cell_type": "markdown",
   "metadata": {
    "id": "J0sP14ZXAhD-"
   },
   "source": [
    "## Vectorizing Categorical Features"
   ]
  },
  {
   "cell_type": "code",
   "execution_count": 4,
   "metadata": {
    "id": "5sK5HkkKD5Ep"
   },
   "outputs": [],
   "source": [
    "from sklearn.preprocessing import Normalizer\n",
    "\n",
    "def ohe_vector(feature, dataset):\n",
    "  column = str(feature) + '_vectorizer'\n",
    "  out = 'X_' + feature\n",
    "  column = CountVectorizer()\n",
    "  column.fit(dataset[feature].values)\n",
    "  print(column.get_feature_names())\n",
    "  print(\"=\"*100)\n",
    "  return column.transform(dataset[feature].values)\n",
    "\n",
    "def normalized(dataset, feature):\n",
    "  column = feature + \"_normalizer\"\n",
    "  column = Normalizer()\n",
    "  column.fit(dataset[feature].values.reshape(-1,1))\n",
    "  return column.transform(dataset['price'].values.reshape(-1,1))"
   ]
  },
  {
   "cell_type": "code",
   "execution_count": null,
   "metadata": {
    "colab": {
     "base_uri": "https://localhost:8080/",
     "height": 526
    },
    "id": "XRgzdg4zbEBz",
    "outputId": "195c510b-5438-4bbf-88a3-fa0674d9a9f2"
   },
   "outputs": [
    {
     "name": "stdout",
     "output_type": "stream",
     "text": [
      "Fitting 5 folds for each of 12 candidates, totalling 60 fits\n"
     ]
    },
    {
     "name": "stderr",
     "output_type": "stream",
     "text": [
      "[Parallel(n_jobs=-1)]: Using backend LokyBackend with 2 concurrent workers.\n",
      "[Parallel(n_jobs=-1)]: Done  46 tasks      | elapsed: 38.6min\n",
      "[Parallel(n_jobs=-1)]: Done  60 out of  60 | elapsed: 54.6min finished\n"
     ]
    },
    {
     "name": "stdout",
     "output_type": "stream",
     "text": [
      "\n",
      " tfidf :  \n",
      "\n",
      "{'MNB__class_prior': [0.5, 0.5], 'vectorizer__max_features': 5000, 'vectorizer__min_df': 10, 'vectorizer__ngram_range': (1, 2)} \n",
      "\n",
      "0.6910019556715825 \n",
      "\n",
      "################################################## \n",
      "\n",
      "\n",
      "Fitting 5 folds for each of 12 candidates, totalling 60 fits\n"
     ]
    },
    {
     "name": "stderr",
     "output_type": "stream",
     "text": [
      "[Parallel(n_jobs=-1)]: Using backend LokyBackend with 2 concurrent workers.\n",
      "[Parallel(n_jobs=-1)]: Done  46 tasks      | elapsed: 38.2min\n",
      "[Parallel(n_jobs=-1)]: Done  60 out of  60 | elapsed: 54.2min finished\n"
     ]
    },
    {
     "name": "stdout",
     "output_type": "stream",
     "text": [
      "\n",
      " bow :  \n",
      "\n",
      "{'MNB__class_prior': [0.5, 0.5], 'vectorizer__max_features': 5000, 'vectorizer__min_df': 10, 'vectorizer__ngram_range': (1, 2)} \n",
      "\n",
      "0.6883219340434421 \n",
      "\n",
      "################################################## \n",
      "\n",
      "\n"
     ]
    }
   ],
   "source": [
    "# We are considering only the words which appeared in at least 10 documents(rows or projects).\n",
    "from sklearn.feature_extraction.text import CountVectorizer\n",
    "from sklearn.feature_extraction.text import TfidfVectorizer\n",
    "from sklearn.preprocessing import Normalizer\n",
    "from sklearn.naive_bayes import MultinomialNB\n",
    "from sklearn.model_selection import GridSearchCV\n",
    "from sklearn.pipeline import Pipeline\n",
    "\n",
    "essay = X['essay']\n",
    "\n",
    "def text_features(vector_type):\n",
    "\n",
    "  if vector_type == 'bow':\n",
    "    pipe = Pipeline([('vectorizer', CountVectorizer()), ('MNB', MultinomialNB())])\n",
    "\n",
    "  elif vector_type == 'tfidf':\n",
    "    pipe = Pipeline([('vectorizer', TfidfVectorizer()), ('MNB', MultinomialNB())])\n",
    "\n",
    "  params = {\n",
    "      'vectorizer' + '__ngram_range' : [(1,2), (1, 3), (1, 4), (1,5)],\n",
    "      'vectorizer' + '__max_features' : [3000, 4000, 5000],\n",
    "      'vectorizer' + '__min_df' : [10],\n",
    "      'MNB' + '__class_prior' : [[0.5, 0.5]]\n",
    "  }\n",
    "\n",
    "  gsc = GridSearchCV(\n",
    "          estimator = pipe,\n",
    "          param_grid = params, \n",
    "          scoring = 'roc_auc', \n",
    "          verbose = 1, \n",
    "          n_jobs = -1)\n",
    "  \n",
    "  grid_result = gsc.fit(essay, y)\n",
    "\n",
    "  print(\"\\n\", str(vector_type) + \" : \", \"\\n\")\n",
    "  best_params = grid_result.best_params_\n",
    "\n",
    "  print(best_params, \"\\n\")\n",
    "  print(grid_result.best_score_, \"\\n\")\n",
    "\n",
    "  print(\"#\"*50, \"\\n\\n\")\n",
    "\n",
    "for features in ['tfidf', 'bow']:\n",
    "  text_features(features)"
   ]
  },
  {
   "cell_type": "markdown",
   "metadata": {
    "id": "hN_vsHj_6k-K"
   },
   "source": [
    "#### BEST PARAMETERS FOR VECTORIZER is:\n",
    "```\n",
    "\n",
    "'vectorizer__max_features': 5000, \n",
    "\n",
    "'vectorizer__min_df': 10, \n",
    "\n",
    "'vectorizer__ngram_range': (1, 2) \n",
    " \n",
    " ```"
   ]
  },
  {
   "cell_type": "code",
   "execution_count": 5,
   "metadata": {
    "colab": {
     "base_uri": "https://localhost:8080/",
     "height": 273
    },
    "id": "ecE_4kAy8IRh",
    "outputId": "ea4e8e1c-ae41-46a5-9958-a2b9ee8d9679"
   },
   "outputs": [
    {
     "name": "stdout",
     "output_type": "stream",
     "text": [
      "['ak', 'al', 'ar', 'az', 'ca', 'co', 'ct', 'dc', 'de', 'fl', 'ga', 'hi', 'ia', 'id', 'il', 'in', 'ks', 'ky', 'la', 'ma', 'md', 'me', 'mi', 'mn', 'mo', 'ms', 'mt', 'nc', 'nd', 'ne', 'nh', 'nj', 'nm', 'nv', 'ny', 'oh', 'ok', 'or', 'pa', 'ri', 'sc', 'sd', 'tn', 'tx', 'ut', 'va', 'vt', 'wa', 'wi', 'wv', 'wy']\n",
      "====================================================================================================\n",
      "['dr', 'mr', 'mrs', 'ms', 'teacher']\n",
      "====================================================================================================\n",
      "['grades_3_5', 'grades_6_8', 'grades_9_12', 'grades_prek_2']\n",
      "====================================================================================================\n",
      "['appliedlearning', 'care_hunger', 'health_sports', 'history_civics', 'literacy_language', 'math_science', 'music_arts', 'specialneeds', 'warmth']\n",
      "====================================================================================================\n",
      "['appliedsciences', 'care_hunger', 'charactereducation', 'civics_government', 'college_careerprep', 'communityservice', 'earlydevelopment', 'economics', 'environmentalscience', 'esl', 'extracurricular', 'financialliteracy', 'foreignlanguages', 'gym_fitness', 'health_lifescience', 'health_wellness', 'history_geography', 'literacy', 'literature_writing', 'mathematics', 'music', 'nutritioneducation', 'other', 'parentinvolvement', 'performingarts', 'socialsciences', 'specialneeds', 'teamsports', 'visualarts', 'warmth']\n",
      "====================================================================================================\n",
      "Final Data matrix\n",
      "(50000, 101) (50000,)\n",
      "====================================================================================================\n"
     ]
    }
   ],
   "source": [
    "# merge two sparse matrices: https://stackoverflow.com/a/19710648/4084039\n",
    "import gc\n",
    "\n",
    "school_state_ohe = ohe_vector('school_state', X).toarray()\n",
    "teacher_prefix_ohe = ohe_vector('teacher_prefix',X).toarray()\n",
    "project_grade_category_ohe = ohe_vector('project_grade_category', X).toarray()\n",
    "clean_categories_ohe = ohe_vector('clean_categories', X).toarray()\n",
    "clean_subcategories_ohe = ohe_vector('clean_subcategories', X).toarray()\n",
    "\n",
    "price_norm = normalized(X, 'price')\n",
    "no_prev_proj = normalized(X, 'teacher_number_of_previously_posted_projects')\n",
    "\n",
    "essay = X['essay']\n",
    "\n",
    "X_tr = np.column_stack((no_prev_proj, price_norm, school_state_ohe, teacher_prefix_ohe, project_grade_category_ohe, clean_categories_ohe, clean_subcategories_ohe))\n",
    "\n",
    "gc.collect()\n",
    "\n",
    "print(\"Final Data matrix\")\n",
    "print(X_tr.shape, y.shape)\n",
    "\n",
    "print(\"=\"*100)\n"
   ]
  },
  {
   "cell_type": "code",
   "execution_count": 6,
   "metadata": {
    "colab": {
     "base_uri": "https://localhost:8080/",
     "height": 635
    },
    "id": "UKQWtnBI53KV",
    "outputId": "9a26ab39-aca4-45c0-95d5-1312b9b5a5c5"
   },
   "outputs": [
    {
     "name": "stdout",
     "output_type": "stream",
     "text": [
      "(50000, 5101) (50000,)\n",
      "Fitting 5 folds for each of 28 candidates, totalling 140 fits\n"
     ]
    },
    {
     "name": "stderr",
     "output_type": "stream",
     "text": [
      "[Parallel(n_jobs=2)]: Using backend LokyBackend with 2 concurrent workers.\n",
      "[Parallel(n_jobs=2)]: Done  46 tasks      | elapsed:   58.6s\n",
      "[Parallel(n_jobs=2)]: Done 140 out of 140 | elapsed:  2.9min finished\n"
     ]
    },
    {
     "name": "stdout",
     "output_type": "stream",
     "text": [
      "################################################## \n",
      "\n",
      "\n",
      "\n",
      " tfidf :  \n",
      "\n",
      "{'alpha': 1e-05, 'class_prior': [0.5, 0.5]}\n",
      "0.6629296027793583 \n",
      "\n",
      "################################################## \n",
      "\n",
      "\n",
      "(50000, 5101) (50000,)\n",
      "Fitting 5 folds for each of 28 candidates, totalling 140 fits\n"
     ]
    },
    {
     "name": "stderr",
     "output_type": "stream",
     "text": [
      "[Parallel(n_jobs=2)]: Using backend LokyBackend with 2 concurrent workers.\n",
      "[Parallel(n_jobs=2)]: Done  46 tasks      | elapsed:   58.3s\n",
      "[Parallel(n_jobs=2)]: Done 140 out of 140 | elapsed:  2.8min finished\n"
     ]
    },
    {
     "name": "stdout",
     "output_type": "stream",
     "text": [
      "################################################## \n",
      "\n",
      "\n",
      "\n",
      " bow :  \n",
      "\n",
      "{'alpha': 0.01, 'class_prior': [0.5, 0.5]}\n",
      "0.6888500296081047 \n",
      "\n",
      "################################################## \n",
      "\n",
      "\n"
     ]
    }
   ],
   "source": [
    "from sklearn.model_selection import GridSearchCV\n",
    "from sklearn.model_selection import KFold\n",
    "from sklearn.naive_bayes import MultinomialNB\n",
    "from sklearn.model_selection import train_test_split\n",
    "\n",
    "for features in ['tfidf', 'bow']:\n",
    "\n",
    "  def text_features(x):\n",
    "    if x == 'tfidf':\n",
    "      vectorizer = TfidfVectorizer(max_features = 5000, min_df = 10, ngram_range = (1, 2))\n",
    "\n",
    "    elif x == 'bow':\n",
    "      vectorizer = CountVectorizer(max_features = 5000, min_df = 10, ngram_range = (1, 2))\n",
    "\n",
    "    return vectorizer.fit_transform(essay)\n",
    "\n",
    "  data = np.column_stack((X_tr, text_features(features).toarray()))\n",
    "\n",
    "  print(data.shape, y.shape)\n",
    "\n",
    "  parameters = {\n",
    "      'alpha' : [0.00001,0.0005, 0.0001,0.005,0.001,0.05,0.01,0.1,0.5,1,5,10,50,100],\n",
    "      'class_prior' : ['None', [0.5, 0.5]]\n",
    "      }\n",
    "\n",
    "  gsc = GridSearchCV(\n",
    "          estimator = MultinomialNB(),\n",
    "          param_grid = parameters, \n",
    "          scoring = 'roc_auc', \n",
    "          verbose = 1, \n",
    "          n_jobs = 2)\n",
    "  \n",
    "  grid_result = gsc.fit(data, y)\n",
    "\n",
    "  print(\"#\"*50, \"\\n\\n\")\n",
    "\n",
    "  print(\"\\n\", str(features) + \" : \", \"\\n\")\n",
    "  best_params = grid_result.best_params_\n",
    "\n",
    "  print(best_params)\n",
    "  print(grid_result.best_score_, \"\\n\")\n",
    "\n",
    "  print(\"#\"*50, \"\\n\\n\")\n",
    "\n",
    "del data\n",
    "del y"
   ]
  },
  {
   "cell_type": "markdown",
   "metadata": {
    "id": "uuf6BKcrfQuO"
   },
   "source": [
    "### BEST_PARAMETERS FOR MODEL:\n",
    "\n",
    "\n",
    "---\n",
    "\n",
    "\n",
    "``` \n",
    "\n",
    "NOTE :  \n",
    "\n",
    "'alpha': 0.01, \n",
    "'class_prior': [0.5, 0.5]\n",
    "\n",
    "SCORE:\n",
    "0.6888500296081047 \n",
    "```\n",
    "\n"
   ]
  },
  {
   "cell_type": "markdown",
   "metadata": {
    "id": "IVqgoPoP637S"
   },
   "source": [
    "### Cross Validation AUC plot"
   ]
  },
  {
   "cell_type": "code",
   "execution_count": 45,
   "metadata": {
    "colab": {
     "base_uri": "https://localhost:8080/",
     "height": 319
    },
    "id": "0LX4uihk6jUb",
    "outputId": "f7b7a806-79fd-4519-d767-4e4ad4eb5e40"
   },
   "outputs": [
    {
     "name": "stdout",
     "output_type": "stream",
     "text": [
      "[1e-05, 0.0005, 0.0001, 0.005, 0.001, 0.05, 0.01, 0.1, 0.5, 1, 5, 10, 50, 100]\n"
     ]
    },
    {
     "data": {
      "image/png": "[encoded data removed]",
      "text/plain": [
       "<Figure size 432x288 with 1 Axes>"
      ]
     },
     "metadata": {
      "tags": []
     },
     "output_type": "display_data"
    }
   ],
   "source": [
    "import seaborn as sns\n",
    "import matplotlib.pyplot as plt\n",
    "\n",
    "test_AUC = [value for index, value in enumerate(list(grid_result.cv_results_['mean_test_score'])) if index%2 != 0]\n",
    "alphas = [values for index, values in enumerate(list(grid_result.cv_results_['param_alpha'])) if index % 2 == 0]\n",
    "\n",
    "print(alphas)\n",
    "sns.set(style=\"ticks\")\n",
    "sns.set(style='darkgrid')\n",
    "\n",
    "sns.lineplot(test_AUC, alphas, color='orange')\n",
    "\n",
    "plt.xlabel('Hyper Parameter')\n",
    "plt.ylabel('Area Under the curve')\n",
    "plt.title('CV (ROC-AUC) Curve')\n",
    "\n",
    "plt.show();"
   ]
  },
  {
   "cell_type": "code",
   "execution_count": 6,
   "metadata": {
    "colab": {
     "base_uri": "https://localhost:8080/",
     "height": 108
    },
    "id": "dt_kAhuuSyBc",
    "outputId": "f4492484-9200-4701-eebc-7f8ad91cd37e"
   },
   "outputs": [
    {
     "name": "stdout",
     "output_type": "stream",
     "text": [
      "1_Reference_EDA.ipynb             6_Assignment_NB_Instructions.ipynb\n",
      "2_Reference_Preprocessing.ipynb   glove_vectors\n",
      "3_Reference_Vectorization.ipynb   preprocessed_data.csv\n",
      "4_Reference_Vectorization.ipynb   resources.csv\n",
      "5_Reference_SampleSolution.ipynb  train_data.csv\n"
     ]
    }
   ],
   "source": [
    "import pandas as pd\n",
    "import numpy as np\n",
    "from sklearn.metrics import roc_auc_score\n",
    "from sklearn.naive_bayes import MultinomialNB\n",
    "\n",
    "from sklearn.feature_extraction.text import TfidfTransformer\n",
    "from sklearn.feature_extraction.text import TfidfVectorizer\n",
    "\n",
    "from sklearn.feature_extraction.text import CountVectorizer\n",
    "from sklearn.metrics import confusion_matrix\n",
    "from sklearn import metrics\n",
    "from sklearn.metrics import roc_curve, auc\n",
    "\n",
    "import warnings\n",
    "warnings.filterwarnings(\"ignore\")\n",
    "\n",
    "%ls '/content/drive/My Drive/6_Donors_choose_NB/'"
   ]
  },
  {
   "cell_type": "code",
   "execution_count": 7,
   "metadata": {
    "colab": {
     "base_uri": "https://localhost:8080/",
     "height": 35
    },
    "id": "RDcTldXOJxe6",
    "outputId": "b3595dd9-a0ab-4052-c5f6-e9ee9651d092"
   },
   "outputs": [
    {
     "name": "stdout",
     "output_type": "stream",
     "text": [
      "(50000, 8) (50000,)\n"
     ]
    }
   ],
   "source": [
    "import gc\n",
    "gc.collect()\n",
    "\n",
    "path = '/content/drive/My Drive/6_Donors_choose_NB/'\n",
    "\n",
    "X = pd.read_csv(path + 'preprocessed_data.csv', nrows=50000)\n",
    "y = X['project_is_approved']\n",
    "X = X.drop(['project_is_approved'], axis=1)\n",
    "\n",
    "print(X.shape, y.shape)"
   ]
  },
  {
   "cell_type": "code",
   "execution_count": 8,
   "metadata": {
    "colab": {
     "base_uri": "https://localhost:8080/",
     "height": 35
    },
    "id": "E6XONLDXU4g1",
    "outputId": "ba0e1999-1ad5-4b94-fdf6-cd7f21408d51"
   },
   "outputs": [
    {
     "data": {
      "text/plain": [
       "0"
      ]
     },
     "execution_count": 8,
     "metadata": {
      "tags": []
     },
     "output_type": "execute_result"
    }
   ],
   "source": [
    "from sklearn.model_selection import train_test_split\n",
    "\n",
    "X_train, X_test, Y_train, Y_test = train_test_split(X, y, test_size=0.33, stratify=y, random_state=0)\n",
    "\n",
    "del X\n",
    "del y\n",
    "\n",
    "import gc\n",
    "\n",
    "gc.collect()"
   ]
  },
  {
   "cell_type": "code",
   "execution_count": 9,
   "metadata": {
    "id": "1xboW-HWKJRS"
   },
   "outputs": [],
   "source": [
    "from sklearn.preprocessing import Normalizer\n",
    "\n",
    "ohe1 = CountVectorizer()\n",
    "ohe1.fit(X_train['school_state'].values)\n",
    "school_state_ohe_train = ohe1.transform(X_train['school_state'].values).toarray() # fit has to happen only on train data\n",
    "school_state_ohe_test = ohe1.transform(X_test['school_state'].values).toarray()\n",
    "\n",
    "ohe2 = CountVectorizer()\n",
    "ohe2.fit(X_train['teacher_prefix'].values)\n",
    "teacher_prefix_ohe_train = ohe2.transform(X_train['teacher_prefix'].values).toarray() # fit has to happen only on train data\n",
    "teacher_prefix_ohe_test = ohe2.transform(X_test['teacher_prefix'].values).toarray()\n",
    "\n",
    "ohe3 = CountVectorizer()\n",
    "ohe3.fit(X_train['project_grade_category'].values)\n",
    "project_grade_category_ohe_train = ohe3.transform(X_train['project_grade_category'].values).toarray() # fit has to happen only on train data\n",
    "project_grade_category_ohe_test = ohe3.transform(X_test['project_grade_category'].values).toarray()\n",
    "\n",
    "ohe4 = CountVectorizer()\n",
    "ohe4.fit(X_train['clean_categories'].values)\n",
    "clean_categories_ohe_train = ohe4.transform(X_train['clean_categories'].values).toarray() # fit has to happen only on train data\n",
    "clean_categories_ohe_test = ohe4.transform(X_test['clean_categories'].values).toarray()\n",
    "\n",
    "ohe5 = CountVectorizer()\n",
    "ohe5.fit(X_train['clean_subcategories'].values)\n",
    "clean_subcategories_ohe_train = ohe5.transform(X_train['clean_subcategories'].values).toarray() # fit has to happen only on train data\n",
    "clean_subcategories_ohe_test = ohe5.transform(X_test['clean_subcategories'].values).toarray()\n",
    "\n",
    "norm = Normalizer()\n",
    "norm.fit(X_train['price'].values.reshape(-1,1))\n",
    "X_train_price_norm = norm.transform(X_train['price'].values.reshape(-1,1))\n",
    "X_test_price_norm = norm.transform(X_test['price'].values.reshape(-1,1))\n",
    "\n",
    "norm.fit(X_train['teacher_number_of_previously_posted_projects'].values.reshape(-1,1))\n",
    "X_train_no_prev_proj = norm.transform(X_train['teacher_number_of_previously_posted_projects'].values.reshape(-1,1))\n",
    "X_test_no_prev_proj = norm.transform(X_test['teacher_number_of_previously_posted_projects'].values.reshape(-1,1))"
   ]
  },
  {
   "cell_type": "code",
   "execution_count": 10,
   "metadata": {
    "colab": {
     "base_uri": "https://localhost:8080/",
     "height": 90
    },
    "id": "80Dmvcm1exHC",
    "outputId": "30e1268a-098f-4eba-ac62-d2a44176f38b"
   },
   "outputs": [
    {
     "name": "stdout",
     "output_type": "stream",
     "text": [
      "Final Data matrix\n",
      "(33500, 101) (33500,)\n",
      "(16500, 101) (16500,)\n",
      "====================================================================================================\n"
     ]
    }
   ],
   "source": [
    "X_train_essay = X_train['essay']\n",
    "X_test_essay = X_test['essay']\n",
    "\n",
    "X_train = np.column_stack((X_train_no_prev_proj, X_train_price_norm, school_state_ohe_train, teacher_prefix_ohe_train, project_grade_category_ohe_train, clean_categories_ohe_train, clean_subcategories_ohe_train))\n",
    "\n",
    "X_test = np.column_stack((X_test_no_prev_proj, X_test_price_norm, school_state_ohe_test, teacher_prefix_ohe_test, project_grade_category_ohe_test, clean_categories_ohe_test, clean_subcategories_ohe_test))\n",
    "\n",
    "gc.collect()\n",
    "\n",
    "print(\"Final Data matrix\")\n",
    "print(X_train.shape, Y_train.shape)\n",
    "print(X_test.shape, Y_test.shape)\n",
    "\n",
    "print(\"=\"*100)"
   ]
  },
  {
   "cell_type": "code",
   "execution_count": 13,
   "metadata": {
    "colab": {
     "base_uri": "https://localhost:8080/",
     "height": 562
    },
    "id": "wHwjUsEIG12n",
    "outputId": "09706ad5-9eb3-42af-edd4-7cc569c75fc5"
   },
   "outputs": [
    {
     "name": "stdout",
     "output_type": "stream",
     "text": [
      "(33500, 5101) (33500,)\n",
      "(16500, 5101) (16500,)\n",
      "################################################## \n",
      "\n",
      "\n",
      "\n",
      " tfidf_AUC :  \n",
      "\n",
      "Train :  0.7218029269410847 \n",
      "\n",
      "Test :  0.6802456520986246 \n",
      "\n",
      "################################################## \n",
      "\n",
      "\n",
      "(33500, 5101) (33500,)\n",
      "(16500, 5101) (16500,)\n",
      "################################################## \n",
      "\n",
      "\n",
      "\n",
      " bow_AUC :  \n",
      "\n",
      "Train :  0.7398342037152453 \n",
      "\n",
      "Test :  0.6967367810567857 \n",
      "\n",
      "################################################## \n",
      "\n",
      "\n"
     ]
    }
   ],
   "source": [
    "from sklearn.model_selection import GridSearchCV\n",
    "from sklearn.model_selection import KFold\n",
    "from sklearn.naive_bayes import MultinomialNB\n",
    "from sklearn.model_selection import train_test_split\n",
    "\n",
    "def text_features(x, train, test):\n",
    "    if x == 'tfidf':\n",
    "      vectorizer = TfidfVectorizer(max_features = 5000, min_df = 10, ngram_range = (1, 2))\n",
    "    elif x == 'bow':\n",
    "      vectorizer = CountVectorizer(max_features = 5000, min_df = 10, ngram_range = (1, 2))\n",
    "    \n",
    "    vectorizer.fit(train)\n",
    "    train = vectorizer.transform(train).toarray()\n",
    "    test = vectorizer.transform(test).toarray()\n",
    "    return train, test\n",
    "\n",
    "model_features = dict()\n",
    "count = 1\n",
    "\n",
    "for features in ['tfidf', 'bow']:\n",
    "  \n",
    "  train_text, test_text = text_features(features, X_train_essay, X_test_essay)\n",
    "  train_data = np.column_stack((X_train, train_text))\n",
    "  test_data = np.column_stack((X_test, test_text))\n",
    "\n",
    "  print(train_data.shape, Y_train.shape)\n",
    "  print(test_data.shape, Y_test.shape)\n",
    "\n",
    "  if features == 'tfidf' :\n",
    "    model = MultinomialNB(alpha = 1e-05, class_prior = [0.5, 0.5])\n",
    "  elif features == 'bow':\n",
    "    model = MultinomialNB(alpha = 0.01, class_prior = [0.5, 0.5])\n",
    "\n",
    "  out = model.fit(train_data, Y_train)\n",
    "  model_features['model_'+str(count)] = out\n",
    "\n",
    "  probs = model.predict_proba(train_data)  \n",
    "  probs = probs[:, 1]\n",
    "  train_fpr, train_tpr, test_thresholds = metrics.roc_curve(Y_train, probs)\n",
    "\n",
    "  probs = model.predict_proba(test_data)  \n",
    "  probs = probs[:, 1]\n",
    "  test_fpr, test_tpr, train_thresholds = metrics.roc_curve(Y_test, probs)\n",
    "  count+=1\n",
    "\n",
    "  print(\"#\"*50, \"\\n\\n\")\n",
    "\n",
    "  print(\"\\n\", str(features) + \"_AUC\" + \" : \", \"\\n\")\n",
    "  \n",
    "  print(\"Train : \", metrics.auc(train_fpr, train_tpr),\"\\n\")\n",
    "  print(\"Test : \", metrics.auc(test_fpr, test_tpr),\"\\n\")\n",
    "  print(\"#\"*50, \"\\n\\n\")"
   ]
  },
  {
   "cell_type": "markdown",
   "metadata": {
    "id": "kIo_KRR1g-24"
   },
   "source": [
    "### BEST PARAMETERS FOR BOTH TEXT_FEATURES AND MODEL:\n",
    "\n",
    "###```NOTE : ```\n",
    "\n",
    "```\n",
    "bow_AUC :  \n",
    "\n",
    "Train :  0.7398342037152453 \n",
    "\n",
    "Test :  0.6967367810567857 \n",
    "```"
   ]
  },
  {
   "cell_type": "markdown",
   "metadata": {
    "id": "UaLamO9zhy3l"
   },
   "source": [
    "## FINAL MODEL:"
   ]
  },
  {
   "cell_type": "code",
   "execution_count": 7,
   "metadata": {
    "colab": {
     "base_uri": "https://localhost:8080/",
     "height": 35
    },
    "id": "emANzq7yh7d6",
    "outputId": "3d196adc-3039-4a41-89a7-09db2238a37e"
   },
   "outputs": [
    {
     "name": "stdout",
     "output_type": "stream",
     "text": [
      "(109248, 8) (109248,)\n"
     ]
    }
   ],
   "source": [
    "import gc\n",
    "gc.collect()\n",
    "\n",
    "path = '/content/drive/My Drive/6_Donors_choose_NB/'\n",
    "\n",
    "X = pd.read_csv(path + 'preprocessed_data.csv')\n",
    "y = X['project_is_approved']\n",
    "X = X.drop(['project_is_approved'], axis=1)\n",
    "\n",
    "print(X.shape, y.shape)"
   ]
  },
  {
   "cell_type": "code",
   "execution_count": 8,
   "metadata": {
    "id": "boIOpvWziIc9"
   },
   "outputs": [],
   "source": [
    "from sklearn.model_selection import train_test_split\n",
    "\n",
    "X_train, X_test, Y_train, Y_test = train_test_split(X, y, test_size=0.33, stratify=y, random_state=0)"
   ]
  },
  {
   "cell_type": "code",
   "execution_count": 9,
   "metadata": {
    "id": "Wbz-lrIqiUZN"
   },
   "outputs": [],
   "source": [
    "from sklearn.preprocessing import Normalizer\n",
    "\n",
    "ohe1 = CountVectorizer()\n",
    "ohe1.fit(X_train['school_state'].values)\n",
    "school_state_ohe_train = ohe1.transform(X_train['school_state'].values).toarray() # fit has to happen only on train data\n",
    "school_state_ohe_test = ohe1.transform(X_test['school_state'].values).toarray()\n",
    "\n",
    "ohe2 = CountVectorizer()\n",
    "ohe2.fit(X_train['teacher_prefix'].values)\n",
    "teacher_prefix_ohe_train = ohe2.transform(X_train['teacher_prefix'].values).toarray() # fit has to happen only on train data\n",
    "teacher_prefix_ohe_test = ohe2.transform(X_test['teacher_prefix'].values).toarray()\n",
    "\n",
    "ohe3 = CountVectorizer()\n",
    "ohe3.fit(X_train['project_grade_category'].values)\n",
    "project_grade_category_ohe_train = ohe3.transform(X_train['project_grade_category'].values).toarray() # fit has to happen only on train data\n",
    "project_grade_category_ohe_test = ohe3.transform(X_test['project_grade_category'].values).toarray()\n",
    "\n",
    "ohe4 = CountVectorizer()\n",
    "ohe4.fit(X_train['clean_categories'].values)\n",
    "clean_categories_ohe_train = ohe4.transform(X_train['clean_categories'].values).toarray() # fit has to happen only on train data\n",
    "clean_categories_ohe_test = ohe4.transform(X_test['clean_categories'].values).toarray()\n",
    "\n",
    "ohe5 = CountVectorizer()\n",
    "ohe5.fit(X_train['clean_subcategories'].values)\n",
    "clean_subcategories_ohe_train = ohe5.transform(X_train['clean_subcategories'].values).toarray() # fit has to happen only on train data\n",
    "clean_subcategories_ohe_test = ohe5.transform(X_test['clean_subcategories'].values).toarray()\n",
    "\n",
    "norm = Normalizer()\n",
    "norm.fit(X_train['price'].values.reshape(-1,1))\n",
    "X_train_price_norm = norm.transform(X_train['price'].values.reshape(-1,1))\n",
    "X_test_price_norm = norm.transform(X_test['price'].values.reshape(-1,1))\n",
    "\n",
    "norm.fit(X_train['teacher_number_of_previously_posted_projects'].values.reshape(-1,1))\n",
    "X_train_no_prev_proj = norm.transform(X_train['teacher_number_of_previously_posted_projects'].values.reshape(-1,1))\n",
    "X_test_no_prev_proj = norm.transform(X_test['teacher_number_of_previously_posted_projects'].values.reshape(-1,1))"
   ]
  },
  {
   "cell_type": "code",
   "execution_count": 10,
   "metadata": {
    "colab": {
     "base_uri": "https://localhost:8080/",
     "height": 90
    },
    "id": "lm7x86dzid4g",
    "outputId": "4ac0476b-5ea2-41ca-e4c2-e270481720c3"
   },
   "outputs": [
    {
     "name": "stdout",
     "output_type": "stream",
     "text": [
      "Final Data matrix\n",
      "(73196, 101) (73196,)\n",
      "(36052, 101) (36052,)\n",
      "====================================================================================================\n"
     ]
    }
   ],
   "source": [
    "X_train_essay = X_train['essay']\n",
    "X_test_essay = X_test['essay']\n",
    "\n",
    "X_train = np.column_stack((X_train_no_prev_proj, X_train_price_norm, school_state_ohe_train, teacher_prefix_ohe_train, project_grade_category_ohe_train, clean_categories_ohe_train, clean_subcategories_ohe_train))\n",
    "\n",
    "X_test = np.column_stack((X_test_no_prev_proj, X_test_price_norm, school_state_ohe_test, teacher_prefix_ohe_test, project_grade_category_ohe_test, clean_categories_ohe_test, clean_subcategories_ohe_test))\n",
    "\n",
    "gc.collect()\n",
    "\n",
    "print(\"Final Data matrix\")\n",
    "print(X_train.shape, Y_train.shape)\n",
    "print(X_test.shape, Y_test.shape)\n",
    "\n",
    "print(\"=\"*100)"
   ]
  },
  {
   "cell_type": "code",
   "execution_count": null,
   "metadata": {
    "id": "4MenM-p-zTmA"
   },
   "outputs": [],
   "source": [
    "from sklearn.metrics import roc_auc_score\n",
    "from sklearn.model_selection import KFold\n",
    "from sklearn.model_selection import cross_val_score\n",
    "\n",
    "def text_features(x, train, test):\n",
    "  if x == 'tfidf':\n",
    "    vectorizer = TfidfVectorizer(max_features = 5000, min_df = 10, ngram_range = (1, 2))\n",
    "  elif x == 'bow':\n",
    "    vectorizer = CountVectorizer(max_features = 5000, min_df = 10, ngram_range = (1, 2))\n",
    "\n",
    "  vectorizer.fit(train)\n",
    "  train = vectorizer.transform(train).toarray()\n",
    "  test = vectorizer.transform(test).toarray()\n",
    "  return train, test\n",
    "\n",
    "model = MultinomialNB(alpha = 0.01, class_prior = [0.5, 0.5])\n",
    "\n",
    "train_text, test_text = text_features('bow', X_train_essay, X_test_essay)\n",
    "train_data = np.column_stack((X_train, train_text))\n",
    "test_data = np.column_stack((X_test, test_text))\n"
   ]
  },
  {
   "cell_type": "code",
   "execution_count": null,
   "metadata": {
    "id": "vcmKKjQc06-h"
   },
   "outputs": [],
   "source": [
    "model = model.fit(train_data, Y_train)\n",
    "\n",
    "Y_pred = model.predict(test_data)"
   ]
  },
  {
   "cell_type": "code",
   "execution_count": null,
   "metadata": {
    "colab": {
     "base_uri": "https://localhost:8080/",
     "height": 452
    },
    "id": "nIRZ4EW_ewIu",
    "outputId": "8c5eba72-3936-4e94-9688-784ace013ca5"
   },
   "outputs": [
    {
     "data": {
      "image/png": "[encoded data removed]",
      "text/plain": [
       "<Figure size 504x504 with 1 Axes>"
      ]
     },
     "metadata": {
      "needs_background": "light",
      "tags": []
     },
     "output_type": "display_data"
    }
   ],
   "source": [
    "from mlxtend.plotting import plot_confusion_matrix\n",
    "import matplotlib.pyplot as plt\n",
    "\n",
    "font = {\n",
    "    'family' : 'DejaVu Sans',\n",
    "    'weight' : 'bold',\n",
    "    'size' : '16'\n",
    "}\n",
    "\n",
    "plt.rc('font', **font)\n",
    "\n",
    "mat = confusion_matrix(Y_test, Y_pred)\n",
    "\n",
    "plot_confusion_matrix(conf_mat=mat, figsize=(7,7), show_normed=True);"
   ]
  },
  {
   "cell_type": "code",
   "execution_count": null,
   "metadata": {
    "colab": {
     "base_uri": "https://localhost:8080/",
     "height": 90
    },
    "id": "DVYJQhWb0Au6",
    "outputId": "5ab79ae3-6345-4cc3-d95e-bfc172153149"
   },
   "outputs": [
    {
     "name": "stdout",
     "output_type": "stream",
     "text": [
      "train_roc_auc_score :  0.665188483106524\n",
      "test_roc_auc_score :  0.6478468079340801\n",
      "train_auc_score :  0.7184353749037518\n",
      "test_auc_score :  0.694146222581427\n"
     ]
    }
   ],
   "source": [
    "Y_train_pred = model.predict(train_data)\n",
    "\n",
    "print(\"train_roc_auc_score : \" , roc_auc_score(Y_train, Y_train_pred))\n",
    "print(\"test_roc_auc_score : \", roc_auc_score(Y_test, Y_pred))\n",
    "\n",
    "probs = model.predict_proba(train_data)  \n",
    "probs = probs[:, 1]\n",
    "train_fpr, train_tpr, train_thresholds = metrics.roc_curve(Y_train, probs)\n",
    "\n",
    "probs = model.predict_proba(test_data)  \n",
    "probs = probs[:, 1]\n",
    "test_fpr, test_tpr, test_thresholds = metrics.roc_curve(Y_test, probs)\n",
    "\n",
    "print(\"train_auc_score : \" , metrics.auc(train_fpr, train_tpr))\n",
    "print(\"test_auc_score : \", metrics.auc(test_fpr, test_tpr))"
   ]
  },
  {
   "cell_type": "code",
   "execution_count": null,
   "metadata": {
    "colab": {
     "base_uri": "https://localhost:8080/",
     "height": 428
    },
    "id": "zPG1W8cTyLS0",
    "outputId": "db3481ab-4ac2-4708-e5a3-a893064a4adb"
   },
   "outputs": [
    {
     "name": "stdout",
     "output_type": "stream",
     "text": [
      "train_auc_score :  0.7184353749037518 \n",
      "\n",
      "\n",
      "test_auc_score :  0.694146222581427 \n",
      "\n",
      "\n"
     ]
    },
    {
     "name": "stderr",
     "output_type": "stream",
     "text": [
      "No handles with labels found to put in legend.\n"
     ]
    },
    {
     "data": {
      "image/png": "[encoded data removed]",
      "text/plain": [
       "<Figure size 432x288 with 1 Axes>"
      ]
     },
     "metadata": {
      "tags": []
     },
     "output_type": "display_data"
    }
   ],
   "source": [
    "import matplotlib.pyplot as plt\n",
    "import seaborn as sns\n",
    "sns.set(style=\"ticks\")\n",
    "sns.set(style='darkgrid')\n",
    "print(\"train_auc_score : \" , metrics.auc(train_fpr, train_tpr), \"\\n\\n\")\n",
    "print(\"test_auc_score : \", metrics.auc(test_fpr, test_tpr), \"\\n\\n\")\n",
    "\n",
    "a = sns.lineplot(train_fpr, train_tpr, color='orange', label='_train_ROC')\n",
    "b = sns.lineplot(test_fpr, test_tpr, color='green', label='_test_ROC')\n",
    "sns.lineplot([0, 1], [0, 1], color='darkblue', linestyle='--')\n",
    "\n",
    "plt.xlabel('False Positive Rate')\n",
    "plt.ylabel('True Positive Rate')\n",
    "plt.title('Receiver Operating Characteristic (ROC) Curve')\n",
    "\n",
    "plt.legend()\n",
    "plt.show();"
   ]
  },
  {
   "cell_type": "code",
   "execution_count": null,
   "metadata": {
    "colab": {
     "base_uri": "https://localhost:8080/",
     "height": 53
    },
    "id": "E0s32EmA0w8X",
    "outputId": "5a966605-5517-4e72-b215-d0bfeabe9d55"
   },
   "outputs": [
    {
     "name": "stdout",
     "output_type": "stream",
     "text": [
      "[4144, 3713, 2449, 2910, 812, 3028, 2394, 4567, 2001, 4514, 2925, 1, 2929, 2725, 4886, 2944, 4988, 0, 905, 2629]\n",
      "[4144, 3713, 2910, 2449, 812, 4514, 4567, 3028, 2925, 2394, 2001, 1, 2725, 2929, 4886, 4988, 2944, 3532, 4766, 0]\n"
     ]
    }
   ],
   "source": [
    "print(list(np.argsort(model.feature_log_prob_[0])[::-1])[:20])\n",
    "\n",
    "print(list(np.argsort(model.feature_log_prob_[1])[::-1])[:20])"
   ]
  },
  {
   "cell_type": "code",
   "execution_count": null,
   "metadata": {
    "colab": {
     "base_uri": "https://localhost:8080/",
     "height": 35
    },
    "id": "2NUKYd7O2mjN",
    "outputId": "e5aff110-84eb-4aec-c493-55de17063993"
   },
   "outputs": [
    {
     "name": "stdout",
     "output_type": "stream",
     "text": [
      "(73196, 1) (73196, 1) (73196, 51) (73196, 5) (73196, 4) (73196, 9) (73196, 30) (73196, 5000)\n"
     ]
    }
   ],
   "source": [
    "print(X_train_no_prev_proj.shape, X_train_price_norm.shape, school_state_ohe_train.shape, teacher_prefix_ohe_train.shape, project_grade_category_ohe_train.shape, clean_categories_ohe_train.shape, clean_subcategories_ohe_train.shape, train_text.shape)\n",
    "\n",
    "val = [X_test_no_prev_proj.shape[1], X_test_price_norm.shape[1], school_state_ohe_test.shape[1], teacher_prefix_ohe_test.shape[1], project_grade_category_ohe_test.shape[1], clean_categories_ohe_test.shape[1], clean_subcategories_ohe_test.shape[1], test_text.shape[1]]\n",
    "\n",
    "train = {'X_train_no_prev_proj' : '[0,0]', 'X_train_price_norm' : '[0,1]', 'school_state_ohe_train' : '[2,53]', 'teacher_prefix_ohe_train' : '[54,58]', 'project_grade_category_ohe_train' : '[59,62]', 'clean_categories_ohe_train' : '[63, 71]', 'clean_subcategories_ohe_train' : '[72,101]', 'X_train_essay' : '[102:5101]'}\n"
   ]
  },
  {
   "cell_type": "code",
   "execution_count": null,
   "metadata": {
    "colab": {
     "base_uri": "https://localhost:8080/",
     "height": 73
    },
    "id": "g95nFm4Ql_tM",
    "outputId": "ed5addbc-22f2-4b52-ca4d-8829af1134b7"
   },
   "outputs": [
    {
     "name": "stdout",
     "output_type": "stream",
     "text": [
      "columns :  ['X_train_no_prev_proj', 'X_train_price_norm', 'school_state_ohe_train', 'teacher_prefix_ohe_train', 'project_grade_category_ohe_train', 'clean_categories_ohe_train', 'clean_subcategories_ohe_train', 'X_train_essay']\n",
      "ranges :  ['[0,0]', '[0,1]', '[2,53]', '[54,58]', '[59,62]', '[63, 71]', '[72,101]', '[102:5101]']\n"
     ]
    }
   ],
   "source": [
    "print('columns : ', list(train.keys())) \n",
    "\n",
    "print('ranges : ', list(train.values()))"
   ]
  },
  {
   "cell_type": "markdown",
   "metadata": {
    "id": "vJ3x14xYmj3D"
   },
   "source": [
    "```\n",
    "### TOP 20 NEGATIVE CLASS PROB Features\n",
    "\n",
    "1 : 'X_test_price_norm',\n",
    "0 : 'X_train_no_prev_proj',\n",
    "4144 : 'X_train_essay' #remaining 18 features from essay\n",
    "```"
   ]
  },
  {
   "cell_type": "markdown",
   "metadata": {
    "id": "WhpEQJiynA5z"
   },
   "source": [
    "\n",
    "```\n",
    "### TOP 20 POSITIVE CLASS PROB Features\n",
    "\n",
    "1 : 'X_test_price_norm',\n",
    "0 : 'X_train_no_prev_proj',\n",
    "4144 : 'X_train_essay' #remaining 18 features from essay\n",
    "```\n",
    "\n"
   ]
  },
  {
   "cell_type": "markdown",
   "metadata": {},
   "source": [
    "## Summary"
   ]
  },
  {
   "cell_type": "code",
   "execution_count": null,
   "metadata": {
    "colab": {
     "base_uri": "https://localhost:8080/",
     "height": 126
    },
    "id": "i0-sCXGu2MlU",
    "outputId": "1decc437-95e4-4b36-9df8-c86a53971156"
   },
   "outputs": [
    {
     "name": "stdout",
     "output_type": "stream",
     "text": [
      "+------------+-------+-----------------+-----------+----------+\n",
      "| Vectorizer | Model | Hyper_Parameter | Train_AUC | Test_AUC |\n",
      "+------------+-------+-----------------+-----------+----------+\n",
      "|    BOW     |  MNB  |   Alpha : 0.01  |    0.73   |   0.69   |\n",
      "|   TFIDF    |  MNB  |   Alpha : 1e-5  |    0.72   |   0.69   |\n",
      "+------------+-------+-----------------+-----------+----------+\n"
     ]
    }
   ],
   "source": [
    "from prettytable import PrettyTable\n",
    "\n",
    "x = PrettyTable()\n",
    "x.field_names = [\"Vectorizer\", \"Model\", \"Hyper_Parameter\", \"Train_AUC\", \"Test_AUC\"]\n",
    "\n",
    "x.add_row([\"BOW\", 'MNB', 'Alpha : 0.01', 0.73, 0.69])\n",
    "x.add_row([\"TFIDF\", 'MNB', 'Alpha : 1e-5', 0.72, 0.69])\n",
    "\n",
    "print(x)"
   ]
  }
 ],
 "metadata": {
  "colab": {
   "collapsed_sections": [],
   "name": "Donor_choose_model_train(1).ipynb",
   "provenance": [],
   "toc_visible": true
  },
  "kernelspec": {
   "display_name": "Python 3",
   "language": "python",
   "name": "python3"
  },
  "language_info": {
   "codemirror_mode": {
    "name": "ipython",
    "version": 3
   },
   "file_extension": ".py",
   "mimetype": "text/x-python",
   "name": "python",
   "nbconvert_exporter": "python",
   "pygments_lexer": "ipython3",
   "version": "3.7.0"
  }
 },
 "nbformat": 4,
 "nbformat_minor": 1
}
