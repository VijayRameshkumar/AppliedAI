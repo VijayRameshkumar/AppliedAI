{
 "cells": [
  {
   "cell_type": "markdown",
   "metadata": {
    "colab_type": "text",
    "id": "5HExLQrE4ZxR"
   },
   "source": [
    "<h1><font color='blue'> 8E and 8F: Finding the Probability P(Y==1|X)</font></h1>"
   ]
  },
  {
   "cell_type": "markdown",
   "metadata": {
    "colab_type": "text",
    "id": "4LuKrFzC4ZxV"
   },
   "source": [
    "<h2><font color='Geen'> 8E: Implementing Decision Function of SVM RBF Kernel</font></h2>"
   ]
  },
  {
   "cell_type": "markdown",
   "metadata": {
    "colab_type": "text",
    "id": "1wES-wWN4ZxX"
   },
   "source": [
    "<font face=' Comic Sans MS' size=3>After we train a kernel SVM model, we will be getting support vectors and their corresponsing coefficients $\\alpha_{i}$\n",
    "\n",
    "Check the documentation for better understanding of these attributes: \n",
    "\n",
    "https://scikit-learn.org/stable/modules/generated/sklearn.svm.SVC.html\n",
    "<img src='https://i.imgur.com/K11msU4.png' width=500>\n",
    "\n",
    "As a part of this assignment you will be implementing the ```decision_function()``` of kernel SVM, here decision_function() means based on the value return by ```decision_function()``` model will classify the data point either as positive or negative\n",
    "\n",
    "Ex 1: In logistic regression After traning the models with the optimal weights $w$ we get, we will find the value $\\frac{1}{1+\\exp(-(wx+b))}$, if this value comes out to be < 0.5 we will mark it as negative class, else its positive class\n",
    "\n",
    "Ex 2: In Linear SVM After traning the models with the optimal weights $w$ we get, we will find the value of $sign(wx+b)$, if this value comes out to be -ve we will mark it as negative class, else its positive class.\n",
    "\n",
    "Similarly in Kernel SVM After traning the models with the coefficients $\\alpha_{i}$ we get, we will find the value of \n",
    "$sign(\\sum_{i=1}^{n}(y_{i}\\alpha_{i}K(x_{i},x_{q})) + intercept)$, here $K(x_{i},x_{q})$ is the RBF kernel. If this value comes out to be -ve we will mark $x_{q}$ as negative class, else its positive class.\n",
    "\n",
    "RBF kernel is defined as: $K(x_{i},x_{q})$ = $exp(-\\gamma ||x_{i} - x_{q}||^2)$\n",
    "\n",
    "For better understanding check this link: https://scikit-learn.org/stable/modules/svm.html#svm-mathematical-formulation\n",
    "</font>"
   ]
  },
  {
   "cell_type": "markdown",
   "metadata": {
    "colab_type": "text",
    "id": "z830CfMk4Zxa"
   },
   "source": [
    "## Task E"
   ]
  },
  {
   "cell_type": "markdown",
   "metadata": {
    "colab_type": "text",
    "id": "MuBxHiCQ4Zxc"
   },
   "source": [
    "> 1. Split the data into $X_{train}$(60), $X_{cv}$(20), $X_{test}$(20)\n",
    "\n",
    "> 2. Train $SVC(gamma=0.001, C=100.)$ on the ($X_{train}$, $y_{train}$)\n",
    "\n",
    "> 3. Get the decision boundry values $f_{cv}$ on the $X_{cv}$ data  i.e. ` `$f_{cv}$ ```= decision_function(```$X_{cv}$```)```  <font color='red'>you need to implement this decision_function()</font>"
   ]
  },
  {
   "cell_type": "code",
   "execution_count": 1,
   "metadata": {
    "colab": {},
    "colab_type": "code",
    "id": "fCgMNEvI4Zxf"
   },
   "outputs": [],
   "source": [
    "import numpy as np\n",
    "import pandas as pd\n",
    "from sklearn.datasets import make_classification\n",
    "from sklearn.model_selection import GridSearchCV\n",
    "import matplotlib.pyplot as plt\n",
    "from sklearn.svm import SVC\n",
    "from sklearn.model_selection import train_test_split\n",
    "import math"
   ]
  },
  {
   "cell_type": "code",
   "execution_count": 2,
   "metadata": {
    "colab": {},
    "colab_type": "code",
    "id": "ANUNIqCe4Zxn"
   },
   "outputs": [],
   "source": [
    "X, y = make_classification(n_samples=5000, n_features=5, n_redundant=2,\n",
    "                           n_classes=2, weights=[0.7], class_sep=0.7, random_state=15)"
   ]
  },
  {
   "cell_type": "code",
   "execution_count": 3,
   "metadata": {},
   "outputs": [
    {
     "name": "stdout",
     "output_type": "stream",
     "text": [
      "(3500, 5) (3500,) (450, 5) (450,)\n",
      "(450, 5) (450,) (1050, 5) (1050,)\n"
     ]
    }
   ],
   "source": [
    "xtrain, xtest, ytrain, ytest = train_test_split(X, y, test_size=0.3, random_state=0)\n",
    "xcv, xtest,ycv, ytest = train_test_split(xtest, ytest, test_size=0.3, random_state=0)\n",
    "\n",
    "print(xtrain.shape, ytrain.shape, xtest.shape, ytest.shape)\n",
    "print(xtest.shape, ytest.shape, xcv.shape, ycv.shape)"
   ]
  },
  {
   "cell_type": "code",
   "execution_count": 4,
   "metadata": {},
   "outputs": [],
   "source": [
    "clf = SVC(random_state=0, decision_function_shape='ovo')\n",
    "\n",
    "clf = GridSearchCV(clf, {'C': [0.001, 0.01, 0.1, 1, 10, 100], 'gamma' : [0.001,0.01, 0.1, 1, 10, 100]}, n_jobs=-1, cv=5)\n",
    "clf = clf.fit(xtrain, ytrain)  # set the best parameters"
   ]
  },
  {
   "cell_type": "code",
   "execution_count": 5,
   "metadata": {},
   "outputs": [
    {
     "data": {
      "text/plain": [
       "(SVC(C=100, decision_function_shape='ovo', gamma=1, random_state=0),\n",
       " 0.9394285714285715)"
      ]
     },
     "execution_count": 5,
     "metadata": {},
     "output_type": "execute_result"
    }
   ],
   "source": [
    "clf.best_estimator_, clf.best_score_"
   ]
  },
  {
   "cell_type": "markdown",
   "metadata": {
    "colab_type": "text",
    "id": "tHie1zqH4Zxt"
   },
   "source": [
    "### Pseudo code\n",
    "\n",
    "clf = SVC(gamma=0.001, C=100.)<br>\n",
    "clf.fit(Xtrain, ytrain)\n",
    "\n",
    "<font color='green'>def</font> <font color='blue'>decision_function</font>(Xcv, ...): #use appropriate parameters <br>\n",
    "&nbsp;&nbsp;&nbsp;&nbsp;&nbsp;&nbsp;<font color='green'>for</font> a data point $x_q$ <font color='green'>in</font> Xcv: <br>\n",
    "&nbsp;&nbsp;&nbsp;&nbsp;&nbsp;&nbsp;&nbsp;&nbsp;&nbsp;&nbsp;&nbsp;&nbsp;<font color='grey'>#write code to implement $(\\sum_{i=1}^{\\text{all the support vectors}}(y_{i}\\alpha_{i}K(x_{i},x_{q})) + intercept)$, here the values $y_i$, $\\alpha_{i}$, and $intercept$ can be obtained from the trained model</font><br>\n",
    "   <font color='green'>return</font> <font color='grey'><i># the decision_function output for all the data points in the Xcv</i></font>\n",
    "    \n",
    "fcv = decision_function(Xcv, ...)  <i># based on your requirement you can pass any other parameters </i>\n",
    "\n",
    "<b>Note</b>: Make sure the values you get as fcv, should be equal to outputs of clf.decision_function(Xcv)\n"
   ]
  },
  {
   "cell_type": "code",
   "execution_count": 6,
   "metadata": {},
   "outputs": [],
   "source": [
    "clf = SVC(random_state=0, gamma=1, C=100, decision_function_shape='ovo')\n",
    "\n",
    "clf.fit(xtrain, ytrain)\n",
    "\n",
    "pred = clf.predict(xcv)\n",
    "\n",
    "clf_dec = clf.decision_function(xcv)"
   ]
  },
  {
   "cell_type": "code",
   "execution_count": 7,
   "metadata": {},
   "outputs": [
    {
     "name": "stdout",
     "output_type": "stream",
     "text": [
      "[-1.2615415501507021, -1.1703596219479158, -1.3159367087032825, -1.5034977523157584, -0.6440073630763044] \n",
      " [-1.26154155 -1.17035962 -1.31593671 -1.50349775 -0.64400736]\n"
     ]
    }
   ],
   "source": [
    "def decision_function(clf, data):\n",
    "    add_intercept = []\n",
    "\n",
    "    for x_q in data:\n",
    "        add_intercept.append(np.sum(clf.dual_coef_ * np.exp(-clf._gamma*np.sum((clf.support_vectors_ - x_q)**2, axis=1))) + clf.intercept_[0])\n",
    "    return add_intercept\n",
    "\n",
    "fcv = decision_function(clf, xcv)\n",
    "\n",
    "print(fcv[:5], '\\n', clf_dec[:5])"
   ]
  },
  {
   "cell_type": "markdown",
   "metadata": {
    "colab_type": "text",
    "id": "c0bKCboN4Zxu"
   },
   "source": [
    "<h2><font color='Geen'> 8F: Implementing Platt Scaling to find P(Y==1|X)</font></h2>"
   ]
  },
  {
   "cell_type": "markdown",
   "metadata": {
    "colab_type": "text",
    "id": "nMn7OEN94Zxw"
   },
   "source": [
    "Check this <a href='https://drive.google.com/open?id=133odBinMOIVb_rh_GQxxsyMRyW-Zts7a'>PDF</a>\n",
    "<img src='https://i.imgur.com/CAMnVnh.png'>\n"
   ]
  },
  {
   "cell_type": "code",
   "execution_count": 8,
   "metadata": {},
   "outputs": [
    {
     "name": "stdout",
     "output_type": "stream",
     "text": [
      "[[   0    1]\n",
      " [2471 1029]]\n"
     ]
    }
   ],
   "source": [
    "unique, frequency = np.unique(ytrain, return_counts = True)  \n",
    "count = np.asarray((unique, frequency ))\n",
    "\n",
    "print(count)"
   ]
  },
  {
   "cell_type": "code",
   "execution_count": 9,
   "metadata": {},
   "outputs": [],
   "source": [
    "neg, pos = frequency[0], frequency[1]\n",
    "\n",
    "def target_calib(x):\n",
    "    cal_target = []\n",
    "    for i in x:\n",
    "        if i == 1:\n",
    "            cal_target.append((pos + 1)/(pos + 2))\n",
    "        elif i == 0:\n",
    "            cal_target.append(1 / (neg + 2))\n",
    "    return cal_target\n",
    "\n",
    "claibrated_target = target_calib(pred.tolist())"
   ]
  },
  {
   "cell_type": "markdown",
   "metadata": {
    "colab_type": "text",
    "id": "e0n5EFkx4Zxz"
   },
   "source": [
    "## TASK F"
   ]
  },
  {
   "cell_type": "markdown",
   "metadata": {
    "colab_type": "text",
    "id": "t0HOqVJq4Zx1"
   },
   "source": [
    "\n",
    "> 4. Apply SGD algorithm with ($f_{cv}$, $y_{cv}$) and find the weight $W$ intercept $b$ ```Note: here our data is of one dimensional so we will have a one dimensional weight vector i.e W.shape (1,)``` \n",
    "\n",
    "> Note1: Don't forget to change the values of $y_{cv}$ as mentioned in the above image. you will calculate y+, y- based on data points in train data\n",
    "\n",
    "> Note2: the Sklearn's SGD algorithm doesn't support the real valued outputs, you need to use the code that was done in the `'Logistic Regression with SGD and L2'` Assignment after modifying loss function, and use same parameters that used in that assignment.\n",
    "<img src='https://i.imgur.com/zKYE9Oc.png'>\n",
    "if Y[i] is 1, it will be replaced with y+ value else it will replaced with y- value\n",
    "\n",
    "> 5. For a given data point from $X_{test}$, $P(Y=1|X) = \\frac{1}{1+exp(-(W*f_{test}+ b))}$ where ` `$f_{test}$ ```= decision_function(```$X_{test}$```)```, W and b will be learned as metioned in the above step"
   ]
  },
  {
   "cell_type": "code",
   "execution_count": 10,
   "metadata": {},
   "outputs": [],
   "source": [
    "def initialize_weights(dim):\n",
    "    w = np.zeros_like((dim))\n",
    "    b = np.zeros_like((1))\n",
    "    print(\"Weights-Initialized : \", w.shape)\n",
    "    return w,b\n",
    "\n",
    "def sigmoid(z):\n",
    "    sigmoid = 1/(1+math.exp(-z))\n",
    "    return sigmoid\n",
    "\n",
    "def logloss(W, b, X, Y):\n",
    "    N = len(X)\n",
    "    loss=[]\n",
    "    for i in range(N):\n",
    "        z = np.dot(X[i],W) + b\n",
    "        pred = sigmoid(z)\n",
    "        if pred < 0.5:\n",
    "            l = (1-Y[i])*np.log10(1-pred)\n",
    "            loss.append(l)\n",
    "        else:\n",
    "            l = Y[i]*np.log10(pred)\n",
    "            loss.append(l)\n",
    "    loss = (-1 * 1/len(loss) * sum(loss))\n",
    "    return loss\n",
    "\n",
    "def gradient_dw(x,y,w,b,alpha,N):\n",
    "    dw =x*(y-sigmoid(np.dot(w,x)+b)) - alpha/N * w\n",
    "    return dw\n",
    "\n",
    "def gradient_db(x,y,w,b):\n",
    "    db =(y-sigmoid(np.dot(w,x)+b))\n",
    "    return db\n",
    "\n",
    "def pred(w,b, X):\n",
    "    N = len(X.tolist())\n",
    "    predict = []\n",
    "    for i in range(N):\n",
    "        z = np.dot(X[i],w) + b\n",
    "        predict.append(sigmoid(z))\n",
    "\n",
    "    return np.array(predict)"
   ]
  },
  {
   "cell_type": "code",
   "execution_count": 11,
   "metadata": {},
   "outputs": [],
   "source": [
    "def train(Y_calibrated,fcv,epochs,alpha,eta0):\n",
    "\n",
    "    ''' In this function, we will implement logistic regression'''\n",
    "    scale_down_factor = 0.0001\n",
    "    epoch = 1\n",
    "    w, b = initialize_weights(1)\n",
    "    wl = []\n",
    "    bl = []\n",
    "    \n",
    "    Lw=np.zeros_like(1)\n",
    "    Lb=0\n",
    "    \n",
    "    loss = 0\n",
    "    prev = 0\n",
    "    train_loss = []\n",
    "    test_loss = []\n",
    "    \n",
    "    while epoch <= epochs:\n",
    "        \n",
    "        y_train_pred = []\n",
    "        y_test_pred = []\n",
    "        np.random.RandomState(seed=2)\n",
    "        \n",
    "        for m in range(len(Y_calibrated)):\n",
    "            \n",
    "            i = np.random.choice(len(Y_calibrated))\n",
    "            z = np.dot(Y_calibrated[i],w) + b\n",
    "            \n",
    "            Lw = gradient_dw(Y_calibrated[i],fcv[i],w,b,alpha,len(Y_calibrated))\n",
    "            Lb = gradient_db(Y_calibrated[i],fcv[i],w,b)\n",
    "            \n",
    "            w=(1-(alpha * scale_down_factor/epochs))*w+alpha*Lw\n",
    "            b=b+alpha*Lb\n",
    "            \n",
    "        train_loss.append(round(logloss(w,b,Y_calibrated, fcv), 3))\n",
    "        \n",
    "        if train_loss[-1] == prev:\n",
    "            break;\n",
    "        else:\n",
    "            prev = train_loss[-1]\n",
    "            print(\"Epoch: %d, train_Loss: %.3f\" %(epoch, train_loss[-1]))\n",
    "            epoch+=1\n",
    "        \n",
    "    %matplotlib inline\n",
    "    import matplotlib.pyplot as plt\n",
    "    plt.plot(train_loss, label='train_log_loss')\n",
    "    plt.grid()\n",
    "    plt.legend() \n",
    "    plt.title('Log loss vs epoch')\n",
    "    plt.xlabel('Iterations')\n",
    "    plt.ylabel('log loss')\n",
    "    plt.show()\n",
    "        \n",
    "    return w,b"
   ]
  },
  {
   "cell_type": "code",
   "execution_count": 12,
   "metadata": {},
   "outputs": [
    {
     "name": "stdout",
     "output_type": "stream",
     "text": [
      "Weights-Initialized :  ()\n",
      "Epoch: 1, train_Loss: 0.413\n",
      "Epoch: 2, train_Loss: 0.376\n",
      "Epoch: 3, train_Loss: 0.340\n",
      "Epoch: 4, train_Loss: 0.305\n",
      "Epoch: 5, train_Loss: 0.274\n",
      "Epoch: 6, train_Loss: 0.247\n",
      "Epoch: 7, train_Loss: 0.222\n",
      "Epoch: 8, train_Loss: 0.199\n",
      "Epoch: 9, train_Loss: 0.178\n",
      "Epoch: 10, train_Loss: 0.158\n",
      "Epoch: 11, train_Loss: 0.140\n",
      "Epoch: 12, train_Loss: 0.122\n",
      "Epoch: 13, train_Loss: 0.106\n",
      "Epoch: 14, train_Loss: 0.090\n",
      "Epoch: 15, train_Loss: 0.076\n",
      "Epoch: 16, train_Loss: 0.063\n",
      "Epoch: 17, train_Loss: 0.050\n",
      "Epoch: 18, train_Loss: 0.039\n",
      "Epoch: 19, train_Loss: 0.028\n",
      "Epoch: 20, train_Loss: 0.018\n",
      "Epoch: 21, train_Loss: 0.009\n",
      "Epoch: 22, train_Loss: 0.001\n",
      "Epoch: 23, train_Loss: -0.008\n",
      "Epoch: 24, train_Loss: -0.015\n",
      "Epoch: 25, train_Loss: -0.023\n",
      "Epoch: 26, train_Loss: -0.029\n",
      "Epoch: 27, train_Loss: -0.034\n",
      "Epoch: 28, train_Loss: -0.040\n",
      "Epoch: 29, train_Loss: -0.045\n",
      "Epoch: 30, train_Loss: -0.050\n",
      "Epoch: 31, train_Loss: -0.054\n",
      "Epoch: 32, train_Loss: -0.057\n",
      "Epoch: 33, train_Loss: -0.061\n",
      "Epoch: 34, train_Loss: -0.065\n",
      "Epoch: 35, train_Loss: -0.068\n",
      "Epoch: 36, train_Loss: -0.071\n",
      "Epoch: 37, train_Loss: -0.076\n",
      "Epoch: 38, train_Loss: -0.080\n",
      "Epoch: 39, train_Loss: -0.082\n",
      "Epoch: 40, train_Loss: -0.086\n",
      "Epoch: 41, train_Loss: -0.088\n",
      "Epoch: 42, train_Loss: -0.090\n",
      "Epoch: 43, train_Loss: -0.091\n",
      "Epoch: 44, train_Loss: -0.094\n"
     ]
    },
    {
     "data": {
      "image/png": "[encoded data removed]",
      "text/plain": [
       "<Figure size 432x288 with 1 Axes>"
      ]
     },
     "metadata": {
      "needs_background": "light"
     },
     "output_type": "display_data"
    }
   ],
   "source": [
    "alpha=0.0001\n",
    "eta0=0.0001\n",
    "N=len(xcv)\n",
    "epochs=50\n",
    "\n",
    "w,b = train(claibrated_target,fcv,epochs,alpha,eta0)"
   ]
  },
  {
   "cell_type": "code",
   "execution_count": 13,
   "metadata": {},
   "outputs": [
    {
     "data": {
      "text/plain": [
       "(3.2319771056507998, -3.5624776230671333)"
      ]
     },
     "execution_count": 13,
     "metadata": {},
     "output_type": "execute_result"
    }
   ],
   "source": [
    "w, b"
   ]
  },
  {
   "cell_type": "code",
   "execution_count": 14,
   "metadata": {
    "scrolled": true
   },
   "outputs": [
    {
     "name": "stdout",
     "output_type": "stream",
     "text": [
      "[8.45382499e-01 3.89597708e-02 5.02809000e-06 5.15371386e-05\n",
      " 6.28412748e-04]\n"
     ]
    }
   ],
   "source": [
    "f_test = decision_function(clf, xtest)\n",
    "\n",
    "def calibrated_test(ftest, weight, bias):\n",
    "    test_prediction = []\n",
    "    for i in ftest:\n",
    "        z = np.dot(i,weight) + bias\n",
    "        test_prediction.append(sigmoid(z))\n",
    "    return np.array(test_prediction)\n",
    "test_pred = calibrated_test(f_test, w, b)\n",
    "\n",
    "print(test_pred[:5])"
   ]
  },
  {
   "cell_type": "markdown",
   "metadata": {
    "colab_type": "text",
    "id": "oTY7z2bd4Zx2"
   },
   "source": [
    "__Note: in the above algorithm, the steps 2, 4 might need hyper parameter tuning, To reduce the complexity of the assignment we are excluding the hyerparameter tuning part, but intrested students can try that__"
   ]
  },
  {
   "cell_type": "markdown",
   "metadata": {
    "colab_type": "text",
    "id": "CM3odN1Z4Zx3"
   },
   "source": [
    "\n",
    "If any one wants to try other calibration algorithm istonic regression also please check these tutorials\n",
    "\n",
    "1. http://fa.bianp.net/blog/tag/scikit-learn.html#fn:1\n",
    "\n",
    "2. https://drive.google.com/open?id=1MzmA7QaP58RDzocB0RBmRiWfl7Co_VJ7\n",
    "\n",
    "3. https://drive.google.com/open?id=133odBinMOIVb_rh_GQxxsyMRyW-Zts7a\n",
    "\n",
    "4. https://stat.fandom.com/wiki/Isotonic_regression#Pool_Adjacent_Violators_Algorithm\n"
   ]
  }
 ],
 "metadata": {
  "colab": {
   "collapsed_sections": [],
   "name": "8E&F_LR_SVM.ipynb",
   "provenance": []
  },
  "kernelspec": {
   "display_name": "Python 3",
   "language": "python",
   "name": "python3"
  },
  "language_info": {
   "codemirror_mode": {
    "name": "ipython",
    "version": 3
   },
   "file_extension": ".py",
   "mimetype": "text/x-python",
   "name": "python",
   "nbconvert_exporter": "python",
   "pygments_lexer": "ipython3",
   "version": "3.8.0"
  }
 },
 "nbformat": 4,
 "nbformat_minor": 1
}
