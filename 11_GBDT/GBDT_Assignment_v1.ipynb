{
 "cells": [
  {
   "cell_type": "markdown",
   "metadata": {},
   "source": [
    "# 1. GBDT - Assignment (LightGBDT)"
   ]
  },
  {
   "cell_type": "code",
   "execution_count": 1,
   "metadata": {
    "colab": {
     "base_uri": "https://localhost:8080/"
    },
    "id": "ykrqmvQLPV92",
    "outputId": "9a43bd4c-96fa-45f8-99b0-439a627e56c0"
   },
   "outputs": [
    {
     "name": "stdout",
     "output_type": "stream",
     "text": [
      "Drive already mounted at /content/drive; to attempt to forcibly remount, call drive.mount(\"/content/drive\", force_remount=True).\n"
     ]
    }
   ],
   "source": [
    "from google.colab import drive\n",
    "drive.mount('/content/drive')"
   ]
  },
  {
   "cell_type": "code",
   "execution_count": 2,
   "metadata": {
    "colab": {
     "base_uri": "https://localhost:8080/"
    },
    "id": "bDVVeyYXilLM",
    "outputId": "0b626a19-35b8-49ea-8ff0-5c52f62e5197"
   },
   "outputs": [
    {
     "name": "stdout",
     "output_type": "stream",
     "text": [
      "Requirement already satisfied: pandas==1.1.3 in /usr/local/lib/python3.6/dist-packages (1.1.3)\n",
      "Requirement already satisfied: pytz>=2017.2 in /usr/local/lib/python3.6/dist-packages (from pandas==1.1.3) (2018.9)\n",
      "Requirement already satisfied: numpy>=1.15.4 in /usr/local/lib/python3.6/dist-packages (from pandas==1.1.3) (1.18.5)\n",
      "Requirement already satisfied: python-dateutil>=2.7.3 in /usr/local/lib/python3.6/dist-packages (from pandas==1.1.3) (2.8.1)\n",
      "Requirement already satisfied: six>=1.5 in /usr/local/lib/python3.6/dist-packages (from python-dateutil>=2.7.3->pandas==1.1.3) (1.15.0)\n",
      "/usr/local/lib/python3.6/dist-packages/pip/_internal/commands/install.py:283: UserWarning: Disabling all use of wheels due to the use of --build-options / --global-options / --install-options.\n",
      "  cmdoptions.check_install_build_global(options)\n",
      "Requirement already up-to-date: lightgbm in /usr/local/lib/python3.6/dist-packages (3.1.0)\n",
      "Requirement already satisfied, skipping upgrade: numpy in /usr/local/lib/python3.6/dist-packages (from lightgbm) (1.18.5)\n",
      "Requirement already satisfied, skipping upgrade: scipy in /usr/local/lib/python3.6/dist-packages (from lightgbm) (1.4.1)\n",
      "Requirement already satisfied, skipping upgrade: scikit-learn!=0.22.0 in /usr/local/lib/python3.6/dist-packages (from lightgbm) (0.22.2.post1)\n",
      "Requirement already satisfied, skipping upgrade: joblib>=0.11 in /usr/local/lib/python3.6/dist-packages (from scikit-learn!=0.22.0->lightgbm) (0.17.0)\n"
     ]
    }
   ],
   "source": [
    "!pip install pandas==1.1.3\n",
    "!pip install -U lightgbm --install-option=--gpu"
   ]
  },
  {
   "cell_type": "code",
   "execution_count": 3,
   "metadata": {
    "colab": {
     "base_uri": "https://localhost:8080/"
    },
    "id": "0Gt2DVyZ5Sl6",
    "outputId": "b350461a-4060-4517-ad95-c5ee4882ce57"
   },
   "outputs": [
    {
     "name": "stdout",
     "output_type": "stream",
     "text": [
      "[nltk_data] Downloading package vader_lexicon to /root/nltk_data...\n",
      "[nltk_data]   Package vader_lexicon is already up-to-date!\n"
     ]
    }
   ],
   "source": [
    "import numpy as np\n",
    "import cupy as cp\n",
    "import pandas as pd\n",
    "pd.set_option('display.width', 5)\n",
    "pd.set_option('display.max_colwidth', 5)\n",
    "\n",
    "import lightgbm as lgb\n",
    "from sklearn.preprocessing import Normalizer\n",
    "from sklearn.preprocessing import StandardScaler\n",
    "from sklearn.feature_extraction.text import TfidfVectorizer\n",
    "from sklearn.metrics import auc, roc_auc_score, confusion_matrix\n",
    "from sklearn.model_selection import train_test_split, GridSearchCV, RandomizedSearchCV\n",
    "\n",
    "import matplotlib.pyplot as plt\n",
    "import seaborn as sns\n",
    "\n",
    "import warnings\n",
    "warnings.simplefilter(\"ignore\")\n",
    "\n",
    "import nltk\n",
    "nltk.download('vader_lexicon')\n",
    "\n",
    "from nltk.sentiment.vader import SentimentIntensityAnalyzer\n",
    "\n",
    "from gc import collect\n",
    "\n",
    "data_path = '/content/drive/MyDrive/6_Donors_choose_NB/preprocessed_data.csv'\n",
    "w2v_path = '/content/drive/MyDrive/6_Donors_choose_NB/glove_vectors'\n",
    "train_path = '/content/drive/MyDrive/6_Donors_choose_NB/train_data.csv'"
   ]
  },
  {
   "cell_type": "markdown",
   "metadata": {
    "id": "Qu7Lj4PxIW4a"
   },
   "source": [
    "## **1.1 Read Dataset:**"
   ]
  },
  {
   "cell_type": "code",
   "execution_count": 4,
   "metadata": {
    "colab": {
     "base_uri": "https://localhost:8080/"
    },
    "id": "ZwuM2xJG8vAx",
    "outputId": "65e0f68f-b4ea-4f64-9685-d48b88300324"
   },
   "outputs": [
    {
     "name": "stdout",
     "output_type": "stream",
     "text": [
      "['school_state', 'teacher_prefix', 'project_grade_category', 'teacher_number_of_previously_posted_projects', 'project_is_approved', 'clean_categories', 'clean_subcategories', 'essay', 'price', 'project_title']\n"
     ]
    }
   ],
   "source": [
    "data = pd.read_csv(data_path, nrows=100000)\n",
    "\n",
    "data['project_title'] = pd.read_csv(train_path, nrows=100000)['project_title']\n",
    "\n",
    "print(list(data.columns))"
   ]
  },
  {
   "cell_type": "markdown",
   "metadata": {
    "id": "u2WLLTbnLsyZ"
   },
   "source": [
    "### **1.1.1 Project-Title Cleaning**"
   ]
  },
  {
   "cell_type": "code",
   "execution_count": 5,
   "metadata": {
    "id": "Sj5VVIRGL8O2"
   },
   "outputs": [],
   "source": [
    "# https://stackoverflow.com/a/47091490/4084039\n",
    "import re\n",
    "\n",
    "def decontracted(phrase):\n",
    "    # specific\n",
    "    phrase = re.sub(r\"won't\", \"will not\", phrase)\n",
    "    phrase = re.sub(r\"can\\'t\", \"can not\", phrase)\n",
    "\n",
    "    # general\n",
    "    phrase = re.sub(r\"n\\'t\", \" not\", phrase)\n",
    "    phrase = re.sub(r\"\\'re\", \" are\", phrase)\n",
    "    phrase = re.sub(r\"\\'s\", \" is\", phrase)\n",
    "    phrase = re.sub(r\"\\'d\", \" would\", phrase)\n",
    "    phrase = re.sub(r\"\\'ll\", \" will\", phrase)\n",
    "    phrase = re.sub(r\"\\'t\", \" not\", phrase)\n",
    "    phrase = re.sub(r\"\\'ve\", \" have\", phrase)\n",
    "    phrase = re.sub(r\"\\'m\", \" am\", phrase)\n",
    "    return phrase"
   ]
  },
  {
   "cell_type": "code",
   "execution_count": 6,
   "metadata": {
    "id": "UR57G6GHMLd3"
   },
   "outputs": [],
   "source": [
    "# https://gist.github.com/sebleier/554280\n",
    "# we are removing the words from the stop words list: 'no', 'nor', 'not'\n",
    "stopwords= ['i', 'me', 'my', 'myself', 'we', 'our', 'ours', 'ourselves', 'you', \"you're\", \"you've\",\\\n",
    "            \"you'll\", \"you'd\", 'your', 'yours', 'yourself', 'yourselves', 'he', 'him', 'his', 'himself', \\\n",
    "            'she', \"she's\", 'her', 'hers', 'herself', 'it', \"it's\", 'its', 'itself', 'they', 'them', 'their',\\\n",
    "            'theirs', 'themselves', 'what', 'which', 'who', 'whom', 'this', 'that', \"that'll\", 'these', 'those', \\\n",
    "            'am', 'is', 'are', 'was', 'were', 'be', 'been', 'being', 'have', 'has', 'had', 'having', 'do', 'does', \\\n",
    "            'did', 'doing', 'a', 'an', 'the', 'and', 'but', 'if', 'or', 'because', 'as', 'until', 'while', 'of', \\\n",
    "            'at', 'by', 'for', 'with', 'about', 'against', 'between', 'into', 'through', 'during', 'before', 'after',\\\n",
    "            'above', 'below', 'to', 'from', 'up', 'down', 'in', 'out', 'on', 'off', 'over', 'under', 'again', 'further',\\\n",
    "            'then', 'once', 'here', 'there', 'when', 'where', 'why', 'how', 'all', 'any', 'both', 'each', 'few', 'more',\\\n",
    "            'most', 'other', 'some', 'such', 'only', 'own', 'same', 'so', 'than', 'too', 'very', \\\n",
    "            's', 't', 'can', 'will', 'just', 'don', \"don't\", 'should', \"should've\", 'now', 'd', 'll', 'm', 'o', 're', \\\n",
    "            've', 'y', 'ain', 'aren', \"aren't\", 'couldn', \"couldn't\", 'didn', \"didn't\", 'doesn', \"doesn't\", 'hadn',\\\n",
    "            \"hadn't\", 'hasn', \"hasn't\", 'haven', \"haven't\", 'isn', \"isn't\", 'ma', 'mightn', \"mightn't\", 'mustn',\\\n",
    "            \"mustn't\", 'needn', \"needn't\", 'shan', \"shan't\", 'shouldn', \"shouldn't\", 'wasn', \"wasn't\", 'weren', \"weren't\", \\\n",
    "            'won', \"won't\", 'wouldn', \"wouldn't\"]"
   ]
  },
  {
   "cell_type": "code",
   "execution_count": 7,
   "metadata": {
    "colab": {
     "base_uri": "https://localhost:8080/"
    },
    "id": "1M6oWX2FMO4i",
    "outputId": "8f8cbd02-2b33-47ff-8c5c-3b0f297ac470"
   },
   "outputs": [
    {
     "name": "stdout",
     "output_type": "stream",
     "text": [
      "printing some random reviews\n",
      "9 Just For the Love of Reading--\\r\\nPure Pleasure\n",
      "34 \\\"Have A Ball!!!\\\"\n",
      "147 Who needs a Chromebook?\\r\\nWE DO!!\n"
     ]
    }
   ],
   "source": [
    "print(\"printing some random reviews\")\n",
    "print(9, data['project_title'].values[9])\n",
    "print(34, data['project_title'].values[34])\n",
    "print(147, data['project_title'].values[147])"
   ]
  },
  {
   "cell_type": "code",
   "execution_count": 8,
   "metadata": {
    "id": "dlejmOP0Mdos"
   },
   "outputs": [],
   "source": [
    "# Combining all the above stundents \n",
    "from tqdm import tqdm\n",
    "\n",
    "def preprocess_text(text_data):\n",
    "    preprocessed_text = []\n",
    "    # tqdm is for printing the status bar\n",
    "    for sentance in tqdm(text_data):\n",
    "        sent = decontracted(sentance)\n",
    "        sent = sent.replace('\\\\r', ' ')\n",
    "        sent = sent.replace('\\\\n', ' ')\n",
    "        sent = sent.replace('\\\\\"', ' ')\n",
    "        sent = re.sub('[^A-Za-z0-9]+', ' ', sent)\n",
    "        # https://gist.github.com/sebleier/554280\n",
    "        sent = ' '.join(e for e in sent.split() if e.lower() not in stopwords)\n",
    "        preprocessed_text.append(sent.lower().strip())\n",
    "    return preprocessed_text"
   ]
  },
  {
   "cell_type": "code",
   "execution_count": 9,
   "metadata": {
    "colab": {
     "base_uri": "https://localhost:8080/"
    },
    "id": "i6QkVcRIMiw1",
    "outputId": "b5083aa3-7604-4aef-8d6d-8afac00f981b"
   },
   "outputs": [
    {
     "name": "stderr",
     "output_type": "stream",
     "text": [
      "100%|██████████| 100000/100000 [00:02<00:00, 45307.41it/s]\n"
     ]
    }
   ],
   "source": [
    "data['project_title'] = preprocess_text(data['project_title'].values)"
   ]
  },
  {
   "cell_type": "markdown",
   "metadata": {
    "id": "XmH_YZxRMrD2"
   },
   "source": [
    "### **1.1.2 Data-Splitting**"
   ]
  },
  {
   "cell_type": "code",
   "execution_count": 10,
   "metadata": {
    "colab": {
     "base_uri": "https://localhost:8080/"
    },
    "id": "qpJIf1XRLk2f",
    "outputId": "7a78901f-eb80-49a2-e3bf-0789e8fcb64f"
   },
   "outputs": [
    {
     "name": "stdout",
     "output_type": "stream",
     "text": [
      "\n",
      "Data-Shape :  (60000, 10) (40000, 10) (60000,) (40000,) \n",
      "\n"
     ]
    }
   ],
   "source": [
    "xtrain, xtest, ytrain, ytest = train_test_split(data, data['project_is_approved'], \n",
    "                                                test_size=0.40,\n",
    "                                                stratify=data['project_is_approved'])\n",
    "\n",
    "print(\"\\nData-Shape : \", xtrain.shape, xtest.shape, ytrain.shape, ytest.shape, \"\\n\")\n",
    "\n",
    "del data\n",
    "collect()\n",
    "\n",
    "categories = ['school_state', 'teacher_prefix', 'project_grade_category', 'clean_categories', 'clean_subcategories']\n",
    "numeric = ['teacher_number_of_previously_posted_projects', 'price']\n",
    "text = ['essay']"
   ]
  },
  {
   "cell_type": "markdown",
   "metadata": {
    "id": "osRm6cq2Ihht"
   },
   "source": [
    "## **1.2 Feature-Preprocessing**"
   ]
  },
  {
   "cell_type": "markdown",
   "metadata": {
    "id": "na6ftag7I5b5"
   },
   "source": [
    "### **1.2.1 Responsive-Coding**"
   ]
  },
  {
   "cell_type": "code",
   "execution_count": 11,
   "metadata": {
    "id": "0OhEp_EGWQOR"
   },
   "outputs": [],
   "source": [
    "def getResponseCoding(df, cat):\n",
    "    df= pd.crosstab(index=df[str(cat)], columns=df['project_is_approved']).reset_index()\n",
    "    df['total'] = df.sum(axis=1)\n",
    "    df['neg_prob'] = df[0]/df['total']\n",
    "    df['pos_prob'] = df[1]/df['total']\n",
    "    return df\n",
    "\n",
    "def getTestResponseCoding(df, cat, encode_df):\n",
    "    negative_prob = []\n",
    "    positive_prob = []\n",
    "    for i in encode_df[str(cat)]:\n",
    "        try:\n",
    "            negative_prob.append(df[df[str(cat)] == str(i)].neg_prob.values[0])\n",
    "            positive_prob.append(df[df[str(cat)] == str(i)].pos_prob.values[0])\n",
    "        except:\n",
    "            negative_prob.append(0.5)\n",
    "            positive_prob.append(0.5)\n",
    "    return np.asarray(negative_prob), np.asarray(positive_prob)"
   ]
  },
  {
   "cell_type": "code",
   "execution_count": 12,
   "metadata": {
    "id": "9NbFDftVKGbi"
   },
   "outputs": [],
   "source": [
    "for cat in categories:\n",
    "    df= getResponseCoding(xtrain, cat)\n",
    "    xtrain[str(cat) + '_0_prob'], xtrain[str(cat) + '_1_prob'] = getTestResponseCoding(df, cat, xtrain)\n",
    "    xtest[str(cat) + '_0_prob'], xtest[str(cat) + '_1_prob'] = getTestResponseCoding(df, cat, xtest)\n",
    "\n",
    "    xtrain=xtrain.drop(columns=[cat])\n",
    "    xtest=xtest.drop(columns=[cat])\n",
    "\n",
    "    collect()"
   ]
  },
  {
   "cell_type": "markdown",
   "metadata": {
    "id": "rC5JHSM_JCi9"
   },
   "source": [
    "### **1.2.2 TFIDF Vectorizer**"
   ]
  },
  {
   "cell_type": "code",
   "execution_count": 13,
   "metadata": {
    "id": "5PMUsvmaI2qh"
   },
   "outputs": [],
   "source": [
    "def getFitTFIDF_Vectorizer(preprocessed_data):\n",
    "    vectorizer = TfidfVectorizer(ngram_range=(2,2), max_features=5000, min_df=10)\n",
    "    vectorizer.fit(preprocessed_data)\n",
    "    return vectorizer\n",
    "\n",
    "def getTFIDFVectorizeTxtData(preprocessed_data, vectorizer):\n",
    "    text_tfidf = vectorizer.transform(preprocessed_data)\n",
    "    print(\"Shape of matrix after tfidf encodig \",text_tfidf.shape)\n",
    "    return text_tfidf"
   ]
  },
  {
   "cell_type": "markdown",
   "metadata": {
    "id": "X_PESkmxI1lP"
   },
   "source": [
    "### **1.2.3 TFIDF weighted W2V**"
   ]
  },
  {
   "cell_type": "code",
   "execution_count": 35,
   "metadata": {
    "id": "Zm80K4dlA38E"
   },
   "outputs": [],
   "source": [
    "import pickle \n",
    "\n",
    "with open(w2v_path, 'rb') as f:    \n",
    "  model = pickle.load(f)    \n",
    "  glove_words =  set(model.keys())"
   ]
  },
  {
   "cell_type": "code",
   "execution_count": 36,
   "metadata": {
    "id": "Z0oadBHqA73U"
   },
   "outputs": [],
   "source": [
    "def TFIDF_W2V(preprocessed_data):\n",
    "    tfidf_model = TfidfVectorizer()\n",
    "    tfidf_model.fit(preprocessed_data)\n",
    "    return tfidf_model\n",
    "\n",
    "def getTFIDF_W2V(preprocessed_data, tfidf_model):\n",
    "    \n",
    "    # we are converting a dictionary with word as a key, and the idf as a value\n",
    "    dictionary = dict(zip(tfidf_model.get_feature_names(), list(tfidf_model.idf_)))\n",
    "    tfidf_words = set(tfidf_model.get_feature_names())\n",
    "    \n",
    "    tfidf_w2v_vectors = []; # the avg-w2v for each sentence/review is stored in this list\n",
    "    for sentence in tqdm(preprocessed_data): # for each review/sentence\n",
    "        vector = np.zeros(300) # as word vectors are of zero length\n",
    "        tf_idf_weight =0; # num of words with a valid vector in the sentence/review\n",
    "        for word in sentence.split(): # for each word in a review/sentence\n",
    "            if (word in glove_words) and (word in tfidf_words):\n",
    "                vec = model[word] # getting the vector for each word\n",
    "                # here we are multiplying idf value(dictionary[word]) and the tf value((sentence.count(word)/len(sentence.split())))\n",
    "                tf_idf = dictionary[word]*(sentence.count(word)/len(sentence.split())) # getting the tfidf value for each word\n",
    "                vector += (vec * tf_idf) # calculating tfidf weighted w2v\n",
    "                tf_idf_weight += tf_idf\n",
    "        if tf_idf_weight != 0:\n",
    "            vector /= tf_idf_weight\n",
    "        tfidf_w2v_vectors.append(vector)\n",
    "\n",
    "    print(len(tfidf_w2v_vectors))\n",
    "    print(len(tfidf_w2v_vectors[0]))\n",
    "    \n",
    "    return np.asarray(tfidf_w2v_vectors)"
   ]
  },
  {
   "cell_type": "markdown",
   "metadata": {
    "id": "bFMVwGvCNDxE"
   },
   "source": [
    "### **1.2.4 Standardize Numerical Value**"
   ]
  },
  {
   "cell_type": "code",
   "execution_count": 16,
   "metadata": {
    "id": "fS2BgGS-NDDL"
   },
   "outputs": [],
   "source": [
    "for num in numeric:\n",
    "    scaler = StandardScaler()\n",
    "    \n",
    "    scaler = scaler.fit(xtrain[num].values.reshape(-1,1))\n",
    "\n",
    "    xtrain[\"std_\" +str(num)] = scaler.transform(xtrain[num].values.reshape(-1,1))\n",
    "    xtest[\"std_\" +str(num)]= scaler.transform(xtest[num].values.reshape(-1,1))\n",
    "\n",
    "    xtrain=xtrain.drop(columns=[num])\n",
    "    xtest=xtest.drop(columns=[num])\n",
    "\n",
    "    collect()\n",
    "\n",
    "xtrain = xtrain.drop(columns=['project_is_approved'])\n",
    "xtest = xtest.drop(columns=['project_is_approved'])"
   ]
  },
  {
   "cell_type": "code",
   "execution_count": 17,
   "metadata": {
    "id": "F5E0Y0LU6Onv"
   },
   "outputs": [],
   "source": [
    "xtest, xcv, ytest, ycv = train_test_split(xtest, ytest, test_size=0.50,\n",
    "                                          stratify=ytest)\n",
    "\n",
    "X_train_essay = xtrain['essay']\n",
    "X_test_essay = xtest['essay']\n",
    "X_cv_essay = xcv['essay']\n",
    "X_train_title = xtrain['project_title']\n",
    "X_test_title = xtest['project_title']\n",
    "X_cv_title = xcv['project_title']\n",
    "\n",
    "xtrain = xtrain.drop(columns=['essay', 'project_title'])\n",
    "xtest = xtest.drop(columns=['essay', 'project_title'])\n",
    "xcv = xcv.drop(columns=['essay', 'project_title'])"
   ]
  },
  {
   "cell_type": "markdown",
   "metadata": {
    "id": "0Qp8sq9vQ4Wa"
   },
   "source": [
    "## **1.3. Sentiment Intensity Analyser**"
   ]
  },
  {
   "cell_type": "code",
   "execution_count": 18,
   "metadata": {
    "id": "7hhTsdc2BT_g"
   },
   "outputs": [],
   "source": [
    "def sentiment_anayser(essay):\n",
    "\n",
    "    sid = SentimentIntensityAnalyzer()\n",
    "    negative = []\n",
    "    positive = []\n",
    "    neutral = []\n",
    "    compound = []\n",
    "\n",
    "    for sentence in essay:\n",
    "        ss = sid.polarity_scores(sentence)\n",
    "        sentmnt = list(ss.values())\n",
    "        neg = sentmnt[0]\n",
    "        neu = sentmnt[1]\n",
    "        pos = sentmnt[2]\n",
    "        cmpd = sentmnt[3]\n",
    "\n",
    "        negative.append(neg)\n",
    "        neutral.append(neu)\n",
    "        positive.append(pos)\n",
    "        compound.append(cmpd)\n",
    "\n",
    "    return np.column_stack((np.array(negative), np.array(neutral),\n",
    "                            np.array(positive), np.array(compound)))"
   ]
  },
  {
   "cell_type": "markdown",
   "metadata": {
    "id": "2J9r1YQje1ql"
   },
   "source": [
    "## **1.4 Hyper-Parameter Tuning**"
   ]
  },
  {
   "cell_type": "code",
   "execution_count": null,
   "metadata": {
    "id": "s-jrFLVz9H6S"
   },
   "outputs": [],
   "source": [
    "sets = ['tfidf', 'w2v']\n",
    "scorer = dict()\n",
    "\n",
    "\n",
    "for set_ in sets:\n",
    "\n",
    "    if set_ == 'tfidf':\n",
    "        vectorizer = getFitTFIDF_Vectorizer(X_train_title)\n",
    "        temp_1 = getTFIDFVectorizeTxtData(X_train_title, vectorizer).toarray()\n",
    "        temp_2 = getTFIDFVectorizeTxtData(X_cv_title, vectorizer).toarray()\n",
    "\n",
    "        vectorizer = getFitTFIDF_Vectorizer(X_train_essay)\n",
    "\n",
    "        temp_1 = np.column_stack(\n",
    "            (temp_1, getTFIDFVectorizeTxtData(X_train_essay, vectorizer).toarray()))\n",
    "        \n",
    "        temp_2 = np.column_stack(\n",
    "            (temp_2, getTFIDFVectorizeTxtData(X_cv_essay, vectorizer).toarray()))\n",
    "\n",
    "\n",
    "        temp_1 = np.column_stack((temp_1, sentiment_anayser(X_train_essay),\n",
    "                                  xtrain.values))\n",
    "        print(\"Final_Train_Matrix : \", temp_1.shape)\n",
    "\n",
    "        temp_2 = np.column_stack((temp_2, sentiment_anayser(X_cv_essay),\n",
    "                                  xcv.values))\n",
    "        print(\"Final_CV_Matrix : \", temp_2.shape)\n",
    "\n",
    "    elif set_ == 'w2v':\n",
    "        vectorizer1 = TFIDF_W2V(X_train_title)\n",
    "        temp_1 = getTFIDF_W2V(X_train_title, vectorizer1)\n",
    "\n",
    "        vectorizer2 = TFIDF_W2V(X_train_essay)\n",
    "        temp_2 = getTFIDF_W2V(X_train_essay, vectorizer2)\n",
    "\n",
    "        temp_1 = np.column_stack((temp_1, temp_2,\n",
    "                                  sentiment_anayser(X_train_essay)))\n",
    "        temp_1 = np.column_stack((temp_1, xtrain.values))\n",
    "        print(\"Final_Train_Matrix : \", temp_1.shape)\n",
    "\n",
    "        essay_ = getTFIDF_W2V(X_cv_essay, vectorizer2)\n",
    "        temp_2 = getTFIDF_W2V(X_cv_title, vectorizer1)\n",
    "        temp_2 = np.column_stack((temp_2, essay_, sentiment_anayser(X_cv_essay)))\n",
    "        temp_2 = np.column_stack((temp_2, xcv.values))\n",
    "        print(\"Final_CV_Matrix : \", temp_2.shape)\n",
    "\n",
    "    parameters={\"early_stopping_rounds\": 10,\n",
    "                \"eval_metric\" : 'auc', \n",
    "                \"eval_set\" : [(temp_2,ycv)],\n",
    "                'eval_names': ['valid'],\n",
    "                'verbose': False}\n",
    "\n",
    "    parameter_tuning ={\n",
    "             'max_depth':  [5, 10, 50, 100, 500],\n",
    "             'min_child_samples': [5, 10, 100, 500]}\n",
    "\n",
    "    classifier = lgb.LGBMClassifier(device=\"gpu\", random_state=300, silent=True, metric='auc', n_jobs=-1)\n",
    "\n",
    "    find_parameters = RandomizedSearchCV(\n",
    "        estimator=classifier, param_distributions=parameter_tuning, \n",
    "        n_iter=100,\n",
    "        scoring='roc_auc',\n",
    "        cv=5,\n",
    "        refit=True,\n",
    "        random_state=300,\n",
    "        verbose=False,\n",
    "        return_train_score=True)\n",
    "    \n",
    "    scorer[set_] = find_parameters\n",
    "    \n",
    "    find_parameters.fit(temp_1, ytrain, **parameters)\n",
    "    print(\"\\n#\"*50, set_, \" : \\n#\"*50)\n",
    "    print('Best score : {} with parameters: {} '.format(find_parameters.best_score_, find_parameters.best_params_), \"\\n\\n\")\n",
    "\n",
    "    del temp_1\n",
    "    del temp_2\n",
    "    collect()"
   ]
  },
  {
   "cell_type": "code",
   "execution_count": 20,
   "metadata": {
    "colab": {
     "base_uri": "https://localhost:8080/"
    },
    "id": "kC0zWU-8YAZk",
    "outputId": "22e23e62-e9f9-4eb4-8813-c6baf95f8d98"
   },
   "outputs": [
    {
     "data": {
      "text/plain": [
       "{'mean_fit_time': array([29.37143335, 31.39018006, 27.21542997,  8.12709513, 41.43432875,\n",
       "        40.39781775, 31.45694046,  9.65661631, 44.139961  , 42.00484724,\n",
       "        36.59567299, 10.57228518, 43.09559617, 41.77202759, 36.69225626,\n",
       "        10.745749  , 44.02288251, 41.73093138, 36.49613132, 10.53993392]),\n",
       " 'mean_score_time': array([0.23542137, 0.24028544, 0.23931074, 0.24317222, 0.25397229,\n",
       "        0.25247755, 0.25618491, 0.2577342 , 0.25270042, 0.25672455,\n",
       "        0.26740789, 0.24944429, 0.2450706 , 0.24963655, 0.26820102,\n",
       "        0.2621449 , 0.25417643, 0.25424833, 0.2626502 , 0.25620427]),\n",
       " 'mean_test_score': array([0.68654277, 0.68751047, 0.69218654, 0.68715998, 0.68887255,\n",
       "        0.6892439 , 0.69749857, 0.69014198, 0.69072152, 0.69357233,\n",
       "        0.70046676, 0.6918717 , 0.69072666, 0.69357233, 0.70046936,\n",
       "        0.69187132, 0.69072417, 0.69357232, 0.70046815, 0.69187171]),\n",
       " 'mean_train_score': array([0.81392229, 0.80250993, 0.76146983, 0.73273681, 0.87682745,\n",
       "        0.86966328, 0.80408965, 0.76242611, 0.88357583, 0.85831355,\n",
       "        0.82010738, 0.77593928, 0.88357583, 0.85831355, 0.82010737,\n",
       "        0.77593928, 0.88357583, 0.85831354, 0.82010737, 0.77593928]),\n",
       " 'param_max_depth': masked_array(data=[5, 5, 5, 5, 10, 10, 10, 10, 50, 50, 50, 50, 100, 100,\n",
       "                    100, 100, 500, 500, 500, 500],\n",
       "              mask=[False, False, False, False, False, False, False, False,\n",
       "                    False, False, False, False, False, False, False, False,\n",
       "                    False, False, False, False],\n",
       "        fill_value='?',\n",
       "             dtype=object),\n",
       " 'param_min_child_samples': masked_array(data=[5, 10, 100, 500, 5, 10, 100, 500, 5, 10, 100, 500, 5,\n",
       "                    10, 100, 500, 5, 10, 100, 500],\n",
       "              mask=[False, False, False, False, False, False, False, False,\n",
       "                    False, False, False, False, False, False, False, False,\n",
       "                    False, False, False, False],\n",
       "        fill_value='?',\n",
       "             dtype=object),\n",
       " 'params': [{'max_depth': 5, 'min_child_samples': 5},\n",
       "  {'max_depth': 5, 'min_child_samples': 10},\n",
       "  {'max_depth': 5, 'min_child_samples': 100},\n",
       "  {'max_depth': 5, 'min_child_samples': 500},\n",
       "  {'max_depth': 10, 'min_child_samples': 5},\n",
       "  {'max_depth': 10, 'min_child_samples': 10},\n",
       "  {'max_depth': 10, 'min_child_samples': 100},\n",
       "  {'max_depth': 10, 'min_child_samples': 500},\n",
       "  {'max_depth': 50, 'min_child_samples': 5},\n",
       "  {'max_depth': 50, 'min_child_samples': 10},\n",
       "  {'max_depth': 50, 'min_child_samples': 100},\n",
       "  {'max_depth': 50, 'min_child_samples': 500},\n",
       "  {'max_depth': 100, 'min_child_samples': 5},\n",
       "  {'max_depth': 100, 'min_child_samples': 10},\n",
       "  {'max_depth': 100, 'min_child_samples': 100},\n",
       "  {'max_depth': 100, 'min_child_samples': 500},\n",
       "  {'max_depth': 500, 'min_child_samples': 5},\n",
       "  {'max_depth': 500, 'min_child_samples': 10},\n",
       "  {'max_depth': 500, 'min_child_samples': 100},\n",
       "  {'max_depth': 500, 'min_child_samples': 500}],\n",
       " 'rank_test_score': array([20, 18,  8, 19, 17, 16,  4, 15, 14,  6,  3, 10, 12,  5,  1, 11, 13,\n",
       "         7,  2,  9], dtype=int32),\n",
       " 'split0_test_score': array([0.68935554, 0.69109645, 0.69548947, 0.69154586, 0.69161979,\n",
       "        0.69235722, 0.70433714, 0.69557971, 0.69366508, 0.69557146,\n",
       "        0.70686314, 0.69708845, 0.69366508, 0.69557146, 0.7068742 ,\n",
       "        0.69708645, 0.69366179, 0.69557141, 0.70686314, 0.69708845]),\n",
       " 'split0_train_score': array([0.81400249, 0.80036466, 0.75969163, 0.73051334, 0.87109281,\n",
       "        0.86263119, 0.80801514, 0.76116202, 0.88720719, 0.82635821,\n",
       "        0.82691397, 0.78053277, 0.88720719, 0.8263582 , 0.82691397,\n",
       "        0.78053277, 0.88720719, 0.8263582 , 0.82691396, 0.78053276]),\n",
       " 'split1_test_score': array([0.68848266, 0.69278274, 0.69509169, 0.69140342, 0.69673079,\n",
       "        0.69275208, 0.70049397, 0.69503378, 0.69843819, 0.70077896,\n",
       "        0.70287839, 0.69654966, 0.69843814, 0.70077901, 0.70287834,\n",
       "        0.69654966, 0.69843819, 0.70077901, 0.70287839, 0.69654966]),\n",
       " 'split1_train_score': array([0.80475168, 0.80151925, 0.75877813, 0.7319349 , 0.87108552,\n",
       "        0.87046027, 0.80247099, 0.76311888, 0.88622569, 0.87680974,\n",
       "        0.81091563, 0.77528005, 0.88622569, 0.87680974, 0.81091563,\n",
       "        0.77528005, 0.88622569, 0.87680974, 0.81091564, 0.77528006]),\n",
       " 'split2_test_score': array([0.69279064, 0.69056254, 0.69597886, 0.68939774, 0.69303653,\n",
       "        0.69516616, 0.70004836, 0.69322382, 0.69302804, 0.6955981 ,\n",
       "        0.70493924, 0.69472845, 0.69305371, 0.6955981 , 0.70494123,\n",
       "        0.69472845, 0.69305371, 0.6955981 , 0.70494123, 0.69472845]),\n",
       " 'split2_train_score': array([0.81742124, 0.80196067, 0.76147645, 0.73157261, 0.89267687,\n",
       "        0.86584396, 0.80307133, 0.76100915, 0.89314735, 0.86959977,\n",
       "        0.83097876, 0.76952648, 0.89314734, 0.86959977, 0.83097875,\n",
       "        0.76952649, 0.89314735, 0.86959977, 0.83097875, 0.76952649]),\n",
       " 'split3_test_score': array([0.67631858, 0.67662477, 0.68156094, 0.67651986, 0.67696244,\n",
       "        0.67895341, 0.68753919, 0.6765363 , 0.67827775, 0.68184106,\n",
       "        0.68784138, 0.67888732, 0.67827775, 0.68184106, 0.68784138,\n",
       "        0.67888737, 0.67826848, 0.68184106, 0.68784635, 0.67888737]),\n",
       " 'split3_train_score': array([0.81847282, 0.80383785, 0.76504282, 0.73580779, 0.88565522,\n",
       "        0.87600982, 0.80889629, 0.76549331, 0.86298752, 0.85824446,\n",
       "        0.82848387, 0.77673336, 0.86298751, 0.85824445, 0.82848387,\n",
       "        0.77673335, 0.86298751, 0.85824446, 0.82848388, 0.77673335]),\n",
       " 'split4_test_score': array([0.68576641, 0.68648588, 0.69281175, 0.68693302, 0.68601317,\n",
       "        0.68699061, 0.69507417, 0.69033627, 0.69019855, 0.69407208,\n",
       "        0.69981163, 0.69210463, 0.6901986 , 0.69407203, 0.69981163,\n",
       "        0.69210463, 0.69019866, 0.69407203, 0.69981163, 0.69210463]),\n",
       " 'split4_train_score': array([0.81496323, 0.80486725, 0.76236011, 0.73385543, 0.86362685,\n",
       "        0.87337115, 0.7979945 , 0.76134718, 0.8883114 , 0.86055555,\n",
       "        0.80324465, 0.77762374, 0.8883114 , 0.86055556, 0.80324465,\n",
       "        0.77762373, 0.8883114 , 0.86055555, 0.80324465, 0.77762374]),\n",
       " 'std_fit_time': array([1.37232884, 0.69561243, 0.23333715, 0.14462753, 0.95892894,\n",
       "        0.31346547, 0.25882313, 0.13633177, 1.3982609 , 2.33379904,\n",
       "        2.14613387, 0.29072083, 1.41687467, 2.32868141, 2.19581661,\n",
       "        0.30192438, 1.22442003, 2.25050509, 2.07906657, 0.22071774]),\n",
       " 'std_score_time': array([0.00437617, 0.00818969, 0.00686208, 0.00740596, 0.00730339,\n",
       "        0.00625123, 0.00734555, 0.01442844, 0.01213681, 0.01261423,\n",
       "        0.01043443, 0.00307986, 0.00468086, 0.01451606, 0.02020671,\n",
       "        0.00573234, 0.00632294, 0.01367146, 0.01663597, 0.00755575]),\n",
       " 'std_test_score': array([0.00558296, 0.00582271, 0.00542264, 0.00557699, 0.00687989,\n",
       "        0.00579732, 0.00578458, 0.00704484, 0.00676243, 0.0062914 ,\n",
       "        0.00673145, 0.00672171, 0.00676418, 0.00629141, 0.00673381,\n",
       "        0.00672138, 0.00676732, 0.0062914 , 0.00672985, 0.00672169]),\n",
       " 'std_train_score': array([0.00486087, 0.00162516, 0.00218934, 0.00187747, 0.01067001,\n",
       "        0.00487236, 0.00398299, 0.00171216, 0.01056529, 0.01729545,\n",
       "        0.01098656, 0.00363667, 0.01056529, 0.01729545, 0.01098656,\n",
       "        0.00363666, 0.01056529, 0.01729545, 0.01098655, 0.00363666])}"
      ]
     },
     "execution_count": 20,
     "metadata": {
      "tags": []
     },
     "output_type": "execute_result"
    }
   ],
   "source": [
    "scorer['tfidf'].cv_results_"
   ]
  },
  {
   "cell_type": "code",
   "execution_count": 21,
   "metadata": {
    "colab": {
     "base_uri": "https://localhost:8080/"
    },
    "id": "xX0UYKcmiWwc",
    "outputId": "aa428dcd-ee25-40fb-fc4a-3c911faa74ad"
   },
   "outputs": [
    {
     "data": {
      "text/plain": [
       "{'mean_fit_time': array([12.45913095, 11.45425334, 11.63125157, 11.0970192 , 14.04449425,\n",
       "        13.53438344, 13.66393027, 12.85403032, 14.68655062, 14.40972233,\n",
       "        13.12716689, 13.6660224 , 15.25874944, 15.00568595, 13.42132525,\n",
       "        13.76135445, 14.84979615, 14.34800215, 12.93694773, 13.40485387]),\n",
       " 'mean_score_time': array([0.07960014, 0.06964822, 0.07919188, 0.08095231, 0.07683854,\n",
       "        0.06996531, 0.07865176, 0.08247004, 0.07735615, 0.07423143,\n",
       "        0.07247477, 0.08878732, 0.078967  , 0.07787123, 0.07361207,\n",
       "        0.0891757 , 0.07813673, 0.07357512, 0.0693224 , 0.09025116]),\n",
       " 'mean_test_score': array([0.71459794, 0.71347811, 0.71464447, 0.71745185, 0.71322064,\n",
       "        0.71396769, 0.71479425, 0.71657016, 0.71295019, 0.71380615,\n",
       "        0.71497047, 0.7171578 , 0.71296159, 0.71381891, 0.71495712,\n",
       "        0.71715777, 0.71294678, 0.71376658, 0.71495382, 0.71715677]),\n",
       " 'mean_train_score': array([0.87269034, 0.85131101, 0.85777606, 0.83358297, 0.87824685,\n",
       "        0.86727049, 0.86540386, 0.85122194, 0.88587194, 0.87859269,\n",
       "        0.8492888 , 0.86344289, 0.88587194, 0.87859269, 0.84928881,\n",
       "        0.86344289, 0.88587194, 0.87913286, 0.8492888 , 0.86344289]),\n",
       " 'param_max_depth': masked_array(data=[5, 5, 5, 5, 10, 10, 10, 10, 50, 50, 50, 50, 100, 100,\n",
       "                    100, 100, 500, 500, 500, 500],\n",
       "              mask=[False, False, False, False, False, False, False, False,\n",
       "                    False, False, False, False, False, False, False, False,\n",
       "                    False, False, False, False],\n",
       "        fill_value='?',\n",
       "             dtype=object),\n",
       " 'param_min_child_samples': masked_array(data=[5, 10, 100, 500, 5, 10, 100, 500, 5, 10, 100, 500, 5,\n",
       "                    10, 100, 500, 5, 10, 100, 500],\n",
       "              mask=[False, False, False, False, False, False, False, False,\n",
       "                    False, False, False, False, False, False, False, False,\n",
       "                    False, False, False, False],\n",
       "        fill_value='?',\n",
       "             dtype=object),\n",
       " 'params': [{'max_depth': 5, 'min_child_samples': 5},\n",
       "  {'max_depth': 5, 'min_child_samples': 10},\n",
       "  {'max_depth': 5, 'min_child_samples': 100},\n",
       "  {'max_depth': 5, 'min_child_samples': 500},\n",
       "  {'max_depth': 10, 'min_child_samples': 5},\n",
       "  {'max_depth': 10, 'min_child_samples': 10},\n",
       "  {'max_depth': 10, 'min_child_samples': 100},\n",
       "  {'max_depth': 10, 'min_child_samples': 500},\n",
       "  {'max_depth': 50, 'min_child_samples': 5},\n",
       "  {'max_depth': 50, 'min_child_samples': 10},\n",
       "  {'max_depth': 50, 'min_child_samples': 100},\n",
       "  {'max_depth': 50, 'min_child_samples': 500},\n",
       "  {'max_depth': 100, 'min_child_samples': 5},\n",
       "  {'max_depth': 100, 'min_child_samples': 10},\n",
       "  {'max_depth': 100, 'min_child_samples': 100},\n",
       "  {'max_depth': 100, 'min_child_samples': 500},\n",
       "  {'max_depth': 500, 'min_child_samples': 5},\n",
       "  {'max_depth': 500, 'min_child_samples': 10},\n",
       "  {'max_depth': 500, 'min_child_samples': 100},\n",
       "  {'max_depth': 500, 'min_child_samples': 500}],\n",
       " 'rank_test_score': array([11, 16, 10,  1, 17, 12,  9,  5, 19, 14,  6,  2, 18, 13,  7,  3, 20,\n",
       "        15,  8,  4], dtype=int32),\n",
       " 'split0_test_score': array([0.72354505, 0.72437285, 0.7225037 , 0.72504373, 0.7228238 ,\n",
       "        0.72209145, 0.72212429, 0.72250985, 0.72415262, 0.72322376,\n",
       "        0.72128657, 0.72365845, 0.72419258, 0.72325623, 0.72128748,\n",
       "        0.72365845, 0.72418967, 0.72324048, 0.72128748, 0.72365845]),\n",
       " 'split0_train_score': array([0.87801533, 0.84079121, 0.8543511 , 0.83696262, 0.88223308,\n",
       "        0.85594426, 0.87554345, 0.84686165, 0.90716663, 0.88349549,\n",
       "        0.81988362, 0.85284242, 0.90716664, 0.88349548, 0.81988363,\n",
       "        0.85284244, 0.90716663, 0.8834955 , 0.81988362, 0.85284243]),\n",
       " 'split1_test_score': array([0.71432298, 0.71570113, 0.71713753, 0.72210676, 0.71708593,\n",
       "        0.71383609, 0.71520718, 0.72255137, 0.71709989, 0.7179731 ,\n",
       "        0.72101877, 0.72139032, 0.71710194, 0.71799364, 0.72095892,\n",
       "        0.72139032, 0.71708312, 0.71798345, 0.72095897, 0.72139032]),\n",
       " 'split1_train_score': array([0.84760596, 0.86524711, 0.84675442, 0.8208661 , 0.88043284,\n",
       "        0.8481538 , 0.8707058 , 0.84747798, 0.8724808 , 0.86966277,\n",
       "        0.85786088, 0.84350694, 0.87248082, 0.86966279, 0.85786089,\n",
       "        0.84350693, 0.87248081, 0.86966279, 0.85786087, 0.84350694]),\n",
       " 'split2_test_score': array([0.71649135, 0.71213616, 0.71537893, 0.71633896, 0.70853576,\n",
       "        0.71400622, 0.71642189, 0.71893787, 0.70907749, 0.70989316,\n",
       "        0.71337735, 0.71737275, 0.70903602, 0.7098807 , 0.71337735,\n",
       "        0.71737281, 0.70902637, 0.70988064, 0.71336058, 0.71737281]),\n",
       " 'split2_train_score': array([0.87726167, 0.8223475 , 0.84762848, 0.83663605, 0.87238575,\n",
       "        0.87482399, 0.84842494, 0.86714937, 0.87240842, 0.87269909,\n",
       "        0.83271633, 0.87531877, 0.87240842, 0.87269909, 0.83271633,\n",
       "        0.87531877, 0.87240842, 0.87269909, 0.83271633, 0.87531878]),\n",
       " 'split3_test_score': array([0.70599795, 0.70308298, 0.70620728, 0.70886012, 0.70695581,\n",
       "        0.70831375, 0.70810501, 0.70688053, 0.70687315, 0.7062481 ,\n",
       "        0.7072668 , 0.70777806, 0.70691623, 0.70624417, 0.70726971,\n",
       "        0.7077779 , 0.70687315, 0.70600372, 0.70726523, 0.70777288]),\n",
       " 'split3_train_score': array([0.88075311, 0.84521835, 0.87198033, 0.83544395, 0.87730559,\n",
       "        0.8600593 , 0.87633567, 0.87806621, 0.89685137, 0.89346596,\n",
       "        0.87415038, 0.89001398, 0.89685136, 0.89346596, 0.87415037,\n",
       "        0.89001398, 0.89685137, 0.8961668 , 0.87415037, 0.89001398]),\n",
       " 'split4_test_score': array([0.71263238, 0.71209744, 0.71199488, 0.71490968, 0.71070192,\n",
       "        0.71159093, 0.71211287, 0.71197115, 0.7075478 , 0.71169263,\n",
       "        0.71190288, 0.7155894 , 0.70756117, 0.71171981, 0.71189215,\n",
       "        0.7155894 , 0.70756161, 0.71172461, 0.71189684, 0.7155894 ]),\n",
       " 'split4_train_score': array([0.87981562, 0.88295088, 0.86816594, 0.83800614, 0.87887698,\n",
       "        0.89737111, 0.85600943, 0.81655447, 0.88045246, 0.87364014,\n",
       "        0.86183281, 0.85553233, 0.88045246, 0.87364014, 0.86183282,\n",
       "        0.85553233, 0.88045247, 0.87364013, 0.86183281, 0.85553232]),\n",
       " 'std_fit_time': array([0.56805255, 0.67413838, 0.26274968, 0.27617122, 0.20501494,\n",
       "        0.6763349 , 0.51211541, 0.99442321, 0.69136667, 0.65784432,\n",
       "        0.86645774, 0.80129012, 0.73601096, 0.39340259, 0.8570197 ,\n",
       "        0.58297902, 0.77660755, 0.50915   , 0.69621483, 0.75983436]),\n",
       " 'std_score_time': array([0.00645762, 0.00845172, 0.00346555, 0.00454566, 0.00336508,\n",
       "        0.00538988, 0.00741121, 0.0091677 , 0.00712437, 0.00339897,\n",
       "        0.00961751, 0.01179595, 0.00467033, 0.00292289, 0.0060649 ,\n",
       "        0.00881112, 0.00485069, 0.0036865 , 0.00760142, 0.01329356]),\n",
       " 'std_test_score': array([0.00568392, 0.00686153, 0.00541717, 0.0056714 , 0.00591103,\n",
       "        0.00455259, 0.004658  , 0.00619194, 0.00669072, 0.00604909,\n",
       "        0.00543635, 0.00548923, 0.00669923, 0.00606274, 0.00542367,\n",
       "        0.00548929, 0.00670478, 0.00611668, 0.0054254 , 0.005491  ]),\n",
       " 'std_train_score': array([0.01260362, 0.02089004, 0.01044884, 0.00641077, 0.00335572,\n",
       "        0.01737144, 0.0111979 , 0.0210198 , 0.01388504, 0.0087665 ,\n",
       "        0.01994112, 0.01684903, 0.01388504, 0.00876649, 0.01994112,\n",
       "        0.01684903, 0.01388503, 0.00969983, 0.01994112, 0.01684903])}"
      ]
     },
     "execution_count": 21,
     "metadata": {
      "tags": []
     },
     "output_type": "execute_result"
    }
   ],
   "source": [
    "scorer['w2v'].cv_results_"
   ]
  },
  {
   "cell_type": "code",
   "execution_count": 22,
   "metadata": {
    "colab": {
     "base_uri": "https://localhost:8080/"
    },
    "id": "es-3EYIoikff",
    "outputId": "fde73a26-e37c-40a7-acb3-782dff4212de"
   },
   "outputs": [
    {
     "name": "stdout",
     "output_type": "stream",
     "text": [
      "TFIDF BEST PARAMS :  {'min_child_samples': 100, 'max_depth': 100}\n",
      "TFIDF BEST AUC-Score :  0.7004693567560001 \n",
      "\n",
      "\n",
      "TFIDF_Wheighted_W2V - BEST PARAMS :  {'min_child_samples': 500, 'max_depth': 5}\n",
      "TFIDF_Wheighted_W2V - BEST AUC-Score :  0.717451848857623\n"
     ]
    }
   ],
   "source": [
    "print(\"TFIDF BEST PARAMS : \" , scorer['tfidf'].best_params_)\n",
    "print(\"TFIDF BEST AUC-Score : \" , scorer['tfidf'].best_score_, \"\\n\\n\")\n",
    "\n",
    "print(\"TFIDF_Wheighted_W2V - BEST PARAMS : \" , scorer['w2v'].best_params_)\n",
    "print(\"TFIDF_Wheighted_W2V - BEST AUC-Score : \" , scorer['w2v'].best_score_)"
   ]
  },
  {
   "cell_type": "markdown",
   "metadata": {
    "id": "vn3GfMfpiwfF"
   },
   "source": [
    "```\n",
    "TFIDF BEST PARAMS :  {'min_child_samples': 100, 'max_depth': 100}\n",
    "\n",
    "TFIDF BEST AUC-Score :  0.7004693567560001 \n",
    "\n",
    "\n",
    "TFIDF_Wheighted_W2V - BEST PARAMS :  {'min_child_samples': 500, 'max_depth': 5}\n",
    "\n",
    "TFIDF_Wheighted_W2V - BEST AUC-Score :  0.717451848857623\n",
    "\n",
    "```"
   ]
  },
  {
   "cell_type": "markdown",
   "metadata": {
    "id": "wiHr41VfFiKQ"
   },
   "source": [
    "## **1.5 CV-Results Representation**"
   ]
  },
  {
   "cell_type": "code",
   "execution_count": 27,
   "metadata": {
    "colab": {
     "base_uri": "https://localhost:8080/",
     "height": 206
    },
    "id": "o8EUgz-GFtPh",
    "outputId": "5daff961-016b-4465-fe92-09d1fc4e7846"
   },
   "outputs": [
    {
     "data": {
      "text/html": [
       "<div>\n",
       "<style scoped>\n",
       "    .dataframe tbody tr th:only-of-type {\n",
       "        vertical-align: middle;\n",
       "    }\n",
       "\n",
       "    .dataframe tbody tr th {\n",
       "        vertical-align: top;\n",
       "    }\n",
       "\n",
       "    .dataframe thead th {\n",
       "        text-align: right;\n",
       "    }\n",
       "</style>\n",
       "<table border=\"1\" class=\"dataframe\">\n",
       "  <thead>\n",
       "    <tr style=\"text-align: right;\">\n",
       "      <th></th>\n",
       "      <th>min_child_samples</th>\n",
       "      <th>mean_test_score</th>\n",
       "      <th>mean_train_score</th>\n",
       "      <th>max_depth</th>\n",
       "    </tr>\n",
       "  </thead>\n",
       "  <tbody>\n",
       "    <tr>\n",
       "      <th>0</th>\n",
       "      <td>5</td>\n",
       "      <td>0...</td>\n",
       "      <td>0...</td>\n",
       "      <td>5</td>\n",
       "    </tr>\n",
       "    <tr>\n",
       "      <th>1</th>\n",
       "      <td>10</td>\n",
       "      <td>0...</td>\n",
       "      <td>0...</td>\n",
       "      <td>5</td>\n",
       "    </tr>\n",
       "    <tr>\n",
       "      <th>2</th>\n",
       "      <td>100</td>\n",
       "      <td>0...</td>\n",
       "      <td>0...</td>\n",
       "      <td>5</td>\n",
       "    </tr>\n",
       "    <tr>\n",
       "      <th>3</th>\n",
       "      <td>500</td>\n",
       "      <td>0...</td>\n",
       "      <td>0...</td>\n",
       "      <td>5</td>\n",
       "    </tr>\n",
       "    <tr>\n",
       "      <th>4</th>\n",
       "      <td>5</td>\n",
       "      <td>0...</td>\n",
       "      <td>0...</td>\n",
       "      <td>10</td>\n",
       "    </tr>\n",
       "  </tbody>\n",
       "</table>\n",
       "</div>"
      ],
      "text/plain": [
       "   min_child_samples  mean_test_score  mean_train_score  max_depth\n",
       "0     5               0...             0...                 5     \n",
       "1    10               0...             0...                 5     \n",
       "2   100               0...             0...                 5     \n",
       "3   500               0...             0...                 5     \n",
       "4     5               0...             0...                10     "
      ]
     },
     "execution_count": 27,
     "metadata": {
      "tags": []
     },
     "output_type": "execute_result"
    }
   ],
   "source": [
    "mean_test_score = scorer['w2v'].cv_results_['mean_test_score']\n",
    "mean_train_score = scorer['w2v'].cv_results_['mean_train_score']\n",
    "params = scorer['w2v'].cv_results_['params']\n",
    "\n",
    "min_child_samples = []\n",
    "max_depth = []\n",
    "for parameter in params:\n",
    "    min_child_samples.append(parameter['min_child_samples'])\n",
    "    max_depth.append(parameter['max_depth'])\n",
    "\n",
    "df = pd.DataFrame()\n",
    "df['min_child_samples'] = pd.Series(min_child_samples)\n",
    "df['mean_test_score'] = pd.Series(mean_test_score)\n",
    "df['mean_train_score'] = pd.Series(mean_train_score)\n",
    "df['max_depth'] = pd.Series(max_depth)\n",
    "\n",
    "df.head()"
   ]
  },
  {
   "cell_type": "code",
   "execution_count": 28,
   "metadata": {
    "colab": {
     "base_uri": "https://localhost:8080/",
     "height": 575
    },
    "id": "E17t6o3BHgDV",
    "outputId": "34c7ee5c-2f08-48d5-a9d6-d6f722258da7"
   },
   "outputs": [
    {
     "data": {
      "image/png": "[encoded data removed]",
      "text/plain": [
       "<Figure size 432x288 with 2 Axes>"
      ]
     },
     "metadata": {
      "needs_background": "light",
      "tags": []
     },
     "output_type": "display_data"
    },
    {
     "data": {
      "image/png": "[encoded data removed]",
      "text/plain": [
       "<Figure size 432x288 with 2 Axes>"
      ]
     },
     "metadata": {
      "needs_background": "light",
      "tags": []
     },
     "output_type": "display_data"
    }
   ],
   "source": [
    "train_heatmap = df.pivot(index='min_child_samples', columns='max_depth',\n",
    "                         values='mean_train_score')\n",
    "test_heatmap = df.pivot(index='min_child_samples', columns='max_depth',\n",
    "                        values='mean_test_score')\n",
    "\n",
    "sns.heatmap(train_heatmap, annot=True)\n",
    "plt.title(\"Train_Heatmap\")\n",
    "plt.show()\n",
    "\n",
    "sns.heatmap(test_heatmap, annot=True)\n",
    "plt.title(\"Test_Heatmap\")\n",
    "plt.show()"
   ]
  },
  {
   "cell_type": "markdown",
   "metadata": {
    "id": "h-oIM6afkn-T"
   },
   "source": [
    "## **1.6 Model-Training**"
   ]
  },
  {
   "cell_type": "code",
   "execution_count": 39,
   "metadata": {
    "colab": {
     "base_uri": "https://localhost:8080/"
    },
    "id": "w6Gb7LebIaVe",
    "outputId": "2afb7b03-9471-44ff-c1c4-42a13975211b"
   },
   "outputs": [
    {
     "name": "stdout",
     "output_type": "stream",
     "text": [
      "Final_Train_Matrix :  (60000, 616)\n",
      "Final_Test_Matrix :  (20000, 616)\n"
     ]
    }
   ],
   "source": [
    "vectorizer1 = TFIDF_W2V(X_train_title)\n",
    "temp_1 = getTFIDF_W2V(X_train_title, vectorizer1)\n",
    "\n",
    "vectorizer2 = TFIDF_W2V(X_train_essay)\n",
    "temp_2 = getTFIDF_W2V(X_train_essay, vectorizer2)\n",
    "\n",
    "temp_1 = np.column_stack((temp_1, temp_2,\n",
    "                            sentiment_anayser(X_train_essay)))\n",
    "temp_1 = np.column_stack((temp_1, xtrain.values))\n",
    "\n",
    "print(\"Final_Train_Matrix : \", temp_1.shape)\n",
    "\n",
    "essay_ = getTFIDF_W2V(X_test_essay, vectorizer2)\n",
    "temp_2 = getTFIDF_W2V(X_test_title, vectorizer1)\n",
    "temp_2 = np.column_stack((temp_2, essay_, sentiment_anayser(X_test_essay)))\n",
    "temp_2 = np.column_stack((temp_2, xtest.values))\n",
    "print(\"Final_Test_Matrix : \", temp_2.shape)"
   ]
  },
  {
   "cell_type": "code",
   "execution_count": 40,
   "metadata": {
    "id": "k0GFY-PYk5Yx"
   },
   "outputs": [],
   "source": [
    "clf = lgb.LGBMClassifier(min_child_samples = 500, max_depth = 5, device=\"gpu\", random_state=300, silent=True, metric='auc', n_jobs=-1)\n",
    "clf.fit(temp_1, ytrain)\n",
    "Y_pred = clf.predict(temp_2)"
   ]
  },
  {
   "cell_type": "markdown",
   "metadata": {
    "id": "NHVE03hXKHk-"
   },
   "source": [
    "## **1.7 Confusion - Matrix**"
   ]
  },
  {
   "cell_type": "code",
   "execution_count": 41,
   "metadata": {
    "colab": {
     "base_uri": "https://localhost:8080/",
     "height": 344
    },
    "id": "JxUkwkFzJf-r",
    "outputId": "f4e78deb-62b9-4032-d2c0-d57202c376b8"
   },
   "outputs": [
    {
     "data": {
      "image/png": "[encoded data removed]",
      "text/plain": [
       "<Figure size 360x360 with 1 Axes>"
      ]
     },
     "metadata": {
      "needs_background": "light",
      "tags": []
     },
     "output_type": "display_data"
    }
   ],
   "source": [
    "from mlxtend.plotting import plot_confusion_matrix\n",
    "\n",
    "font = {\n",
    "'family' : 'DejaVu Sans',\n",
    "'weight' : 'bold',\n",
    "'size' : '16'\n",
    "}\n",
    "plt.rc('font', **font)\n",
    "mat = confusion_matrix(ytest, Y_pred)\n",
    "plot_confusion_matrix(conf_mat=mat, figsize=(5,5), show_normed=True);"
   ]
  },
  {
   "cell_type": "markdown",
   "metadata": {
    "id": "ak0BAQ9SMYKg"
   },
   "source": [
    "## **1.8 AUC Score**"
   ]
  },
  {
   "cell_type": "code",
   "execution_count": 44,
   "metadata": {
    "colab": {
     "base_uri": "https://localhost:8080/"
    },
    "id": "w6dZZ994J8nJ",
    "outputId": "eb0e9f50-a96b-4720-aab2-90b12cd3cc48"
   },
   "outputs": [
    {
     "name": "stdout",
     "output_type": "stream",
     "text": [
      "train_roc_auc_score :  0.5288673359535072 \n",
      "\n",
      "test_roc_auc_score :  0.5143780073662038 \n",
      "\n",
      "train_auc_score :  0.8264402979328005 \n",
      "\n",
      "test_auc_score :  0.7057330476443617 \n",
      "\n"
     ]
    }
   ],
   "source": [
    "from sklearn.metrics import auc, roc_curve\n",
    "\n",
    "print(\"train_roc_auc_score : \" , roc_auc_score(ytrain, clf.predict(temp_1)),\n",
    "      '\\n')\n",
    "print(\"test_roc_auc_score : \", roc_auc_score(ytest, Y_pred), \n",
    "      '\\n')\n",
    "\n",
    "probs = clf.predict_proba(temp_1)\n",
    "probs = probs[:, 1]\n",
    "train_fpr, train_tpr, train_thresholds = roc_curve(ytrain, probs)\n",
    "probs = clf.predict_proba(temp_2)\n",
    "probs = probs[:, 1]\n",
    "test_fpr, test_tpr, test_thresholds = roc_curve(ytest, probs)\n",
    "print(\"train_auc_score : \" , auc(train_fpr, train_tpr), '\\n')\n",
    "print(\"test_auc_score : \", auc(test_fpr, test_tpr), '\\n')\n"
   ]
  },
  {
   "cell_type": "code",
   "execution_count": 45,
   "metadata": {
    "colab": {
     "base_uri": "https://localhost:8080/",
     "height": 410
    },
    "id": "J_8reyoUMwcX",
    "outputId": "4227ed8d-5cf8-444a-ed78-bd61f1514bc8"
   },
   "outputs": [
    {
     "name": "stdout",
     "output_type": "stream",
     "text": [
      "train_auc_score :  0.8264402979328005 \n",
      "\n",
      "\n",
      "test_auc_score :  0.7057330476443617 \n",
      "\n",
      "\n"
     ]
    },
    {
     "data": {
      "image/png": "[encoded data removed]",
      "text/plain": [
       "<Figure size 432x288 with 1 Axes>"
      ]
     },
     "metadata": {
      "tags": []
     },
     "output_type": "display_data"
    }
   ],
   "source": [
    "import matplotlib.pyplot as plt\n",
    "import seaborn as sns\n",
    "\n",
    "sns.set(style=\"ticks\")\n",
    "sns.set(style='darkgrid')\n",
    "\n",
    "print(\"train_auc_score : \" , auc(train_fpr, train_tpr), \"\\n\\n\")\n",
    "print(\"test_auc_score : \", auc(test_fpr, test_tpr), \"\\n\\n\")\n",
    "\n",
    "\n",
    "plt.plot(train_fpr, train_tpr, color='orange', label='_train_ROC')\n",
    "plt.plot(test_fpr, test_tpr, color='green', label='_test_ROC')\n",
    "plt.plot([0, 1], [0, 1], color='darkblue', linestyle='--')\n",
    "plt.xlabel('False Positive Rate')\n",
    "plt.ylabel('True Positive Rate')\n",
    "plt.title('Receiver Operating Characteristic (ROC) Curve')\n",
    "plt.legend(['train_AUC', 'test_AUC', 'AUC_Boundary'])\n",
    "plt.show();"
   ]
  },
  {
   "cell_type": "markdown",
   "metadata": {
    "id": "rWCNdXXOOJ9L"
   },
   "source": [
    "# **RESULT**"
   ]
  },
  {
   "cell_type": "code",
   "execution_count": 46,
   "metadata": {
    "colab": {
     "base_uri": "https://localhost:8080/"
    },
    "id": "r5dRsgYnNwZv",
    "outputId": "27d7984a-3c09-414f-d64f-0efbd8775069"
   },
   "outputs": [
    {
     "name": "stdout",
     "output_type": "stream",
     "text": [
      "+------------+-----------+------------------------------------------+-----------+----------+\n",
      "| Vectorizer |   Model   |             Hyper_Parameter              | Train_AUC | Test_AUC |\n",
      "+------------+-----------+------------------------------------------+-----------+----------+\n",
      "| TFIDF-W2V  | LightGBDT |  max_depth : 5, min_child_samples :500   |    0.89   | 0.71(CV) |\n",
      "|   TFIDF    | LightGBDT | max_depth : 100, min_child_samples : 100 |    0.82   | 0.70(CV) |\n",
      "| TFIDF-W2V  | LightGBDT |  max_depth : 5, min_child_samples : 500  |    0.82   |   0.7    |\n",
      "+------------+-----------+------------------------------------------+-----------+----------+\n"
     ]
    }
   ],
   "source": [
    "from prettytable import PrettyTable\n",
    "x = PrettyTable()\n",
    "\n",
    "x.field_names = [\"Vectorizer\", \"Model\", \"Hyper_Parameter\", \"Train_AUC\", \n",
    "                 \"Test_AUC\"]\n",
    "\n",
    "x.add_row([\"TFIDF-W2V\",'LightGBDT', 'max_depth : 5, min_child_samples :500',\n",
    "           0.89, '0.71(CV)'])\n",
    "\n",
    "x.add_row([\"TFIDF\", 'LightGBDT', 'max_depth : 100, min_child_samples : 100',\n",
    "           0.82, '0.70(CV)'])\n",
    "\n",
    "x.add_row([\"TFIDF-W2V\", 'LightGBDT', 'max_depth : 5, min_child_samples : 500',\n",
    "           0.82, 0.70])\n",
    "\n",
    "print(x)"
   ]
  }
 ],
 "metadata": {
  "accelerator": "GPU",
  "colab": {
   "collapsed_sections": [],
   "name": "GBDT_Assignment_v1.ipynb",
   "provenance": []
  },
  "kernelspec": {
   "display_name": "Python 3",
   "language": "python",
   "name": "python3"
  },
  "language_info": {
   "codemirror_mode": {
    "name": "ipython",
    "version": 3
   },
   "file_extension": ".py",
   "mimetype": "text/x-python",
   "name": "python",
   "nbconvert_exporter": "python",
   "pygments_lexer": "ipython3",
   "version": "3.8.0"
  }
 },
 "nbformat": 4,
 "nbformat_minor": 1
}
