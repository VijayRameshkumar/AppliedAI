{
  "nbformat": 4,
  "nbformat_minor": 0,
  "metadata": {
    "colab": {
      "name": "Clustering helper functions.ipynb",
      "provenance": [],
      "collapsed_sections": []
    },
    "kernelspec": {
      "name": "python3",
      "display_name": "Python 3"
    }
  },
  "cells": [
    {
      "cell_type": "markdown",
      "metadata": {
        "id": "NYqoIfuYfB9C",
        "colab_type": "text"
      },
      "source": [
        "# <Font color='Red'>Importing packages </font>"
      ]
    },
    {
      "cell_type": "code",
      "metadata": {
        "id": "ZxFq72MXdFHh",
        "colab_type": "code",
        "colab": {}
      },
      "source": [
        "import networkx as nx # importing networkx library , networkx is used for  creation, manipulation, and study of the structure, dynamics, and functions of complex networks.\n",
        "# refer link : https://networkx.github.io/documentation/stable/ for more details"
      ],
      "execution_count": 0,
      "outputs": []
    },
    {
      "cell_type": "markdown",
      "metadata": {
        "id": "88gAV3NMyFZb",
        "colab_type": "text"
      },
      "source": [
        "**Creating a empty graph**"
      ]
    },
    {
      "cell_type": "code",
      "metadata": {
        "id": "812gfHtMfg3S",
        "colab_type": "code",
        "colab": {}
      },
      "source": [
        "G=nx.Graph() # with nx.Graph(), we are creating a empty graph "
      ],
      "execution_count": 0,
      "outputs": []
    },
    {
      "cell_type": "markdown",
      "metadata": {
        "id": "bGxjdjj2yZMH",
        "colab_type": "text"
      },
      "source": [
        "**Adding nodes to graph**"
      ]
    },
    {
      "cell_type": "code",
      "metadata": {
        "id": "wEzcJQwogQaV",
        "colab_type": "code",
        "colab": {}
      },
      "source": [
        "G.add_node(1) # we can add nodes to graphs using add_node \n",
        "# node can be either string or a number"
      ],
      "execution_count": 0,
      "outputs": []
    },
    {
      "cell_type": "code",
      "metadata": {
        "id": "PSDYQGmcgXYs",
        "colab_type": "code",
        "outputId": "646fe6f6-bd7c-4b0a-b9d4-eb3aca29f79d",
        "colab": {
          "base_uri": "https://localhost:8080/",
          "height": 248
        }
      },
      "source": [
        "nx.draw_networkx(G,node_color='lightGreen') #draw_networkX is used to display the graph\n",
        "#Here G is a graph\n",
        "# with node_color ,we will specify the color of node.\n",
        "# refer : https://networkx.github.io/documentation/networkx-1.9/reference/generated/networkx.drawing.nx_pylab.draw_networkx.html for more details."
      ],
      "execution_count": 0,
      "outputs": [
        {
          "output_type": "display_data",
          "data": {
            "image/png": "[encoded data removed]",
            "text/plain": [
              "<Figure size 432x288 with 1 Axes>"
            ]
          },
          "metadata": {
            "tags": []
          }
        }
      ]
    },
    {
      "cell_type": "code",
      "metadata": {
        "id": "gTbjn0WwhHjQ",
        "colab_type": "code",
        "colab": {}
      },
      "source": [
        "G.add_node('AAIC') # you can add string as a node\n",
        "G.add_node(2) "
      ],
      "execution_count": 0,
      "outputs": []
    },
    {
      "cell_type": "code",
      "metadata": {
        "id": "a69LF4K9hMjV",
        "colab_type": "code",
        "outputId": "91eec6e1-5e39-449a-9bb8-324470a79c1d",
        "colab": {
          "base_uri": "https://localhost:8080/",
          "height": 248
        }
      },
      "source": [
        "nx.draw_networkx(G,node_color='lightgreen')"
      ],
      "execution_count": 0,
      "outputs": [
        {
          "output_type": "display_data",
          "data": {
            "image/png": "[encoded data removed]",
            "text/plain": [
              "<Figure size 432x288 with 1 Axes>"
            ]
          },
          "metadata": {
            "tags": []
          }
        }
      ]
    },
    {
      "cell_type": "markdown",
      "metadata": {
        "id": "h4oG-WqDzotE",
        "colab_type": "text"
      },
      "source": [
        "**Adding edges between nodes**"
      ]
    },
    {
      "cell_type": "code",
      "metadata": {
        "id": "h_GPjeHAhsu8",
        "colab_type": "code",
        "colab": {}
      },
      "source": [
        "G.add_edge('AAIC',1)\n",
        "G.add_edge('AAIC',2)\n",
        "G.add_edge(2,1)\n",
        "# refer : https://networkx.github.io/documentation/stable/reference/classes/generated/networkx.Graph.add_edge.html for more details"
      ],
      "execution_count": 0,
      "outputs": []
    },
    {
      "cell_type": "code",
      "metadata": {
        "id": "3AakRXPniV7y",
        "colab_type": "code",
        "outputId": "dff74685-1c0f-4978-d1c6-002c965cbdc2",
        "colab": {
          "base_uri": "https://localhost:8080/",
          "height": 248
        }
      },
      "source": [
        "nx.draw_networkx(G,node_color='r')"
      ],
      "execution_count": 0,
      "outputs": [
        {
          "output_type": "display_data",
          "data": {
            "image/png": "[encoded data removed]",
            "text/plain": [
              "<Figure size 432x288 with 1 Axes>"
            ]
          },
          "metadata": {
            "tags": []
          }
        }
      ]
    },
    {
      "cell_type": "code",
      "metadata": {
        "id": "0T-mewGydfcB",
        "colab_type": "code",
        "colab": {}
      },
      "source": [
        "G=nx.Graph() # creating a empty graph\n",
        "G.add_edges_from([(1,2),(1,3),(1,4)])\n",
        "# with add_edges_from , we are adding nodes and edges to that nodes (if (1,2), then we are specifying that (1,2) are nodes and there is a edge between 1-->2)\n",
        "# refer : https://networkx.github.io/documentation/networkx-1.10/reference/generated/networkx.DiGraph.add_edges_from.html for more details."
      ],
      "execution_count": 0,
      "outputs": []
    },
    {
      "cell_type": "code",
      "metadata": {
        "id": "fgk6rZQodt0K",
        "colab_type": "code",
        "outputId": "eed28862-0be2-4684-8829-69e98288dde5",
        "colab": {
          "base_uri": "https://localhost:8080/",
          "height": 248
        }
      },
      "source": [
        "nx.draw_networkx(G,node_color='lightgreen')"
      ],
      "execution_count": 0,
      "outputs": [
        {
          "output_type": "display_data",
          "data": {
            "image/png": "[encoded data removed]",
            "text/plain": [
              "<Figure size 432x288 with 1 Axes>"
            ]
          },
          "metadata": {
            "tags": []
          }
        }
      ]
    },
    {
      "cell_type": "markdown",
      "metadata": {
        "id": "Mona9Im70PYQ",
        "colab_type": "text"
      },
      "source": [
        "**Number of nodes in graph**"
      ]
    },
    {
      "cell_type": "code",
      "metadata": {
        "id": "zRXbDuddetG_",
        "colab_type": "code",
        "outputId": "1bb824cb-3147-4a05-a703-f83661840aa4",
        "colab": {
          "base_uri": "https://localhost:8080/",
          "height": 34
        }
      },
      "source": [
        "G.number_of_nodes() # number of nodes() will return the total number of nodes in our graph\n",
        "# in our graph , we have 4 nodes [1,2,3,4]\n",
        "# refer : https://networkx.github.io/documentation/networkx-1.10/reference/generated/networkx.DiGraph.number_of_nodes.html for more details."
      ],
      "execution_count": 0,
      "outputs": [
        {
          "output_type": "execute_result",
          "data": {
            "text/plain": [
              "4"
            ]
          },
          "metadata": {
            "tags": []
          },
          "execution_count": 11
        }
      ]
    },
    {
      "cell_type": "markdown",
      "metadata": {
        "id": "P9Btpn5l0fzd",
        "colab_type": "text"
      },
      "source": [
        "**Number of edges in graph**"
      ]
    },
    {
      "cell_type": "code",
      "metadata": {
        "id": "1omXrtMkkIhc",
        "colab_type": "code",
        "outputId": "c3837898-4bdc-4026-de2c-ff775d334e9c",
        "colab": {
          "base_uri": "https://localhost:8080/",
          "height": 34
        }
      },
      "source": [
        "G.number_of_edges() # number_of_edges() will return the total number of edges in our graph\n",
        "# in our graph, we have 3 edges [1-->2,1-->3,1-->4]\n",
        "# refer : https://networkx.github.io/documentation/networkx-1.10/reference/generated/networkx.DiGraph.number_of_edges.html for more details."
      ],
      "execution_count": 0,
      "outputs": [
        {
          "output_type": "execute_result",
          "data": {
            "text/plain": [
              "3"
            ]
          },
          "metadata": {
            "tags": []
          },
          "execution_count": 12
        }
      ]
    },
    {
      "cell_type": "markdown",
      "metadata": {
        "id": "xKprgTbH02Jl",
        "colab_type": "text"
      },
      "source": [
        "**Nodes in graph**"
      ]
    },
    {
      "cell_type": "code",
      "metadata": {
        "id": "OCbLJoXWkiMR",
        "colab_type": "code",
        "outputId": "1492685a-9ad9-4632-c57c-0303a90e15cd",
        "colab": {
          "base_uri": "https://localhost:8080/",
          "height": 34
        }
      },
      "source": [
        "G.nodes() # nodes() will return all the nodes in our graph\n",
        "#refer : https://networkx.github.io/documentation/networkx-1.10/reference/generated/networkx.Graph.nodes.html for more details"
      ],
      "execution_count": 0,
      "outputs": [
        {
          "output_type": "execute_result",
          "data": {
            "text/plain": [
              "NodeView((1, 2, 3, 4))"
            ]
          },
          "metadata": {
            "tags": []
          },
          "execution_count": 13
        }
      ]
    },
    {
      "cell_type": "markdown",
      "metadata": {
        "id": "afQ9dSdG1X45",
        "colab_type": "text"
      },
      "source": [
        "**Edges in graph**"
      ]
    },
    {
      "cell_type": "code",
      "metadata": {
        "id": "0rfNo4iJkxFM",
        "colab_type": "code",
        "outputId": "7e26c254-49e5-4d8c-e5af-490447ec80a1",
        "colab": {
          "base_uri": "https://localhost:8080/",
          "height": 34
        }
      },
      "source": [
        "G.edges() # will return all the edges in our graph\n",
        "# refer : https://networkx.github.io/documentation/networkx-1.10/reference/generated/networkx.Graph.edges.html for more details."
      ],
      "execution_count": 0,
      "outputs": [
        {
          "output_type": "execute_result",
          "data": {
            "text/plain": [
              "EdgeView([(1, 2), (1, 3), (1, 4)])"
            ]
          },
          "metadata": {
            "tags": []
          },
          "execution_count": 14
        }
      ]
    },
    {
      "cell_type": "markdown",
      "metadata": {
        "id": "Cf5ZO4JT1oC4",
        "colab_type": "text"
      },
      "source": [
        "**Degree in graph**"
      ]
    },
    {
      "cell_type": "code",
      "metadata": {
        "id": "PeVA2X1Qk6I8",
        "colab_type": "code",
        "outputId": "caa434a7-d2c9-42bc-a59c-4066d711eda6",
        "colab": {
          "base_uri": "https://localhost:8080/",
          "height": 34
        }
      },
      "source": [
        " G.degree() # degree() will return the key value pair [key --> node , value --> number of edges with that node ]\n",
        " #refer : https://networkx.github.io/documentation/networkx-1.10/reference/generated/networkx.DiGraph.degree.html for more details."
      ],
      "execution_count": 0,
      "outputs": [
        {
          "output_type": "execute_result",
          "data": {
            "text/plain": [
              "DegreeView({1: 3, 2: 1, 3: 1, 4: 1})"
            ]
          },
          "metadata": {
            "tags": []
          },
          "execution_count": 15
        }
      ]
    },
    {
      "cell_type": "code",
      "metadata": {
        "id": "8nR0andalL6I",
        "colab_type": "code",
        "outputId": "758e17b6-0ff1-4ee9-eee6-9a200d42416e",
        "colab": {
          "base_uri": "https://localhost:8080/",
          "height": 34
        }
      },
      "source": [
        "G.degree(1) # you can also find the number of edges with a node"
      ],
      "execution_count": 0,
      "outputs": [
        {
          "output_type": "execute_result",
          "data": {
            "text/plain": [
              "3"
            ]
          },
          "metadata": {
            "tags": []
          },
          "execution_count": 16
        }
      ]
    },
    {
      "cell_type": "markdown",
      "metadata": {
        "id": "WZGLNsDH17l5",
        "colab_type": "text"
      },
      "source": [
        "**Neighbors in graph**"
      ]
    },
    {
      "cell_type": "code",
      "metadata": {
        "id": "sYjGnQfZmauL",
        "colab_type": "code",
        "outputId": "55e8af4a-79d4-41b5-b9f8-8cdeced624ca",
        "colab": {
          "base_uri": "https://localhost:8080/",
          "height": 34
        }
      },
      "source": [
        "G[1] # G[node] will return the neighbours for that node\n",
        "#refer : https://networkx.github.io/documentation/networkx-1.10/reference/generated/networkx.Graph.neighbors.html for more details."
      ],
      "execution_count": 0,
      "outputs": [
        {
          "output_type": "execute_result",
          "data": {
            "text/plain": [
              "AtlasView({2: {}, 3: {}, 4: {}})"
            ]
          },
          "metadata": {
            "tags": []
          },
          "execution_count": 17
        }
      ]
    },
    {
      "cell_type": "code",
      "metadata": {
        "id": "Jm52eWmTmoyX",
        "colab_type": "code",
        "outputId": "df79eb3f-25f1-4c94-d0d5-0e2956ae68d2",
        "colab": {
          "base_uri": "https://localhost:8080/",
          "height": 34
        }
      },
      "source": [
        "G [2]"
      ],
      "execution_count": 0,
      "outputs": [
        {
          "output_type": "execute_result",
          "data": {
            "text/plain": [
              "AtlasView({1: {}})"
            ]
          },
          "metadata": {
            "tags": []
          },
          "execution_count": 18
        }
      ]
    },
    {
      "cell_type": "code",
      "metadata": {
        "id": "uNEDxGl2m_5s",
        "colab_type": "code",
        "outputId": "b98d9e23-52af-4fb8-d5eb-3133aaa9007a",
        "colab": {
          "base_uri": "https://localhost:8080/",
          "height": 34
        }
      },
      "source": [
        "len(G[1]) # total number of neighbors with that node"
      ],
      "execution_count": 0,
      "outputs": [
        {
          "output_type": "execute_result",
          "data": {
            "text/plain": [
              "3"
            ]
          },
          "metadata": {
            "tags": []
          },
          "execution_count": 19
        }
      ]
    },
    {
      "cell_type": "markdown",
      "metadata": {
        "id": "uD3kUqih2VVB",
        "colab_type": "text"
      },
      "source": [
        "**Graph**"
      ]
    },
    {
      "cell_type": "code",
      "metadata": {
        "id": "5m_CKbuhr7WY",
        "colab_type": "code",
        "outputId": "cf3d66be-5cf9-47e4-cc37-cc79abeae220",
        "colab": {
          "base_uri": "https://localhost:8080/",
          "height": 248
        }
      },
      "source": [
        "G=nx.Graph()\n",
        "G.add_edges_from([(2,3),(3,5),(1,2),(4,6),(6,5),(7,6),(3,2),(4,1),(3,1),(2,5),(6,1),(2,7),(7,3)])\n",
        "nx.draw_networkx(G,node_color='lightblue')"
      ],
      "execution_count": 0,
      "outputs": [
        {
          "output_type": "display_data",
          "data": {
            "image/png": "[encoded data removed]",
            "text/plain": [
              "<Figure size 432x288 with 1 Axes>"
            ]
          },
          "metadata": {
            "tags": []
          }
        }
      ]
    },
    {
      "cell_type": "markdown",
      "metadata": {
        "id": "OyCnk5bO2dpv",
        "colab_type": "text"
      },
      "source": [
        "**Ego_graph**"
      ]
    },
    {
      "cell_type": "code",
      "metadata": {
        "id": "eCPDjKHps3qi",
        "colab_type": "code",
        "colab": {}
      },
      "source": [
        "G1=nx.Graph() # creating a empty graph"
      ],
      "execution_count": 0,
      "outputs": []
    },
    {
      "cell_type": "code",
      "metadata": {
        "id": "qJSxkc-ynKwg",
        "colab_type": "code",
        "colab": {}
      },
      "source": [
        "sub_graph1=nx.ego_graph(G,2) # with ego_graph , we can create subgraphs\n",
        "# refer https://networkx.github.io/documentation/stable/reference/generated/networkx.generators.ego.ego_graph.html  for more details"
      ],
      "execution_count": 0,
      "outputs": []
    },
    {
      "cell_type": "code",
      "metadata": {
        "id": "xJgcqkQHnfd_",
        "colab_type": "code",
        "outputId": "c96d17e7-864a-4e69-fa4e-d256b6907db8",
        "colab": {
          "base_uri": "https://localhost:8080/",
          "height": 34
        }
      },
      "source": [
        "sub_graph1.nodes()"
      ],
      "execution_count": 0,
      "outputs": [
        {
          "output_type": "execute_result",
          "data": {
            "text/plain": [
              "NodeView((2, 3, 5, 1, 7))"
            ]
          },
          "metadata": {
            "tags": []
          },
          "execution_count": 28
        }
      ]
    },
    {
      "cell_type": "code",
      "metadata": {
        "id": "OBERxtExnhNw",
        "colab_type": "code",
        "outputId": "12473625-f81a-43ae-9aaf-17e71543e934",
        "colab": {
          "base_uri": "https://localhost:8080/",
          "height": 248
        }
      },
      "source": [
        "nx.draw_networkx(sub_graph1,node_color='red') # displaying sub graph "
      ],
      "execution_count": 0,
      "outputs": [
        {
          "output_type": "display_data",
          "data": {
            "image/png": "[encoded data removed]",
            "text/plain": [
              "<Figure size 432x288 with 1 Axes>"
            ]
          },
          "metadata": {
            "tags": []
          }
        }
      ]
    },
    {
      "cell_type": "markdown",
      "metadata": {
        "id": "DLrrw4x32kA1",
        "colab_type": "text"
      },
      "source": [
        "**Adding nodes and edges of one graph to other graph**"
      ]
    },
    {
      "cell_type": "markdown",
      "metadata": {
        "id": "5kMz1LbG3RyX",
        "colab_type": "text"
      },
      "source": [
        " Combining two are more graphs: https://stackoverflow.com/a/32652764/4084039\""
      ]
    },
    {
      "cell_type": "code",
      "metadata": {
        "id": "Km1JAVhitGDo",
        "colab_type": "code",
        "colab": {}
      },
      "source": [
        "G1.add_nodes_from(sub_graph1.nodes) # adding nodes \n",
        "G1.add_edges_from(sub_graph1.edges()) # adding edges  "
      ],
      "execution_count": 0,
      "outputs": []
    },
    {
      "cell_type": "code",
      "metadata": {
        "id": "0mXWazQen8lq",
        "colab_type": "code",
        "colab": {}
      },
      "source": [
        "sub_graph2=nx.ego_graph(G,1) # creating a sub graph "
      ],
      "execution_count": 0,
      "outputs": []
    },
    {
      "cell_type": "code",
      "metadata": {
        "id": "N32NuhLCsw-7",
        "colab_type": "code",
        "outputId": "5868b2cc-6fdc-40be-e7a1-9eafd11bc467",
        "colab": {
          "base_uri": "https://localhost:8080/",
          "height": 248
        }
      },
      "source": [
        "nx.draw_networkx(sub_graph2,node_color='red')"
      ],
      "execution_count": 0,
      "outputs": [
        {
          "output_type": "display_data",
          "data": {
            "image/png": "[encoded data removed]",
            "text/plain": [
              "<Figure size 432x288 with 1 Axes>"
            ]
          },
          "metadata": {
            "tags": []
          }
        }
      ]
    },
    {
      "cell_type": "markdown",
      "metadata": {
        "id": "_PSyP_aG3XtC",
        "colab_type": "text"
      },
      "source": [
        " Combining two are more graphs: https://stackoverflow.com/a/32652764/4084039"
      ]
    },
    {
      "cell_type": "code",
      "metadata": {
        "id": "rRD-wRTMsyky",
        "colab_type": "code",
        "colab": {}
      },
      "source": [
        "G1.add_nodes_from(sub_graph2.nodes) # adding edges\n",
        "G1.add_edges_from(sub_graph2.edges()) # adding edges  "
      ],
      "execution_count": 0,
      "outputs": []
    },
    {
      "cell_type": "markdown",
      "metadata": {
        "id": "AF7W7g903bH9",
        "colab_type": "text"
      },
      "source": [
        "**Created graph (sub_graph1+sub_graph2)**"
      ]
    },
    {
      "cell_type": "code",
      "metadata": {
        "id": "5IhbZFJftcxQ",
        "colab_type": "code",
        "outputId": "ee0d4f2d-a25f-4883-fe86-42330dafb5bc",
        "colab": {
          "base_uri": "https://localhost:8080/",
          "height": 248
        }
      },
      "source": [
        "nx.draw_networkx(G1,node_color='cyan')"
      ],
      "execution_count": 0,
      "outputs": [
        {
          "output_type": "display_data",
          "data": {
            "image/png": "[encoded data removed]",
            "text/plain": [
              "<Figure size 432x288 with 1 Axes>"
            ]
          },
          "metadata": {
            "tags": []
          }
        }
      ]
    },
    {
      "cell_type": "markdown",
      "metadata": {
        "id": "SfGny28suVGM",
        "colab_type": "text"
      },
      "source": [
        "**Please check <font color='blue'> https://networkx.github.io/documentation/networkx-1.10/tutorial/tutorial.html </font> for more details**"
      ]
    }
  ]
}